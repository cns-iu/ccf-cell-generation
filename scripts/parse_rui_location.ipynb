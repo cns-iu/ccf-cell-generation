{
 "cells": [
  {
   "cell_type": "code",
   "execution_count": 12,
   "metadata": {
    "collapsed": true
   },
   "outputs": [],
   "source": [
    "import collections\n",
    "import urllib.request\n",
    "import json\n",
    "import requests\n",
    "import csv\n",
    "import os\n",
    "import shutil\n",
    "import collections"
   ]
  },
  {
   "cell_type": "code",
   "execution_count": 3,
   "outputs": [],
   "source": [
    "url_tissue_rui = \"https://ccf-api.hubmapconsortium.org/v1/hubmap/rui_locations.jsonld\"\n",
    "url_reference_organ_data = \"https://hubmapconsortium.github.io/ccf-ui/rui/assets/reference-organ-data.json\"\n",
    "url_collision_detection = \"http://192.168.1.100:8080/get-collisions\""
   ],
   "metadata": {
    "collapsed": false,
    "pycharm": {
     "name": "#%%\n"
    }
   }
  },
  {
   "cell_type": "markdown",
   "source": [
    "Step 1: save all the hubmap datasets in one folder"
   ],
   "metadata": {
    "collapsed": false,
    "pycharm": {
     "name": "#%% md\n"
    }
   }
  },
  {
   "cell_type": "code",
   "execution_count": 8,
   "outputs": [],
   "source": [
    "def copy_csv_files_in_one_folder(input_dir, output_dir):\n",
    "\n",
    "    if not os.path.exists(output_dir):\n",
    "        os.makedirs(output_dir)\n",
    "\n",
    "    for folder in os.listdir(input_dir):\n",
    "        full_folder = os.path.join(input_dir, folder)\n",
    "        if os.path.isdir(full_folder):\n",
    "            for file_name in os.listdir(full_folder):\n",
    "                if file_name.startswith('HBM'):\n",
    "                    abs_file_path = os.path.join(full_folder, file_name)\n",
    "                    output_file_path = os.path.join(output_dir, file_name)\n",
    "                    shutil.copy(abs_file_path, output_file_path)"
   ],
   "metadata": {
    "collapsed": false,
    "pycharm": {
     "name": "#%%\n"
    }
   }
  },
  {
   "cell_type": "code",
   "execution_count": 10,
   "outputs": [],
   "source": [
    "input_dir = 'C:/Users/catherine/Desktop/research/hubmap/tissue-bar-graphs/csv'\n",
    "output_dir = 'C:/Users/catherine/Desktop/research/hubmap/ccf-cell-generation/hubmap_csv'\n",
    "copy_csv_files_in_one_folder(input_dir, output_dir)"
   ],
   "metadata": {
    "collapsed": false,
    "pycharm": {
     "name": "#%%\n"
    }
   }
  },
  {
   "cell_type": "markdown",
   "source": [
    "Step 2: for every tissue block, send a request and return the intersected volume and volume of AS."
   ],
   "metadata": {
    "collapsed": false,
    "pycharm": {
     "name": "#%% md\n"
    }
   }
  },
  {
   "cell_type": "code",
   "execution_count": 16,
   "outputs": [],
   "source": [
    "file_mapping_rui_uuid_hubmap_id = './csv/mapping_rui_uuid_hubmap_id.csv'\n",
    "file_mapping_rui_hubmap_id = './csv/mapping_rui_hubmap_id.csv'\n",
    "hubmap_csv_folder = output_dir\n",
    "\n",
    "mapping_rui_dataset_id = collections.defaultdict(list)\n",
    "\n",
    "with open(file_mapping_rui_uuid_hubmap_id, 'r', encoding='UTF8') as f:\n",
    "    csv_reader = csv.reader(f)\n",
    "    for row in csv_reader:\n",
    "        hubmap_id, uuid, rui = row\n",
    "        mapping_rui_dataset_id[rui].append(hubmap_id)\n",
    "\n",
    "with open(file_mapping_rui_hubmap_id, 'w', encoding='UTF8', newline=\"\") as f:\n",
    "    csv_writer = csv.writer(f)\n",
    "    for rui, hubmap_ids in mapping_rui_dataset_id.items():\n",
    "        csv_writer.writerow([rui] + hubmap_ids)"
   ],
   "metadata": {
    "collapsed": false,
    "pycharm": {
     "name": "#%%\n"
    }
   }
  },
  {
   "cell_type": "code",
   "execution_count": null,
   "outputs": [],
   "source": [
    "with open(file_mapping_rui_hubmap_id, 'r', encoding='UTF8') as f:\n",
    "    csv_reader = csv.reader(f)\n",
    "    for row in csv_reader:\n",
    "        rui_url = row[0]\n",
    "        hubmap_ids = row[1:]\n",
    "\n",
    "        for hubmap_id in hubmap_ids:\n",
    "            csv_path = os.path.join(hubmap_csv_folder, hubmap_id + '.csv')\n",
    "            dic_cell_type_count = collections.defaultdict(list)\n",
    "            dic_cell_type_avg_count = collections.Counter()\n",
    "            with open(csv_path, 'r', encoding='UTF8') as csv_file:\n",
    "                dataset_csv_reader = csv.reader(csv_file)\n",
    "                header = next(dataset_csv_reader)\n",
    "                cell_type_index = header.index('cell_type')\n",
    "                count_index = header.index('count')\n",
    "\n",
    "                for item_cell in dataset_csv_reader:\n",
    "                    dic_cell_type_count[item_cell[cell_type_index]].append(item_cell[count_index])\n",
    "\n",
    "                for cell, count_list in dic_cell_type_count.items():\n",
    "                    dic_cell_type_avg_count[cell] = sum(count_list) / len(count_list)\n",
    "\n",
    "\n",
    "        get_response = requests.get(rui_url).json()\n",
    "        rui_location = get_response['rui_location']\n",
    "        post_response = requests.post(url=url_collision_detection, json=rui_location)\n",
    "\n",
    "        mapping_AS_cell_type_count = collections.defaultdict(dict)\n",
    "\n",
    "        try:\n",
    "            post_response = post_response.json()\n",
    "            for AS_item in post_response:\n",
    "                percentage_of_AS = AS_item['percentage_of_AS']\n",
    "                organ = AS_item['organ']\n",
    "                node_name = AS_item['node_name']\n",
    "                for cell, avg_count in dic_cell_type_avg_count.items():\n",
    "                    mapping_AS_cell_type_count[(organ, node_name)][cell] = avg_count / percentage_of_AS\n",
    "\n",
    "        except:\n",
    "            pass\n"
   ],
   "metadata": {
    "collapsed": false,
    "pycharm": {
     "name": "#%%\n"
    }
   }
  }
 ],
 "metadata": {
  "kernelspec": {
   "display_name": "Python 3",
   "language": "python",
   "name": "python3"
  },
  "language_info": {
   "codemirror_mode": {
    "name": "ipython",
    "version": 2
   },
   "file_extension": ".py",
   "mimetype": "text/x-python",
   "name": "python",
   "nbconvert_exporter": "python",
   "pygments_lexer": "ipython2",
   "version": "2.7.6"
  }
 },
 "nbformat": 4,
 "nbformat_minor": 0
}