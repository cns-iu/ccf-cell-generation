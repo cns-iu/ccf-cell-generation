{
 "cells": [
  {
   "cell_type": "code",
   "execution_count": 14,
   "metadata": {
    "collapsed": true
   },
   "outputs": [],
   "source": [
    "import collections\n",
    "import urllib.request\n",
    "import json\n",
    "import requests\n",
    "import csv\n",
    "import os\n",
    "import shutil\n",
    "import collections"
   ]
  },
  {
   "cell_type": "code",
   "execution_count": 2,
   "outputs": [],
   "source": [
    "url_tissue_rui = \"https://ccf-api.hubmapconsortium.org/v1/hubmap/rui_locations.jsonld\"\n",
    "url_reference_organ_data = \"https://hubmapconsortium.github.io/ccf-ui/rui/assets/reference-organ-data.json\"\n",
    "url_collision_detection = \"http://192.168.1.100:8080/get-collisions\""
   ],
   "metadata": {
    "collapsed": false
   }
  },
  {
   "cell_type": "markdown",
   "source": [
    "Step 1: save all the hubmap datasets in one folder"
   ],
   "metadata": {
    "collapsed": false
   }
  },
  {
   "cell_type": "code",
   "execution_count": 4,
   "outputs": [],
   "source": [
    "def copy_csv_files_in_one_folder(input_dir, output_dir):\n",
    "\n",
    "    if not os.path.exists(output_dir):\n",
    "        os.makedirs(output_dir)\n",
    "\n",
    "    for folder in os.listdir(input_dir):\n",
    "        full_folder = os.path.join(input_dir, folder)\n",
    "        if os.path.isdir(full_folder):\n",
    "            for file_name in os.listdir(full_folder):\n",
    "                if file_name.startswith('HBM'):\n",
    "                    abs_file_path = os.path.join(full_folder, file_name)\n",
    "                    output_file_path = os.path.join(output_dir, file_name)\n",
    "                    shutil.copy(abs_file_path, output_file_path)"
   ],
   "metadata": {
    "collapsed": false
   }
  },
  {
   "cell_type": "code",
   "execution_count": 4,
   "outputs": [],
   "source": [
    "input_dir = 'C:/Users/catherine/Desktop/research/hubmap/tissue-bar-graphs/csv'\n",
    "output_dir = '../hubmap_csv'\n",
    "# copy_csv_files_in_one_folder(input_dir, output_dir)"
   ],
   "metadata": {
    "collapsed": false
   }
  },
  {
   "cell_type": "markdown",
   "source": [
    "Step 2: for every tissue block, send a request and return the intersected volume and volume of AS."
   ],
   "metadata": {
    "collapsed": false
   }
  },
  {
   "cell_type": "code",
   "execution_count": 5,
   "outputs": [],
   "source": [
    "file_mapping_rui_uuid_hubmap_id = './csv/mapping_rui_uuid_hubmap_id.csv'\n",
    "file_mapping_rui_hubmap_id = './csv/mapping_rui_hubmap_id.csv'\n",
    "hubmap_csv_folder = output_dir"
   ],
   "metadata": {
    "collapsed": false,
    "pycharm": {
     "name": "#%%\n"
    }
   }
  },
  {
   "cell_type": "code",
   "execution_count": 11,
   "outputs": [],
   "source": [
    "mapping_rui_dataset_id = collections.defaultdict(list)\n",
    "\n",
    "with open(file_mapping_rui_uuid_hubmap_id, 'r', encoding='UTF8') as f:\n",
    "    csv_reader = csv.reader(f)\n",
    "    for row in csv_reader:\n",
    "        hubmap_id, uuid, rui = row\n",
    "        mapping_rui_dataset_id[rui].append(hubmap_id)\n",
    "\n",
    "with open(file_mapping_rui_hubmap_id, 'w', encoding='UTF8', newline=\"\") as f:\n",
    "    csv_writer = csv.writer(f)\n",
    "    for rui, hubmap_ids in mapping_rui_dataset_id.items():\n",
    "        csv_writer.writerow([rui] + hubmap_ids)"
   ],
   "metadata": {
    "collapsed": false
   }
  },
  {
   "cell_type": "code",
   "execution_count": 15,
   "outputs": [
    {
     "name": "stdout",
     "output_type": "stream",
     "text": [
      "[{'AS_volume': 79298257.82507588, 'id': 'http://purl.org/ccf/latest/ccf.owl#VHFemaleOrgans_VH_F_skin', 'intersection_volume': 386.078, 'is_closed': True, 'label': 'skin of body', 'node_name': 'VH_F_skin', 'organ': 'VH_F_Skin', 'percentage_of_AS': 4.868681993640388e-06, 'percentage_of_tissue_block': 0.109, 'representation_of': 'http://purl.obolibrary.org/obo/UBERON_0002097', 'tissue_volume': 3542}]\n",
      "[{'AS_volume': 79298257.82507588, 'id': 'http://purl.org/ccf/latest/ccf.owl#VHFemaleOrgans_VH_F_skin', 'intersection_volume': 2730, 'is_closed': True, 'label': 'skin of body', 'node_name': 'VH_F_skin', 'organ': 'VH_F_Skin', 'percentage_of_AS': 3.442698584907263e-05, 'percentage_of_tissue_block': 1, 'representation_of': 'http://purl.obolibrary.org/obo/UBERON_0002097', 'tissue_volume': 2730}]\n",
      "[{'AS_volume': 98509084.44623695, 'id': 'http://purl.org/ccf/latest/ccf.owl#VHMaleOrgans_VH_M_skin', 'intersection_volume': 644.436, 'is_closed': True, 'label': 'skin of body', 'node_name': 'VH_M_skin', 'organ': 'VH_M_Skin', 'percentage_of_AS': 6.541894116899565e-06, 'percentage_of_tissue_block': 0.081, 'representation_of': 'http://purl.obolibrary.org/obo/UBERON_0002097', 'tissue_volume': 7956}]\n",
      "[{'AS_volume': 98509084.44623695, 'id': 'http://purl.org/ccf/latest/ccf.owl#VHMaleOrgans_VH_M_skin', 'intersection_volume': 1386, 'is_closed': True, 'label': 'skin of body', 'node_name': 'VH_M_skin', 'organ': 'VH_M_Skin', 'percentage_of_AS': 1.4069768364931192e-05, 'percentage_of_tissue_block': 1, 'representation_of': 'http://purl.obolibrary.org/obo/UBERON_0002097', 'tissue_volume': 1386}]\n",
      "[{'AS_volume': 79298257.82507588, 'id': 'http://purl.org/ccf/latest/ccf.owl#VHFemaleOrgans_VH_F_skin', 'intersection_volume': 12.852, 'is_closed': True, 'label': 'skin of body', 'node_name': 'VH_F_skin', 'organ': 'VH_F_Skin', 'percentage_of_AS': 1.6207165645871114e-07, 'percentage_of_tissue_block': 0.007, 'representation_of': 'http://purl.obolibrary.org/obo/UBERON_0002097', 'tissue_volume': 1836}]\n",
      "[]\n",
      "[{'AS_volume': 98509084.44623695, 'id': 'http://purl.org/ccf/latest/ccf.owl#VHMaleOrgans_VH_M_skin', 'intersection_volume': 2352, 'is_closed': True, 'label': 'skin of body', 'node_name': 'VH_M_skin', 'organ': 'VH_M_Skin', 'percentage_of_AS': 2.3875970558671115e-05, 'percentage_of_tissue_block': 1, 'representation_of': 'http://purl.obolibrary.org/obo/UBERON_0002097', 'tissue_volume': 2352}]\n",
      "[{'AS_volume': 98509084.44623695, 'id': 'http://purl.org/ccf/latest/ccf.owl#VHMaleOrgans_VH_M_skin', 'intersection_volume': 1397.088, 'is_closed': True, 'label': 'skin of body', 'node_name': 'VH_M_skin', 'organ': 'VH_M_Skin', 'percentage_of_AS': 1.418232651185064e-05, 'percentage_of_tissue_block': 0.648, 'representation_of': 'http://purl.obolibrary.org/obo/UBERON_0002097', 'tissue_volume': 2156}]\n",
      "[{'AS_volume': 98509084.44623695, 'id': 'http://purl.org/ccf/latest/ccf.owl#VHMaleOrgans_VH_M_skin', 'intersection_volume': 1008, 'is_closed': True, 'label': 'skin of body', 'node_name': 'VH_M_skin', 'organ': 'VH_M_Skin', 'percentage_of_AS': 1.023255881085905e-05, 'percentage_of_tissue_block': 1, 'representation_of': 'http://purl.obolibrary.org/obo/UBERON_0002097', 'tissue_volume': 1008}]\n",
      "[]\n",
      "defaultdict(<class 'dict'>, {('VH_M_Kidney_R', 'VH_M_outer_cortex_of_kidney_R'): {'Afferent / Efferent Arteriole Endothelial': 54962, 'Ascending Thin Limb': 1832083, 'Ascending Vasa Recta Endothelial': 492372, 'B': 27481, 'Classical Dendritic': 84733, 'Connecting Tubule': 1813762, 'Connecting Tubule Intercalated Type A': 36641, 'Connecting Tubule Principal': 1126731, 'Cortical Collecting Duct Intercalated Type A': 2088574, 'Cortical Collecting Duct Principal': 879399, 'Cortical Thick Ascending Limb': 3398514, 'Cortical Vascular Smooth Muscle / Pericyte': 54962, 'Descending Thin Limb Type 1': 966423, 'Descending Thin Limb Type 2': 2640489, 'Descending Thin Limb Type 3': 96184, 'Descending Vasa Recta Endothelial ': 141986, 'Distal Convoluted Tubule Type 1': 6375649, 'Distal Convoluted Tubule Type 2': 476341, 'Fibroblast': 448860, 'Glomerular Capillary Endothelial': 567945, 'Inner Medullary Collecting Duct': 9476449, 'Intercalated Type B': 1016806, 'Lymphatic Endothelial': 9160, 'M2 Macrophage': 210689, 'Macula Densa': 192368, 'Mast': 9160, 'Medullary Fibroblast': 112215, 'Medullary Thick Ascending Limb': 27481, 'Mesangial': 64122, 'Monocyte-derived': 238170, 'Natural Killer T': 2290, 'Outer Medullary Collecting Duct Intercalated Type A': 18320, 'Outer Medullary Collecting Duct Principal': 41221, 'Papillary Tip Epithelial': 9160, 'Parietal Epithelial': 870239, 'Peritubular Capilary Endothelial ': 474051, 'Plasma': 27481, 'Podocyte': 806116, 'Proximal Tubule Epithelial Segment 1': 5981751, 'Proximal Tubule Epithelial Segment 2': 1786280, 'Proximal Tubule Epithelial Segment 3': 2427510, 'Renin-positive Juxtaglomerular Granular': 27481, 'Schwann / Neural': 9160, 'T': 311454, 'Vascular Smooth Muscle / Pericyte': 64122, 'Descending Vasa Recta Endothelial': 18320, 'Monocyte': 18320, 'Natural Killer / Natural Killer T': 109924, 'Neutrophil': 18320, 'Peritubular Capilary Endothelial': 1154212, 'Plasmacytoid Dendritic': 9160, 'Tissue-resident Macrophage': 357256}, ('VH_F_Skin', 'VH_F_skin'): {'CD68 \\n/ Macrophage': 468928384, 'T-Killer': 289995185, 'T-reg': 388716950, 'T-helper': 6527976717}, ('VH_F_Kidney_L', 'VH_F_renal_pyramid_L_h'): {'Afferent / Efferent Arteriole Endothelial': 448, 'Ascending Thin Limb': 40026, 'Ascending Vasa Recta Endothelial': 34821, 'Classical Dendritic': 89, 'Connecting Tubule': 1256, 'Connecting Tubule Intercalated Type A': 89, 'Connecting Tubule Principal': 448, 'Cortical Collecting Duct Intercalated Type A': 179, 'Cortical Collecting Duct Principal': 897, 'Cortical Thick Ascending Limb': 179, 'Cycling Mononuclear Phagocyte': 89, 'Descending Thin Limb Type 1': 1166, 'Descending Thin Limb Type 2': 448, 'Descending Thin Limb Type 3': 28629, 'Descending Vasa Recta Endothelial': 4128, 'Inner Medullary Collecting Duct': 169889, 'Intercalated Type B': 89, 'Lymphatic Endothelial': 269, 'Medullary Fibroblast': 49898, 'Monocyte': 448, 'Monocyte-derived': 3948, 'Natural Killer / Natural Killer T': 897, 'Neutrophil': 269, 'Outer Medullary Collecting Duct Intercalated Type A': 2064, 'Outer Medullary Collecting Duct Principal': 2153, 'Papillary Tip Epithelial': 897, 'Peritubular Capilary Endothelial': 807, 'Plasma': 89, 'Podocyte': 179, 'Proximal Tubule Epithelial Segment 1': 89, 'Renin-positive Juxtaglomerular Granular': 89, 'Schwann / Neural': 179, 'T': 2602, 'Tissue-resident Macrophage': 6012, 'Vascular Smooth Muscle / Pericyte': 2782}, ('VH_F_Kidney_R', 'VH_F_kidney_capsule_R'): {'Afferent / Efferent Arteriole Endothelial': 189211, 'B': 1297453, 'Classical Dendritic': 324363, 'Connecting Tubule': 5379024, 'Connecting Tubule Intercalated Type A': 54060, 'Connecting Tubule Principal': 4351874, 'Cortical Collecting Duct Intercalated Type A': 7811748, 'Cortical Collecting Duct Principal': 7676597, 'Cortical Thick Ascending Limb': 6135872, 'Cortical Vascular Smooth Muscle / Pericyte': 216242, 'Cycling Mononuclear Phagocyte': 81090, 'Descending Thin Limb Type 1': 135151, 'Descending Thin Limb Type 2': 54060, 'Descending Vasa Recta Endothelial': 81090, 'Distal Convoluted Tubule Type 1': 9271383, 'Distal Convoluted Tubule Type 2': 324363, 'Fibroblast': 2324603, 'Glomerular Capillary Endothelial': 2351633, 'Inner Medullary Collecting Duct': 108121, 'Intercalated Type B': 4541085, 'Lymphatic Endothelial': 648726, 'Macula Densa': 2135391, 'Mast': 702787, 'Medullary Thick Ascending Limb': 27030, 'Mesangial': 351393, 'Monocyte': 108121, 'Monocyte-derived': 1378543, 'Natural Killer / Natural Killer T': 432484, 'Outer Medullary Collecting Duct Principal': 54060, 'Papillary Tip Epithelial': 27030, 'Parietal Epithelial': 1216362, 'Peritubular Capilary Endothelial': 4297813, 'Plasma': 405454, 'Plasmacytoid Dendritic': 297333, 'Podocyte': 2513815, 'Proximal Tubule Epithelial Segment 1': 17110163, 'Proximal Tubule Epithelial Segment 2': 2405694, 'Proximal Tubule Epithelial Segment 3': 6135872, 'Schwann / Neural': 108121, 'T': 6838659, 'Tissue-resident Macrophage': 2621936, 'Vascular Smooth Muscle / Pericyte': 486544}, ('VH_F_Kidney_R', 'VH_F_outer_cortex_of_kidney_R'): {'Afferent / Efferent Arteriole Endothelial': 51332, 'B': 351993, 'Classical Dendritic': 87998, 'Connecting Tubule': 1459307, 'Connecting Tubule Intercalated Type A': 14666, 'Connecting Tubule Principal': 1180645, 'Cortical Collecting Duct Intercalated Type A': 2119295, 'Cortical Collecting Duct Principal': 2082629, 'Cortical Thick Ascending Limb': 1664636, 'Cortical Vascular Smooth Muscle / Pericyte': 58665, 'Cycling Mononuclear Phagocyte': 21999, 'Descending Thin Limb Type 1': 36666, 'Descending Thin Limb Type 2': 14666, 'Descending Vasa Recta Endothelial': 21999, 'Distal Convoluted Tubule Type 1': 2515288, 'Distal Convoluted Tubule Type 2': 87998, 'Fibroblast': 630655, 'Glomerular Capillary Endothelial': 637988, 'Inner Medullary Collecting Duct': 29332, 'Intercalated Type B': 1231977, 'Lymphatic Endothelial': 175996, 'Macula Densa': 579322, 'Mast': 190663, 'Medullary Thick Ascending Limb': 7333, 'Mesangial': 95331, 'Monocyte': 29332, 'Monocyte-derived': 373993, 'Natural Killer / Natural Killer T': 117331, 'Outer Medullary Collecting Duct Principal': 14666, 'Papillary Tip Epithelial': 7333, 'Parietal Epithelial': 329994, 'Peritubular Capilary Endothelial': 1165979, 'Plasma': 109998, 'Plasmacytoid Dendritic': 80665, 'Podocyte': 681987, 'Proximal Tubule Epithelial Segment 1': 4641916, 'Proximal Tubule Epithelial Segment 2': 652654, 'Proximal Tubule Epithelial Segment 3': 1664636, 'Schwann / Neural': 29332, 'T': 1855300, 'Tissue-resident Macrophage': 711320, 'Vascular Smooth Muscle / Pericyte': 131997}, ('VH_M_Kidney_L', 'VH_M_outer_cortex_of_kidney_L'): {'Afferent / Efferent Arteriole Endothelial': 417034, 'Ascending Vasa Recta Endothelial': 3427498, 'Connecting Tubule': 156387, 'Connecting Tubule Intercalated Type A': 2497, 'Connecting Tubule Principal': 208517, 'Cortical Collecting Duct Intercalated Type A': 508260, 'Cortical Collecting Duct Principal': 234581, 'Cortical Thick Ascending Limb': 5330216, 'Cortical Vascular Smooth Muscle / Pericyte': 65161, 'Descending Vasa Recta Endothelial': 4222470, 'Distal Convoluted Tubule Type 1': 156387, 'Distal Convoluted Tubule Type 2': 26064, 'Fibroblast': 821035, 'Glomerular Capillary Endothelial': 195484, 'Intercalated Type B': 39096, 'Macula Densa': 130323, 'Medullary Thick Ascending Limb': 20812607, 'Monocyte': 78193, 'Monocyte-derived': 208517, 'Natural Killer / Natural Killer T': 65161, 'Outer Medullary Collecting Duct Principal': 6450996, 'Parietal Epithelial': 104258, 'Peritubular Capilary Endothelial': 1355360, 'Podocyte': 117290, 'Proximal Tubule Epithelial Segment 1': 495227, 'Proximal Tubule Epithelial Segment 2': 26064, 'Proximal Tubule Epithelial Segment 3': 2410978, 'T': 104258, 'Tissue-resident Macrophage': 364904, 'Vascular Smooth Muscle / Pericyte': 1459619, 'B': 26064, 'Descending Thin Limb Type 1': 5265055, 'Descending Thin Limb Type 2': 4665568, 'Descending Vasa Recta Endothelial ': 4995, 'Inner Medullary Collecting Duct': 26064, 'Lymphatic Endothelial': 143355, 'M2 Macrophage': 149871, 'Medullary Fibroblast': 2684656, 'Outer Medullary Collecting Duct Intercalated Type A': 1120779, 'Peritubular Capilary Endothelial ': 104910, 'Plasma': 13032, 'Ascending Thin Limb': 13032, 'Cycling Mononuclear Phagocyte': 13032, 'Mast': 13032, 'Mesangial': 26064, 'Schwann / Neural': 52129}, ('VH_M_Kidney_R', 'VH_M_renal_pyramid_d'): {'Ascending Thin Limb': 3881, 'Ascending Vasa Recta Endothelial': 675, 'Connecting Tubule': 168, 'Cortical Collecting Duct Intercalated Type A': 168, 'Cortical Collecting Duct Principal': 1350, 'Descending Thin Limb Type 1': 1687, 'Descending Thin Limb Type 2': 843, 'Descending Thin Limb Type 3': 2531, 'Descending Vasa Recta Endothelial': 506, 'Inner Medullary Collecting Duct': 8607, 'Intercalated Type B': 168, 'Medullary Fibroblast': 5231, 'Monocyte-derived': 337, 'Natural Killer / Natural Killer T': 168, 'Outer Medullary Collecting Duct Principal': 675, 'Papillary Tip Epithelial': 168, 'Peritubular Capilary Endothelial': 337, 'Plasma': 168, 'T': 168, 'Vascular Smooth Muscle / Pericyte': 337}, ('VH_M_Kidney_R', 'VH_M_renal_papilla_R_d'): {'Ascending Thin Limb': 129, 'Ascending Vasa Recta Endothelial': 22, 'Connecting Tubule': 5, 'Cortical Collecting Duct Intercalated Type A': 5, 'Cortical Collecting Duct Principal': 45, 'Descending Thin Limb Type 1': 56, 'Descending Thin Limb Type 2': 28, 'Descending Thin Limb Type 3': 84, 'Descending Vasa Recta Endothelial': 16, 'Inner Medullary Collecting Duct': 288, 'Intercalated Type B': 5, 'Medullary Fibroblast': 175, 'Monocyte-derived': 11, 'Natural Killer / Natural Killer T': 5, 'Outer Medullary Collecting Duct Principal': 22, 'Papillary Tip Epithelial': 5, 'Peritubular Capilary Endothelial': 11, 'Plasma': 5, 'T': 5, 'Vascular Smooth Muscle / Pericyte': 11}, ('VH_F_Kidney_L', 'VH_F_renal_pyramid_L_j'): {'Afferent / Efferent Arteriole Endothelial': 4816, 'Ascending Thin Limb': 16323, 'Ascending Vasa Recta Endothelial': 81348, 'B': 267, 'Classical Dendritic': 267, 'Connecting Tubule': 1873, 'Connecting Tubule Principal': 2675, 'Cortical Collecting Duct Intercalated Type A': 1873, 'Cortical Collecting Duct Principal': 87502, 'Cortical Thick Ascending Limb': 29167, 'Cycling Mononuclear Phagocyte': 267, 'Descending Thin Limb Type 1': 45223, 'Descending Thin Limb Type 2': 34519, 'Descending Thin Limb Type 3': 31843, 'Descending Vasa Recta Endothelial': 62081, 'Fibroblast': 6154, 'Glomerular Capillary Endothelial': 267, 'Inner Medullary Collecting Duct': 6689, 'Macula Densa': 2943, 'Mast': 535, 'Medullary Fibroblast': 78672, 'Medullary Thick Ascending Limb': 183033, 'Monocyte': 535, 'Monocyte-derived': 3746, 'Natural Killer / Natural Killer T': 267, 'Neutrophil': 535, 'Outer Medullary Collecting Duct Intercalated Type A': 102487, 'Outer Medullary Collecting Duct Principal': 19534, 'Peritubular Capilary Endothelial': 21942, 'Proximal Tubule Epithelial Segment 1': 267, 'Proximal Tubule Epithelial Segment 3': 2408, 'Schwann / Neural': 267, 'T': 2675, 'Tissue-resident Macrophage': 15520, 'Vascular Smooth Muscle / Pericyte': 24886}, ('VH_M_Kidney_L', 'VH_M_renal_column_L'): {'Afferent / Efferent Arteriole Endothelial': 14770, 'Ascending Thin Limb': 461, 'Ascending Vasa Recta Endothelial': 121391, 'B': 923, 'Connecting Tubule': 5538, 'Connecting Tubule Principal': 7385, 'Cortical Collecting Duct Intercalated Type A': 18001, 'Cortical Collecting Duct Principal': 8308, 'Cortical Thick Ascending Limb': 188780, 'Cortical Vascular Smooth Muscle / Pericyte': 2307, 'Cycling Mononuclear Phagocyte': 461, 'Descending Thin Limb Type 1': 186472, 'Descending Thin Limb Type 2': 165240, 'Descending Vasa Recta Endothelial': 149547, 'Distal Convoluted Tubule Type 1': 5538, 'Distal Convoluted Tubule Type 2': 923, 'Fibroblast': 29078, 'Glomerular Capillary Endothelial': 6923, 'Inner Medullary Collecting Duct': 923, 'Intercalated Type B': 1384, 'Lymphatic Endothelial': 5077, 'Macula Densa': 4615, 'Mast': 461, 'Medullary Fibroblast': 95082, 'Medullary Thick Ascending Limb': 737121, 'Mesangial': 923, 'Monocyte': 2769, 'Monocyte-derived': 7385, 'Natural Killer / Natural Killer T': 2307, 'Outer Medullary Collecting Duct Intercalated Type A': 39694, 'Outer Medullary Collecting Duct Principal': 228475, 'Parietal Epithelial': 3692, 'Peritubular Capilary Endothelial': 48002, 'Plasma': 461, 'Podocyte': 4154, 'Proximal Tubule Epithelial Segment 1': 17539, 'Proximal Tubule Epithelial Segment 2': 923, 'Proximal Tubule Epithelial Segment 3': 85389, 'Schwann / Neural': 1846, 'T': 3692, 'Tissue-resident Macrophage': 12923, 'Vascular Smooth Muscle / Pericyte': 51695}, ('VH_M_Kidney_L', 'VH_M_renal_pyramid_L_e'): {'Afferent / Efferent Arteriole Endothelial': 6921, 'Ascending Thin Limb': 216, 'Ascending Vasa Recta Endothelial': 56888, 'B': 432, 'Connecting Tubule': 2595, 'Connecting Tubule Principal': 3460, 'Cortical Collecting Duct Intercalated Type A': 8435, 'Cortical Collecting Duct Principal': 3893, 'Cortical Thick Ascending Limb': 88469, 'Cortical Vascular Smooth Muscle / Pericyte': 1081, 'Cycling Mononuclear Phagocyte': 216, 'Descending Thin Limb Type 1': 87387, 'Descending Thin Limb Type 2': 77437, 'Descending Vasa Recta Endothelial': 70083, 'Distal Convoluted Tubule Type 1': 2595, 'Distal Convoluted Tubule Type 2': 432, 'Fibroblast': 13627, 'Glomerular Capillary Endothelial': 3244, 'Inner Medullary Collecting Duct': 432, 'Intercalated Type B': 648, 'Lymphatic Endothelial': 2379, 'Macula Densa': 2163, 'Mast': 216, 'Medullary Fibroblast': 44558, 'Medullary Thick Ascending Limb': 345440, 'Mesangial': 432, 'Monocyte': 1297, 'Monocyte-derived': 3460, 'Natural Killer / Natural Killer T': 1081, 'Outer Medullary Collecting Duct Intercalated Type A': 18602, 'Outer Medullary Collecting Duct Principal': 107071, 'Parietal Epithelial': 1730, 'Peritubular Capilary Endothelial': 22495, 'Plasma': 216, 'Podocyte': 1946, 'Proximal Tubule Epithelial Segment 1': 8219, 'Proximal Tubule Epithelial Segment 2': 432, 'Proximal Tubule Epithelial Segment 3': 40016, 'Schwann / Neural': 865, 'T': 1730, 'Tissue-resident Macrophage': 6056, 'Vascular Smooth Muscle / Pericyte': 24226}, ('VH_M_Kidney_L', 'VH_M_hilum_of_kidney_L'): {'Afferent / Efferent Arteriole Endothelial': 3842, 'Ascending Thin Limb': 120, 'Ascending Vasa Recta Endothelial': 31580, 'B': 240, 'Connecting Tubule': 1440, 'Connecting Tubule Principal': 1921, 'Cortical Collecting Duct Intercalated Type A': 4682, 'Cortical Collecting Duct Principal': 2161, 'Cortical Thick Ascending Limb': 49111, 'Cortical Vascular Smooth Muscle / Pericyte': 600, 'Cycling Mononuclear Phagocyte': 120, 'Descending Thin Limb Type 1': 48511, 'Descending Thin Limb Type 2': 42987, 'Descending Vasa Recta Endothelial': 38904, 'Distal Convoluted Tubule Type 1': 1440, 'Distal Convoluted Tubule Type 2': 240, 'Fibroblast': 7564, 'Glomerular Capillary Endothelial': 1801, 'Inner Medullary Collecting Duct': 240, 'Intercalated Type B': 360, 'Lymphatic Endothelial': 1320, 'Macula Densa': 1200, 'Mast': 120, 'Medullary Fibroblast': 24735, 'Medullary Thick Ascending Limb': 191762, 'Mesangial': 240, 'Monocyte': 720, 'Monocyte-derived': 1921, 'Natural Killer / Natural Killer T': 600, 'Outer Medullary Collecting Duct Intercalated Type A': 10326, 'Outer Medullary Collecting Duct Principal': 59438, 'Parietal Epithelial': 960, 'Peritubular Capilary Endothelial': 12487, 'Plasma': 120, 'Podocyte': 1080, 'Proximal Tubule Epithelial Segment 1': 4562, 'Proximal Tubule Epithelial Segment 2': 240, 'Proximal Tubule Epithelial Segment 3': 22214, 'Schwann / Neural': 480, 'T': 960, 'Tissue-resident Macrophage': 3362, 'Vascular Smooth Muscle / Pericyte': 13448}, ('VH_M_Skin', 'VH_M_skin'): {'CD68 \\n/ Macrophage': 13877271, 'T-Killer': 2736363, 'T-reg': 10359090, 'T-helper': 116784083}, ('VH_F_Kidney_R', 'VH_F_renal_pyramid_R_i'): {'Afferent / Efferent Arteriole Endothelial': 2204, 'Ascending Thin Limb': 17038, 'Ascending Vasa Recta Endothelial': 15400, 'B': 62, 'Connecting Tubule': 31, 'Connecting Tubule Principal': 157, 'Cortical Collecting Duct Intercalated Type A': 62, 'Cortical Collecting Duct Principal': 157, 'Cortical Thick Ascending Limb': 94, 'Cortical Vascular Smooth Muscle / Pericyte': 31, 'Cycling Mononuclear Phagocyte': 251, 'Descending Thin Limb Type 1': 944, 'Descending Thin Limb Type 2': 818, 'Descending Thin Limb Type 3': 10739, 'Descending Vasa Recta Endothelial': 13920, 'Fibroblast': 125, 'Glomerular Capillary Endothelial': 62, 'Inner Medullary Collecting Duct': 36753, 'Lymphatic Endothelial': 31, 'Mast': 220, 'Medullary Fibroblast': 40596, 'Medullary Thick Ascending Limb': 10959, 'Monocyte': 125, 'Monocyte-derived': 1070, 'Natural Killer / Natural Killer T': 188, 'Neutrophil': 62, 'Outer Medullary Collecting Duct Intercalated Type A': 3590, 'Outer Medullary Collecting Duct Principal': 1732, 'Papillary Tip Epithelial': 6897, 'Parietal Epithelial': 31, 'Peritubular Capilary Endothelial': 598, 'Plasma': 220, 'Proximal Tubule Epithelial Segment 1': 62, 'Proximal Tubule Epithelial Segment 3': 62, 'T': 1322, 'Tissue-resident Macrophage': 3495, 'Vascular Smooth Muscle / Pericyte': 5322}, ('VH_F_Kidney_L', 'VH_F_renal_pyramid_L_a'): {'Afferent / Efferent Arteriole Endothelial': 4421, 'Ascending Thin Limb': 22991, 'Ascending Vasa Recta Endothelial': 45098, 'Classical Dendritic': 884, 'Connecting Tubule': 7958, 'Connecting Tubule Principal': 2652, 'Cortical Collecting Duct Principal': 9727, 'Cortical Thick Ascending Limb': 1768, 'Descending Thin Limb Type 1': 48635, 'Descending Thin Limb Type 2': 14148, 'Descending Thin Limb Type 3': 49519, 'Descending Vasa Recta Endothelial': 22106, 'Distal Convoluted Tubule Type 1': 1768, 'Fibroblast': 884, 'Inner Medullary Collecting Duct': 127335, 'Lymphatic Endothelial': 1768, 'Macula Densa': 884, 'Mast': 16801, 'Medullary Fibroblast': 77816, 'Medullary Thick Ascending Limb': 2652, 'Monocyte': 884, 'Monocyte-derived': 9727, 'Natural Killer / Natural Killer T': 3537, 'Neutrophil': 2652, 'Outer Medullary Collecting Duct Principal': 39792, 'Papillary Tip Epithelial': 24759, 'Peritubular Capilary Endothelial': 20338, 'Plasma': 2652, 'Renin-positive Juxtaglomerular Granular': 884, 'T': 23875, 'Tissue-resident Macrophage': 9727, 'Vascular Smooth Muscle / Pericyte': 19454}})\n"
     ]
    }
   ],
   "source": [
    "mapping_AS_cell_type_count = collections.defaultdict(dict)\n",
    "\n",
    "with open(file_mapping_rui_hubmap_id, 'r', encoding='UTF8') as f:\n",
    "    csv_reader = csv.reader(f)\n",
    "    i = 0\n",
    "    for row in csv_reader:\n",
    "        if i == 0:\n",
    "            i = 1\n",
    "            continue\n",
    "\n",
    "        rui_url = row[0]\n",
    "        hubmap_ids = row[1:]\n",
    "\n",
    "        for hubmap_id in hubmap_ids:\n",
    "            csv_path = os.path.join(hubmap_csv_folder, hubmap_id + '.csv')\n",
    "            dic_cell_type_count = collections.defaultdict(list)\n",
    "            dic_cell_type_avg_count = collections.Counter()\n",
    "            with open(csv_path, 'r', encoding='UTF8') as csv_file:\n",
    "                dataset_csv_reader = csv.reader(csv_file)\n",
    "                header = next(dataset_csv_reader)\n",
    "                cell_type_index = header.index('cell_type')\n",
    "                count_index = header.index('count')\n",
    "\n",
    "                for item_cell in dataset_csv_reader:\n",
    "                    dic_cell_type_count[item_cell[cell_type_index]].append(float(item_cell[count_index]))\n",
    "\n",
    "                for cell, count_list in dic_cell_type_count.items():\n",
    "                    dic_cell_type_avg_count[cell] = sum(count_list) / len(count_list)\n",
    "\n",
    "\n",
    "        get_response = requests.get(rui_url).json()\n",
    "        rui_location = get_response['rui_location']\n",
    "        post_response = requests.post(url=url_collision_detection, json=rui_location)\n",
    "        target = rui_location['placement']['target']\n",
    "        try:\n",
    "            post_response = post_response.json()\n",
    "\n",
    "            if target.endswith('Skin'):\n",
    "                print(post_response)\n",
    "            for AS_item in post_response:\n",
    "                percentage_of_AS = AS_item['percentage_of_AS']\n",
    "                organ = AS_item['organ']\n",
    "                node_name = AS_item['node_name']\n",
    "                for cell, avg_count in dic_cell_type_avg_count.items():\n",
    "                    mapping_AS_cell_type_count[(organ, node_name)][cell] = int(avg_count / percentage_of_AS)\n",
    "        except:\n",
    "            pass\n",
    "\n",
    "print(mapping_AS_cell_type_count)"
   ],
   "metadata": {
    "collapsed": false
   }
  },
  {
   "cell_type": "code",
   "execution_count": 16,
   "outputs": [],
   "source": [
    "file_cell_type_count_per_AS = './csv/cell_type_count_per_AS.csv'\n",
    "\n",
    "with open(file_cell_type_count_per_AS, 'w', encoding='UTF-8', newline='') as f:\n",
    "    csv_writer = csv.writer(f)\n",
    "    for (organ, AS) in mapping_AS_cell_type_count:\n",
    "        dic_cell_type_count = mapping_AS_cell_type_count[(organ, AS)]\n",
    "\n",
    "        for cell_type, count in dic_cell_type_count.items():\n",
    "            csv_writer.writerow([organ, AS, cell_type, count])"
   ],
   "metadata": {
    "collapsed": false
   }
  },
  {
   "cell_type": "code",
   "execution_count": null,
   "outputs": [],
   "source": [],
   "metadata": {
    "collapsed": false,
    "pycharm": {
     "name": "#%%\n"
    }
   }
  }
 ],
 "metadata": {
  "kernelspec": {
   "display_name": "Python 3",
   "language": "python",
   "name": "python3"
  },
  "language_info": {
   "codemirror_mode": {
    "name": "ipython",
    "version": 2
   },
   "file_extension": ".py",
   "mimetype": "text/x-python",
   "name": "python",
   "nbconvert_exporter": "python",
   "pygments_lexer": "ipython2",
   "version": "2.7.6"
  }
 },
 "nbformat": 4,
 "nbformat_minor": 0
}