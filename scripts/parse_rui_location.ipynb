{
 "cells": [
  {
   "cell_type": "code",
   "execution_count": 2,
   "metadata": {
    "collapsed": true
   },
   "outputs": [],
   "source": [
    "import collections\n",
    "import urllib.request\n",
    "import json\n",
    "import requests\n",
    "import csv\n",
    "import os\n",
    "import shutil\n",
    "import collections"
   ]
  },
  {
   "cell_type": "code",
   "execution_count": 3,
   "outputs": [],
   "source": [
    "url_tissue_rui = \"https://ccf-api.hubmapconsortium.org/v1/hubmap/rui_locations.jsonld\"\n",
    "url_reference_organ_data = \"https://hubmapconsortium.github.io/ccf-ui/rui/assets/reference-organ-data.json\"\n",
    "url_collision_detection = \"http://192.168.1.100:8080/get-collisions\""
   ],
   "metadata": {
    "collapsed": false
   }
  },
  {
   "cell_type": "markdown",
   "source": [
    "Step 1: save all the hubmap datasets in one folder"
   ],
   "metadata": {
    "collapsed": false
   }
  },
  {
   "cell_type": "code",
   "execution_count": 4,
   "outputs": [],
   "source": [
    "def copy_csv_files_in_one_folder(input_dir, output_dir):\n",
    "\n",
    "    if not os.path.exists(output_dir):\n",
    "        os.makedirs(output_dir)\n",
    "\n",
    "    for folder in os.listdir(input_dir):\n",
    "        full_folder = os.path.join(input_dir, folder)\n",
    "        if os.path.isdir(full_folder):\n",
    "            for file_name in os.listdir(full_folder):\n",
    "                if file_name.endswith('.csv'):\n",
    "                    abs_file_path = os.path.join(full_folder, file_name)\n",
    "                    output_file_path = os.path.join(output_dir, file_name)\n",
    "\n",
    "                    if folder.find('CxG') >= 0:\n",
    "                        index = folder.find('CxG')\n",
    "                        organ = folder[:index-1]\n",
    "                        new_file_name = file_name[:-4] + '_' + organ + '.csv'\n",
    "                        output_file_path = os.path.join(output_dir, new_file_name)\n",
    "\n",
    "                    shutil.copy(abs_file_path, output_file_path)"
   ],
   "metadata": {
    "collapsed": false
   }
  },
  {
   "cell_type": "code",
   "execution_count": 5,
   "outputs": [],
   "source": [
    "input_dir = 'C:/Users/catherine/Desktop/research/hubmap/tissue-bar-graphs/csv'\n",
    "output_dir = '../all_csv_2'\n",
    "copy_csv_files_in_one_folder(input_dir, output_dir)"
   ],
   "metadata": {
    "collapsed": false
   }
  },
  {
   "cell_type": "markdown",
   "source": [
    "Step 2: for every tissue block, send a request and return the intersected volume and volume of AS."
   ],
   "metadata": {
    "collapsed": false
   }
  },
  {
   "cell_type": "code",
   "execution_count": 4,
   "outputs": [],
   "source": [
    "file_mapping_rui_uuid_hubmap_id = './csv/mapping_rui_uuid_hubmap_id.csv'\n",
    "file_mapping_rui_hubmap_id = './csv/mapping_rui_hubmap_id.csv'\n",
    "hubmap_csv_folder = output_dir"
   ],
   "metadata": {
    "collapsed": false,
    "pycharm": {
     "name": "#%%\n"
    }
   }
  },
  {
   "cell_type": "code",
   "execution_count": 8,
   "outputs": [],
   "source": [
    "mapping_rui_dataset_id = collections.defaultdict(list)\n",
    "\n",
    "with open(file_mapping_rui_uuid_hubmap_id, 'r', encoding='UTF8') as f:\n",
    "    csv_reader = csv.reader(f)\n",
    "    for row in csv_reader:\n",
    "        hubmap_id, uuid, rui = row\n",
    "        mapping_rui_dataset_id[rui].append(hubmap_id)\n",
    "\n",
    "with open(file_mapping_rui_hubmap_id, 'w', encoding='UTF8', newline=\"\") as f:\n",
    "    csv_writer = csv.writer(f)\n",
    "    for rui, hubmap_ids in mapping_rui_dataset_id.items():\n",
    "        csv_writer.writerow([rui] + hubmap_ids)"
   ],
   "metadata": {
    "collapsed": false
   }
  },
  {
   "cell_type": "code",
   "execution_count": 46,
   "outputs": [
    {
     "name": "stdout",
     "output_type": "stream",
     "text": [
      "VH_M_Kidney_R VH_M_renal_column_R Afferent / Efferent Arteriole Endothelial\n",
      "VH_M_Kidney_R VH_M_renal_column_R Ascending Thin Limb\n",
      "VH_F_Skin CD68 \n",
      "/ Macrophage [88466.59516537667, 70327.46847917805, 74976.07164909289]\n",
      "VH_F_Skin T-Killer [24034.277299264184, 8625.066888955798, 46366.7811514127]\n",
      "VH_F_Skin T-reg [80284.71353158461, 56394.6681200956, 62151.21728806384]\n",
      "VH_F_Skin T-helper [669380.1911646131, 479686.41236269556, 1043745.8395360563]\n",
      "VH_M_Skin CD68 \n",
      "/ Macrophage [19888.80507396163, 229856.039523177, 62791.798876364584, 91007.33447535438, 297214.514681459]\n",
      "VH_M_Skin T-Killer [6894.785758973365, 161355.89529441565, 26013.745248779614, 3914.293955929221, 58605.67895127361]\n",
      "VH_M_Skin T-reg [2651.8406765282175, 537345.5758389502, 98672.82680571577, 58714.40933893831, 221864.3560298215]\n",
      "VH_M_Skin T-helper [256963.3615555843, 2715650.1623135614, 740943.2267411021, 353265.02952261217, 2501206.655241856]\n",
      "VH_F_Kidney_R VH_F_renal_column_R Afferent / Efferent Arteriole Endothelial\n"
     ]
    }
   ],
   "source": [
    "mapping_AS_cell_type_count = collections.defaultdict(dict)\n",
    "\n",
    "with open(file_mapping_rui_hubmap_id, 'r', encoding='UTF8') as f:\n",
    "    csv_reader = csv.reader(f)\n",
    "    i = 0\n",
    "    for row in csv_reader:\n",
    "        if i == 0:\n",
    "            i = 1\n",
    "            continue\n",
    "\n",
    "        rui_url = row[0]\n",
    "        hubmap_ids = row[1:]\n",
    "\n",
    "        dic_cell_type_count = collections.defaultdict(list)\n",
    "        dic_cell_type_avg_count = collections.Counter()\n",
    "        for hubmap_id in hubmap_ids:\n",
    "            csv_path = os.path.join(hubmap_csv_folder, hubmap_id + '.csv')\n",
    "\n",
    "            with open(csv_path, 'r', encoding='UTF8') as csv_file:\n",
    "                dataset_csv_reader = csv.reader(csv_file)\n",
    "                header = next(dataset_csv_reader)\n",
    "                cell_type_index = header.index('cell_type')\n",
    "                count_index = header.index('count')\n",
    "\n",
    "                for item_cell in dataset_csv_reader:\n",
    "                    dic_cell_type_count[item_cell[cell_type_index]].append(float(item_cell[count_index]))\n",
    "\n",
    "        for cell, count_list in dic_cell_type_count.items():\n",
    "            dic_cell_type_avg_count[cell] = sum(count_list) / len(hubmap_ids)\n",
    "\n",
    "        get_response = requests.get(rui_url).json()\n",
    "        rui_location = get_response['rui_location']\n",
    "        post_response = requests.post(url=url_collision_detection, json=rui_location)\n",
    "        target = rui_location['placement']['target']\n",
    "        try:\n",
    "            post_response = post_response.json()\n",
    "\n",
    "            for AS_item in post_response:\n",
    "                percentage_of_AS = AS_item['percentage_of_AS']\n",
    "                percentage_of_tissue_block = AS_item['percentage_of_tissue_block']\n",
    "                organ = AS_item['organ']\n",
    "                node_name = AS_item['node_name']\n",
    "\n",
    "                # if 'Skin' in organ:\n",
    "                #     print(organ, hubmap_ids)\n",
    "\n",
    "                for cell, avg_count in dic_cell_type_avg_count.items():\n",
    "                    # initialize\n",
    "                    if cell not in mapping_AS_cell_type_count[(organ, node_name)]:\n",
    "                        mapping_AS_cell_type_count[(organ, node_name)][cell] = []\n",
    "\n",
    "                    if 'Skin' in organ:\n",
    "                        mapping_AS_cell_type_count[(organ, node_name)][cell].append(avg_count * percentage_of_tissue_block/ percentage_of_AS)\n",
    "                    else:\n",
    "                        mapping_AS_cell_type_count[(organ, node_name)][cell].append(avg_count / percentage_of_AS)\n",
    "        except:\n",
    "            pass\n",
    "\n",
    "result = collections.defaultdict(dict)\n",
    "for (organ, node_name) in mapping_AS_cell_type_count:\n",
    "    for cell in mapping_AS_cell_type_count[(organ, node_name)]:\n",
    "        cell_list = mapping_AS_cell_type_count[(organ, node_name)][cell]\n",
    "        if 'Skin' in organ:\n",
    "            print(organ, cell, cell_list)\n",
    "        if len(cell_list) == 0:\n",
    "            print(organ, node_name, cell)\n",
    "        else:\n",
    "            result[(organ, node_name)][cell] = int(sum(cell_list) / len(cell_list))\n",
    "\n",
    "# print(mapping_AS_cell_type_count)\n",
    "# print(result)"
   ],
   "metadata": {
    "collapsed": false
   }
  },
  {
   "cell_type": "code",
   "execution_count": 47,
   "outputs": [
    {
     "data": {
      "text/plain": "defaultdict(dict,\n            {('VH_M_Kidney_R',\n              'VH_M_outer_cortex_of_kidney_R'): {'Afferent / Efferent Arteriole Endothelial': 71974, 'Ascending Thin Limb': 5226589, 'Ascending Vasa Recta Endothelial': 421542, 'B': 15744, 'Classical Dendritic': 488119, 'Connecting Tubule': 3022323, 'Connecting Tubule Intercalated Type A': 27481, 'Connecting Tubule Principal': 664661, 'Cortical Collecting Duct Intercalated Type A': 1154457, 'Cortical Collecting Duct Principal': 1037744, 'Cortical Thick Ascending Limb': 10098949, 'Cortical Vascular Smooth Muscle / Pericyte': 165173, 'Descending Thin Limb Type 1': 1502880, 'Descending Thin Limb Type 2': 2815519, 'Descending Thin Limb Type 3': 118921, 'Descending Vasa Recta Endothelial ': 152455, 'Distal Convoluted Tubule Type 1': 5864833, 'Distal Convoluted Tubule Type 2': 293828, 'Fibroblast': 2058312, 'Glomerular Capillary Endothelial': 492863, 'Inner Medullary Collecting Duct': 4769141, 'Intercalated Type B': 730093, 'Lymphatic Endothelial': 17666, 'M2 Macrophage': 224593, 'Macula Densa': 248680, 'Mast': 26377, 'Medullary Fibroblast': 136097, 'Medullary Thick Ascending Limb': 416921, 'Mesangial': 143172, 'Monocyte-derived': 222221, 'Natural Killer T': 2699, 'Neutrophil': 10100, 'Non-classical monocyte': 4171, 'Outer Medullary Collecting Duct Intercalated Type A': 283359, 'Outer Medullary Collecting Duct Principal': 159652, 'Papillary Tip Epithelial': 12268, 'Parietal Epithelial': 570603, 'Peritubular Capilary Endothelial ': 604096, 'Plasma': 29771, 'Podocyte': 869217, 'Proximal Tubule Epithelial Segment 1': 6340316, 'Proximal Tubule Epithelial Segment 2': 903037, 'Proximal Tubule Epithelial Segment 3': 3014022, 'Schwann / Neural': 25845, 'T': 158630, 'Vascular Smooth Muscle / Pericyte': 123665, 'Renin-positive Juxtaglomerular Granular': 14885, 'Plasmacytoid Dendritic': 4948, 'Cycling Mononuclear Phagocyte': 327, 'Descending Vasa Recta Endothelial': 18320, 'Monocyte': 18320, 'Natural Killer / Natural Killer T': 109924, 'Peritubular Capilary Endothelial': 1154212, 'Tissue-resident Macrophage': 357256},\n             ('VH_F_Skin', 'VH_F_skin'): {'CD68 \\n/ Macrophage': 77923,\n              'T-Killer': 26342,\n              'T-reg': 66276,\n              'T-helper': 730937},\n             ('VH_F_Kidney_L',\n              'VH_F_outer_cortex_of_kidney_L'): {'Afferent / Efferent Arteriole Endothelial': 111936, 'Ascending Thin Limb': 278616, 'Ascending Vasa Recta Endothelial': 615589, 'Connecting Tubule': 428121, 'Connecting Tubule Principal': 66684, 'Cortical Collecting Duct Intercalated Type A': 515947, 'Cortical Collecting Duct Principal': 1026356, 'Cortical Thick Ascending Limb': 2081199, 'Cortical Vascular Smooth Muscle / Pericyte': 199995, 'Descending Thin Limb Type 1': 547972, 'Descending Thin Limb Type 2': 160915, 'Descending Thin Limb Type 3': 241110, 'Descending Vasa Recta Endothelial': 403481, 'Distal Convoluted Tubule Type 1': 1226941, 'Distal Convoluted Tubule Type 2': 184620, 'Fibroblast': 107568, 'Glomerular Capillary Endothelial': 533710, 'Inner Medullary Collecting Duct': 32148, 'Intercalated Type B': 120906, 'Lymphatic Endothelial': 45019, 'Macula Densa': 267321, 'Medullary Fibroblast': 755478, 'Medullary Thick Ascending Limb': 711391, 'Mesangial': 36982, 'Monocyte': 34303, 'Monocyte-derived': 112402, 'Natural Killer / Natural Killer T': 90504, 'Neutrophil': 13628, 'Outer Medullary Collecting Duct Intercalated Type A': 459565, 'Outer Medullary Collecting Duct Principal': 37506, 'Parietal Epithelial': 162256, 'Peritubular Capilary Endothelial': 1378829, 'Plasma': 24344, 'Plasmacytoid Dendritic': 5358, 'Podocyte': 741219, 'Proximal Tubule Epithelial Segment 1': 1983009, 'Proximal Tubule Epithelial Segment 3': 1004055, 'Schwann / Neural': 5358, 'T': 277338, 'Tissue-resident Macrophage': 197083, 'Vascular Smooth Muscle / Pericyte': 316648, 'B': 16540, 'Classical Dendritic': 24810, 'Connecting Tubule Intercalated Type A': 24810, 'Mast': 33080, 'Papillary Tip Epithelial': 8270, 'Proximal Tubule Epithelial Segment 2': 347343, 'Renin-positive Juxtaglomerular Granular': 24810},\n             ('VH_F_Kidney_L',\n              'VH_F_renal_column_L'): {'Afferent / Efferent Arteriole Endothelial': 2343116, 'Ascending Thin Limb': 8703005, 'Ascending Vasa Recta Endothelial': 33807830, 'Connecting Tubule': 1171558, 'Connecting Tubule Principal': 1841020, 'Cortical Collecting Duct Intercalated Type A': 2008385, 'Cortical Collecting Duct Principal': 30795251, 'Cortical Thick Ascending Limb': 26945844, 'Cortical Vascular Smooth Muscle / Pericyte': 2677847, 'Descending Thin Limb Type 1': 33975195, 'Descending Thin Limb Type 2': 6694619, 'Descending Thin Limb Type 3': 7531447, 'Descending Vasa Recta Endothelial': 21590149, 'Distal Convoluted Tubule Type 1': 2510482, 'Distal Convoluted Tubule Type 2': 167365, 'Fibroblast': 2845213, 'Glomerular Capillary Endothelial': 2343116, 'Inner Medullary Collecting Duct': 1004192, 'Intercalated Type B': 836827, 'Lymphatic Endothelial': 1004192, 'Macula Densa': 167365, 'Medullary Fibroblast': 23598534, 'Medullary Thick Ascending Limb': 44184491, 'Mesangial': 502096, 'Monocyte': 334730, 'Monocyte-derived': 1338923, 'Natural Killer / Natural Killer T': 1004192, 'Neutrophil': 334730, 'Outer Medullary Collecting Duct Intercalated Type A': 28452134, 'Outer Medullary Collecting Duct Principal': 1171558, 'Parietal Epithelial': 836827, 'Peritubular Capilary Endothelial': 7866178, 'Plasma': 1004192, 'Plasmacytoid Dendritic': 167365, 'Podocyte': 3682040, 'Proximal Tubule Epithelial Segment 1': 18744935, 'Proximal Tubule Epithelial Segment 3': 10544026, 'Schwann / Neural': 167365, 'T': 2343116, 'Tissue-resident Macrophage': 3012578, 'Vascular Smooth Muscle / Pericyte': 9707198},\n             ('VH_F_Kidney_L',\n              'VH_F_renal_pyramid_L_k'): {'Afferent / Efferent Arteriole Endothelial': 927, 'Ascending Thin Limb': 3446, 'Ascending Vasa Recta Endothelial': 13387, 'Connecting Tubule': 463, 'Connecting Tubule Principal': 729, 'Cortical Collecting Duct Intercalated Type A': 795, 'Cortical Collecting Duct Principal': 12194, 'Cortical Thick Ascending Limb': 10670, 'Cortical Vascular Smooth Muscle / Pericyte': 1060, 'Descending Thin Limb Type 1': 13453, 'Descending Thin Limb Type 2': 2650, 'Descending Thin Limb Type 3': 2982, 'Descending Vasa Recta Endothelial': 8549, 'Distal Convoluted Tubule Type 1': 994, 'Distal Convoluted Tubule Type 2': 66, 'Fibroblast': 1126, 'Glomerular Capillary Endothelial': 927, 'Inner Medullary Collecting Duct': 397, 'Intercalated Type B': 331, 'Lymphatic Endothelial': 397, 'Macula Densa': 66, 'Medullary Fibroblast': 9344, 'Medullary Thick Ascending Limb': 17496, 'Mesangial': 198, 'Monocyte': 132, 'Monocyte-derived': 530, 'Natural Killer / Natural Killer T': 397, 'Neutrophil': 132, 'Outer Medullary Collecting Duct Intercalated Type A': 11266, 'Outer Medullary Collecting Duct Principal': 463, 'Parietal Epithelial': 331, 'Peritubular Capilary Endothelial': 3114, 'Plasma': 397, 'Plasmacytoid Dendritic': 66, 'Podocyte': 1458, 'Proximal Tubule Epithelial Segment 1': 7422, 'Proximal Tubule Epithelial Segment 3': 4175, 'Schwann / Neural': 66, 'T': 927, 'Tissue-resident Macrophage': 1192, 'Vascular Smooth Muscle / Pericyte': 3843},\n             ('VH_F_Kidney_L',\n              'VH_F_renal_pyramid_L_h'): {'Afferent / Efferent Arteriole Endothelial': 448, 'Ascending Thin Limb': 40026, 'Ascending Vasa Recta Endothelial': 34821, 'Classical Dendritic': 89, 'Connecting Tubule': 1256, 'Connecting Tubule Intercalated Type A': 89, 'Connecting Tubule Principal': 448, 'Cortical Collecting Duct Intercalated Type A': 179, 'Cortical Collecting Duct Principal': 897, 'Cortical Thick Ascending Limb': 179, 'Cycling Mononuclear Phagocyte': 89, 'Descending Thin Limb Type 1': 1166, 'Descending Thin Limb Type 2': 448, 'Descending Thin Limb Type 3': 28629, 'Descending Vasa Recta Endothelial': 4128, 'Inner Medullary Collecting Duct': 169889, 'Intercalated Type B': 89, 'Lymphatic Endothelial': 269, 'Medullary Fibroblast': 49898, 'Monocyte': 448, 'Monocyte-derived': 3948, 'Natural Killer / Natural Killer T': 897, 'Neutrophil': 269, 'Outer Medullary Collecting Duct Intercalated Type A': 2064, 'Outer Medullary Collecting Duct Principal': 2153, 'Papillary Tip Epithelial': 897, 'Peritubular Capilary Endothelial': 807, 'Plasma': 89, 'Podocyte': 179, 'Proximal Tubule Epithelial Segment 1': 89, 'Renin-positive Juxtaglomerular Granular': 89, 'Schwann / Neural': 179, 'T': 2602, 'Tissue-resident Macrophage': 6012, 'Vascular Smooth Muscle / Pericyte': 2782},\n             ('VH_F_Kidney_R',\n              'VH_F_kidney_capsule_R'): {'Afferent / Efferent Arteriole Endothelial': 189211, 'B': 1297453, 'Classical Dendritic': 324363, 'Connecting Tubule': 5379024, 'Connecting Tubule Intercalated Type A': 54060, 'Connecting Tubule Principal': 4351874, 'Cortical Collecting Duct Intercalated Type A': 7811748, 'Cortical Collecting Duct Principal': 7676597, 'Cortical Thick Ascending Limb': 6135872, 'Cortical Vascular Smooth Muscle / Pericyte': 216242, 'Cycling Mononuclear Phagocyte': 81090, 'Descending Thin Limb Type 1': 135151, 'Descending Thin Limb Type 2': 54060, 'Descending Vasa Recta Endothelial': 81090, 'Distal Convoluted Tubule Type 1': 9271383, 'Distal Convoluted Tubule Type 2': 324363, 'Fibroblast': 2324603, 'Glomerular Capillary Endothelial': 2351633, 'Inner Medullary Collecting Duct': 108121, 'Intercalated Type B': 4541085, 'Lymphatic Endothelial': 648726, 'Macula Densa': 2135391, 'Mast': 702787, 'Medullary Thick Ascending Limb': 27030, 'Mesangial': 351393, 'Monocyte': 108121, 'Monocyte-derived': 1378543, 'Natural Killer / Natural Killer T': 432484, 'Outer Medullary Collecting Duct Principal': 54060, 'Papillary Tip Epithelial': 27030, 'Parietal Epithelial': 1216362, 'Peritubular Capilary Endothelial': 4297813, 'Plasma': 405454, 'Plasmacytoid Dendritic': 297333, 'Podocyte': 2513815, 'Proximal Tubule Epithelial Segment 1': 17110163, 'Proximal Tubule Epithelial Segment 2': 2405694, 'Proximal Tubule Epithelial Segment 3': 6135872, 'Schwann / Neural': 108121, 'T': 6838659, 'Tissue-resident Macrophage': 2621936, 'Vascular Smooth Muscle / Pericyte': 486544},\n             ('VH_F_Kidney_R',\n              'VH_F_outer_cortex_of_kidney_R'): {'Afferent / Efferent Arteriole Endothelial': 51332, 'B': 351993, 'Classical Dendritic': 87998, 'Connecting Tubule': 1459307, 'Connecting Tubule Intercalated Type A': 14666, 'Connecting Tubule Principal': 1180645, 'Cortical Collecting Duct Intercalated Type A': 2119295, 'Cortical Collecting Duct Principal': 2082629, 'Cortical Thick Ascending Limb': 1664636, 'Cortical Vascular Smooth Muscle / Pericyte': 58665, 'Cycling Mononuclear Phagocyte': 21999, 'Descending Thin Limb Type 1': 36666, 'Descending Thin Limb Type 2': 14666, 'Descending Vasa Recta Endothelial': 21999, 'Distal Convoluted Tubule Type 1': 2515288, 'Distal Convoluted Tubule Type 2': 87998, 'Fibroblast': 630655, 'Glomerular Capillary Endothelial': 637988, 'Inner Medullary Collecting Duct': 29332, 'Intercalated Type B': 1231977, 'Lymphatic Endothelial': 175996, 'Macula Densa': 579322, 'Mast': 190663, 'Medullary Thick Ascending Limb': 7333, 'Mesangial': 95331, 'Monocyte': 29332, 'Monocyte-derived': 373993, 'Natural Killer / Natural Killer T': 117331, 'Outer Medullary Collecting Duct Principal': 14666, 'Papillary Tip Epithelial': 7333, 'Parietal Epithelial': 329994, 'Peritubular Capilary Endothelial': 1165979, 'Plasma': 109998, 'Plasmacytoid Dendritic': 80665, 'Podocyte': 681987, 'Proximal Tubule Epithelial Segment 1': 4641916, 'Proximal Tubule Epithelial Segment 2': 652654, 'Proximal Tubule Epithelial Segment 3': 1664636, 'Schwann / Neural': 29332, 'T': 1855300, 'Tissue-resident Macrophage': 711320, 'Vascular Smooth Muscle / Pericyte': 131997},\n             ('VH_M_Kidney_L',\n              'VH_M_outer_cortex_of_kidney_L'): {'Afferent / Efferent Arteriole Endothelial': 131966, 'Ascending Vasa Recta Endothelial': 1209165, 'Connecting Tubule': 932614, 'Connecting Tubule Intercalated Type A': 14570, 'Connecting Tubule Principal': 431140, 'Cortical Collecting Duct Intercalated Type A': 650320, 'Cortical Collecting Duct Principal': 209048, 'Cortical Thick Ascending Limb': 1930606, 'Cortical Vascular Smooth Muscle / Pericyte': 56690, 'Descending Vasa Recta Endothelial': 1271034, 'Distal Convoluted Tubule Type 1': 1148470, 'Distal Convoluted Tubule Type 2': 66139, 'Fibroblast': 414391, 'Glomerular Capillary Endothelial': 127608, 'Intercalated Type B': 139590, 'Macula Densa': 281570, 'Medullary Thick Ascending Limb': 5234051, 'Monocyte': 35136, 'Monocyte-derived': 154749, 'Natural Killer / Natural Killer T': 29866, 'Outer Medullary Collecting Duct Principal': 1635183, 'Parietal Epithelial': 156037, 'Peritubular Capilary Endothelial': 557241, 'Podocyte': 93688, 'Proximal Tubule Epithelial Segment 1': 2182514, 'Proximal Tubule Epithelial Segment 2': 599848, 'Proximal Tubule Epithelial Segment 3': 769384, 'T': 174016, 'Tissue-resident Macrophage': 213274, 'Vascular Smooth Muscle / Pericyte': 459222, 'Ascending Thin Limb': 602196, 'B': 91298, 'Classical Dendritic': 18317, 'Cycling Mononuclear Phagocyte': 9524, 'Descending Thin Limb Type 1': 1790420, 'Descending Thin Limb Type 2': 1857153, 'Inner Medullary Collecting Duct': 1099636, 'Lymphatic Endothelial': 84167, 'Mast': 14009, 'Medullary Fibroblast': 2382839, 'Mesangial': 28019, 'Neutrophil': 12766, 'Outer Medullary Collecting Duct Intercalated Type A': 398078, 'Plasma': 23168, 'Plasmacytoid Dendritic': 14154, 'Renin-positive Juxtaglomerular Granular': 3145, 'Schwann / Neural': 28978, 'Papillary Tip Epithelial': 88165, 'Descending Vasa Recta Endothelial ': 1665, 'M2 Macrophage': 49957, 'Peritubular Capilary Endothelial ': 34970, 'Descending Thin Limb Type 3': 1412123},\n             ('VH_M_Kidney_R',\n              'VH_M_renal_pyramid_d'): {'Ascending Thin Limb': 3881, 'Ascending Vasa Recta Endothelial': 675, 'Connecting Tubule': 168, 'Cortical Collecting Duct Intercalated Type A': 168, 'Cortical Collecting Duct Principal': 1350, 'Descending Thin Limb Type 1': 1687, 'Descending Thin Limb Type 2': 843, 'Descending Thin Limb Type 3': 2531, 'Descending Vasa Recta Endothelial': 506, 'Inner Medullary Collecting Duct': 8607, 'Intercalated Type B': 168, 'Medullary Fibroblast': 5231, 'Monocyte-derived': 337, 'Natural Killer / Natural Killer T': 168, 'Outer Medullary Collecting Duct Principal': 675, 'Papillary Tip Epithelial': 168, 'Peritubular Capilary Endothelial': 337, 'Plasma': 168, 'T': 168, 'Vascular Smooth Muscle / Pericyte': 337},\n             ('VH_M_Kidney_R',\n              'VH_M_renal_papilla_R_d'): {'Ascending Thin Limb': 129, 'Ascending Vasa Recta Endothelial': 22, 'Connecting Tubule': 5, 'Cortical Collecting Duct Intercalated Type A': 5, 'Cortical Collecting Duct Principal': 45, 'Descending Thin Limb Type 1': 56, 'Descending Thin Limb Type 2': 28, 'Descending Thin Limb Type 3': 84, 'Descending Vasa Recta Endothelial': 16, 'Inner Medullary Collecting Duct': 288, 'Intercalated Type B': 5, 'Medullary Fibroblast': 175, 'Monocyte-derived': 11, 'Natural Killer / Natural Killer T': 5, 'Outer Medullary Collecting Duct Principal': 22, 'Papillary Tip Epithelial': 5, 'Peritubular Capilary Endothelial': 11, 'Plasma': 5, 'T': 5, 'Vascular Smooth Muscle / Pericyte': 11},\n             ('VH_F_Kidney_L',\n              'VH_F_renal_pyramid_L_j'): {'Afferent / Efferent Arteriole Endothelial': 4816, 'Ascending Thin Limb': 16323, 'Ascending Vasa Recta Endothelial': 81348, 'B': 267, 'Classical Dendritic': 267, 'Connecting Tubule': 1873, 'Connecting Tubule Principal': 2675, 'Cortical Collecting Duct Intercalated Type A': 1873, 'Cortical Collecting Duct Principal': 87502, 'Cortical Thick Ascending Limb': 29167, 'Cycling Mononuclear Phagocyte': 267, 'Descending Thin Limb Type 1': 45223, 'Descending Thin Limb Type 2': 34519, 'Descending Thin Limb Type 3': 31843, 'Descending Vasa Recta Endothelial': 62081, 'Fibroblast': 6154, 'Glomerular Capillary Endothelial': 267, 'Inner Medullary Collecting Duct': 6689, 'Macula Densa': 2943, 'Mast': 535, 'Medullary Fibroblast': 78672, 'Medullary Thick Ascending Limb': 183033, 'Monocyte': 535, 'Monocyte-derived': 3746, 'Natural Killer / Natural Killer T': 267, 'Neutrophil': 535, 'Outer Medullary Collecting Duct Intercalated Type A': 102487, 'Outer Medullary Collecting Duct Principal': 19534, 'Peritubular Capilary Endothelial': 21942, 'Proximal Tubule Epithelial Segment 1': 267, 'Proximal Tubule Epithelial Segment 3': 2408, 'Schwann / Neural': 267, 'T': 2675, 'Tissue-resident Macrophage': 15520, 'Vascular Smooth Muscle / Pericyte': 24886},\n             ('VH_M_Kidney_L',\n              'VH_M_renal_column_L'): {'Afferent / Efferent Arteriole Endothelial': 14770, 'Ascending Thin Limb': 461, 'Ascending Vasa Recta Endothelial': 121391, 'B': 923, 'Connecting Tubule': 5538, 'Connecting Tubule Principal': 7385, 'Cortical Collecting Duct Intercalated Type A': 18001, 'Cortical Collecting Duct Principal': 8308, 'Cortical Thick Ascending Limb': 188780, 'Cortical Vascular Smooth Muscle / Pericyte': 2307, 'Cycling Mononuclear Phagocyte': 461, 'Descending Thin Limb Type 1': 186472, 'Descending Thin Limb Type 2': 165240, 'Descending Vasa Recta Endothelial': 149547, 'Distal Convoluted Tubule Type 1': 5538, 'Distal Convoluted Tubule Type 2': 923, 'Fibroblast': 29078, 'Glomerular Capillary Endothelial': 6923, 'Inner Medullary Collecting Duct': 923, 'Intercalated Type B': 1384, 'Lymphatic Endothelial': 5077, 'Macula Densa': 4615, 'Mast': 461, 'Medullary Fibroblast': 95082, 'Medullary Thick Ascending Limb': 737121, 'Mesangial': 923, 'Monocyte': 2769, 'Monocyte-derived': 7385, 'Natural Killer / Natural Killer T': 2307, 'Outer Medullary Collecting Duct Intercalated Type A': 39694, 'Outer Medullary Collecting Duct Principal': 228475, 'Parietal Epithelial': 3692, 'Peritubular Capilary Endothelial': 48002, 'Plasma': 461, 'Podocyte': 4154, 'Proximal Tubule Epithelial Segment 1': 17539, 'Proximal Tubule Epithelial Segment 2': 923, 'Proximal Tubule Epithelial Segment 3': 85389, 'Schwann / Neural': 1846, 'T': 3692, 'Tissue-resident Macrophage': 12923, 'Vascular Smooth Muscle / Pericyte': 51695},\n             ('VH_M_Kidney_L',\n              'VH_M_renal_pyramid_L_e'): {'Afferent / Efferent Arteriole Endothelial': 6921, 'Ascending Thin Limb': 216, 'Ascending Vasa Recta Endothelial': 56888, 'B': 432, 'Connecting Tubule': 2595, 'Connecting Tubule Principal': 3460, 'Cortical Collecting Duct Intercalated Type A': 8435, 'Cortical Collecting Duct Principal': 3893, 'Cortical Thick Ascending Limb': 88469, 'Cortical Vascular Smooth Muscle / Pericyte': 1081, 'Cycling Mononuclear Phagocyte': 216, 'Descending Thin Limb Type 1': 87387, 'Descending Thin Limb Type 2': 77437, 'Descending Vasa Recta Endothelial': 70083, 'Distal Convoluted Tubule Type 1': 2595, 'Distal Convoluted Tubule Type 2': 432, 'Fibroblast': 13627, 'Glomerular Capillary Endothelial': 3244, 'Inner Medullary Collecting Duct': 432, 'Intercalated Type B': 648, 'Lymphatic Endothelial': 2379, 'Macula Densa': 2163, 'Mast': 216, 'Medullary Fibroblast': 44558, 'Medullary Thick Ascending Limb': 345440, 'Mesangial': 432, 'Monocyte': 1297, 'Monocyte-derived': 3460, 'Natural Killer / Natural Killer T': 1081, 'Outer Medullary Collecting Duct Intercalated Type A': 18602, 'Outer Medullary Collecting Duct Principal': 107071, 'Parietal Epithelial': 1730, 'Peritubular Capilary Endothelial': 22495, 'Plasma': 216, 'Podocyte': 1946, 'Proximal Tubule Epithelial Segment 1': 8219, 'Proximal Tubule Epithelial Segment 2': 432, 'Proximal Tubule Epithelial Segment 3': 40016, 'Schwann / Neural': 865, 'T': 1730, 'Tissue-resident Macrophage': 6056, 'Vascular Smooth Muscle / Pericyte': 24226},\n             ('VH_M_Kidney_L',\n              'VH_M_hilum_of_kidney_L'): {'Afferent / Efferent Arteriole Endothelial': 3842, 'Ascending Thin Limb': 120, 'Ascending Vasa Recta Endothelial': 31580, 'B': 240, 'Connecting Tubule': 1440, 'Connecting Tubule Principal': 1921, 'Cortical Collecting Duct Intercalated Type A': 4682, 'Cortical Collecting Duct Principal': 2161, 'Cortical Thick Ascending Limb': 49111, 'Cortical Vascular Smooth Muscle / Pericyte': 600, 'Cycling Mononuclear Phagocyte': 120, 'Descending Thin Limb Type 1': 48511, 'Descending Thin Limb Type 2': 42987, 'Descending Vasa Recta Endothelial': 38904, 'Distal Convoluted Tubule Type 1': 1440, 'Distal Convoluted Tubule Type 2': 240, 'Fibroblast': 7564, 'Glomerular Capillary Endothelial': 1801, 'Inner Medullary Collecting Duct': 240, 'Intercalated Type B': 360, 'Lymphatic Endothelial': 1320, 'Macula Densa': 1200, 'Mast': 120, 'Medullary Fibroblast': 24735, 'Medullary Thick Ascending Limb': 191762, 'Mesangial': 240, 'Monocyte': 720, 'Monocyte-derived': 1921, 'Natural Killer / Natural Killer T': 600, 'Outer Medullary Collecting Duct Intercalated Type A': 10326, 'Outer Medullary Collecting Duct Principal': 59438, 'Parietal Epithelial': 960, 'Peritubular Capilary Endothelial': 12487, 'Plasma': 120, 'Podocyte': 1080, 'Proximal Tubule Epithelial Segment 1': 4562, 'Proximal Tubule Epithelial Segment 2': 240, 'Proximal Tubule Epithelial Segment 3': 22214, 'Schwann / Neural': 480, 'T': 960, 'Tissue-resident Macrophage': 3362, 'Vascular Smooth Muscle / Pericyte': 13448},\n             ('VH_M_Kidney_L',\n              'VH_M_kidney_capsule_L'): {'Afferent / Efferent Arteriole Endothelial': 24232, 'Ascending Thin Limb': 733030, 'Ascending Vasa Recta Endothelial': 565826, 'Connecting Tubule': 1211, 'Cortical Collecting Duct Intercalated Type A': 6058, 'Cortical Collecting Duct Principal': 1211, 'Cortical Thick Ascending Limb': 2423, 'Cycling Mononuclear Phagocyte': 3634, 'Descending Thin Limb Type 1': 12116, 'Descending Thin Limb Type 2': 43618, 'Descending Thin Limb Type 3': 577943, 'Descending Vasa Recta Endothelial': 335618, 'Distal Convoluted Tubule Type 1': 1211, 'Inner Medullary Collecting Duct': 965661, 'Medullary Fibroblast': 1825912, 'Medullary Thick Ascending Limb': 9692, 'Monocyte': 8481, 'Monocyte-derived': 76332, 'Natural Killer / Natural Killer T': 4846, 'Neutrophil': 3634, 'Outer Medullary Collecting Duct Intercalated Type A': 26655, 'Outer Medullary Collecting Duct Principal': 16962, 'Papillary Tip Epithelial': 71485, 'Peritubular Capilary Endothelial': 4846, 'Podocyte': 4846, 'Proximal Tubule Epithelial Segment 3': 1211, 'Renin-positive Juxtaglomerular Granular': 1211, 'T': 27867, 'Tissue-resident Macrophage': 105410, 'Vascular Smooth Muscle / Pericyte': 122373},\n             ('VH_M_Skin', 'VH_M_skin'): {'CD68 \\n/ Macrophage': 140151,\n              'T-Killer': 51356,\n              'T-reg': 183849,\n              'T-helper': 1313605},\n             ('VH_F_Kidney_R',\n              'VH_F_renal_pyramid_R_i'): {'Afferent / Efferent Arteriole Endothelial': 2204, 'Ascending Thin Limb': 17038, 'Ascending Vasa Recta Endothelial': 15400, 'B': 62, 'Connecting Tubule': 31, 'Connecting Tubule Principal': 157, 'Cortical Collecting Duct Intercalated Type A': 62, 'Cortical Collecting Duct Principal': 157, 'Cortical Thick Ascending Limb': 94, 'Cortical Vascular Smooth Muscle / Pericyte': 31, 'Cycling Mononuclear Phagocyte': 251, 'Descending Thin Limb Type 1': 944, 'Descending Thin Limb Type 2': 818, 'Descending Thin Limb Type 3': 10739, 'Descending Vasa Recta Endothelial': 13920, 'Fibroblast': 125, 'Glomerular Capillary Endothelial': 62, 'Inner Medullary Collecting Duct': 36753, 'Lymphatic Endothelial': 31, 'Mast': 220, 'Medullary Fibroblast': 40596, 'Medullary Thick Ascending Limb': 10959, 'Monocyte': 125, 'Monocyte-derived': 1070, 'Natural Killer / Natural Killer T': 188, 'Neutrophil': 62, 'Outer Medullary Collecting Duct Intercalated Type A': 3590, 'Outer Medullary Collecting Duct Principal': 1732, 'Papillary Tip Epithelial': 6897, 'Parietal Epithelial': 31, 'Peritubular Capilary Endothelial': 598, 'Plasma': 220, 'Proximal Tubule Epithelial Segment 1': 62, 'Proximal Tubule Epithelial Segment 3': 62, 'T': 1322, 'Tissue-resident Macrophage': 3495, 'Vascular Smooth Muscle / Pericyte': 5322},\n             ('VH_F_Kidney_R',\n              'VH_F_renal_pyramid_R_a'): {'Afferent / Efferent Arteriole Endothelial': 287, 'Ascending Thin Limb': 122, 'Ascending Vasa Recta Endothelial': 5503, 'Classical Dendritic': 70, 'Connecting Tubule': 122, 'Connecting Tubule Principal': 205, 'Cortical Collecting Duct Intercalated Type A': 220, 'Cortical Collecting Duct Principal': 93, 'Cortical Thick Ascending Limb': 6007, 'Cycling Mononuclear Phagocyte': 64, 'Descending Thin Limb Type 1': 11995, 'Descending Thin Limb Type 2': 3935, 'Descending Thin Limb Type 3': 374, 'Descending Vasa Recta Endothelial': 3486, 'Distal Convoluted Tubule Type 1': 64, 'Fibroblast': 326, 'Glomerular Capillary Endothelial': 170, 'Inner Medullary Collecting Duct': 93, 'Intercalated Type B': 141, 'Lymphatic Endothelial': 255, 'Macula Densa': 49, 'Medullary Fibroblast': 9534, 'Medullary Thick Ascending Limb': 29205, 'Monocyte': 120, 'Monocyte-derived': 688, 'Natural Killer / Natural Killer T': 282, 'Outer Medullary Collecting Duct Intercalated Type A': 2086, 'Outer Medullary Collecting Duct Principal': 2566, 'Papillary Tip Epithelial': 70, 'Parietal Epithelial': 141, 'Peritubular Capilary Endothelial': 1790, 'Plasma': 79, 'Podocyte': 353, 'Proximal Tubule Epithelial Segment 3': 630, 'T': 582, 'Tissue-resident Macrophage': 2795, 'Vascular Smooth Muscle / Pericyte': 1058, 'B': 58, 'Connecting Tubule Intercalated Type A': 29, 'Cortical Vascular Smooth Muscle / Pericyte': 116, 'Mast': 116, 'Neutrophil': 29, 'Proximal Tubule Epithelial Segment 1': 203, 'Schwann / Neural': 29},\n             ('VH_F_Kidney_L',\n              'VH_F_renal_pyramid_L_a'): {'Afferent / Efferent Arteriole Endothelial': 4421, 'Ascending Thin Limb': 22991, 'Ascending Vasa Recta Endothelial': 45098, 'Classical Dendritic': 884, 'Connecting Tubule': 7958, 'Connecting Tubule Principal': 2652, 'Cortical Collecting Duct Principal': 9727, 'Cortical Thick Ascending Limb': 1768, 'Descending Thin Limb Type 1': 48635, 'Descending Thin Limb Type 2': 14148, 'Descending Thin Limb Type 3': 49519, 'Descending Vasa Recta Endothelial': 22106, 'Distal Convoluted Tubule Type 1': 1768, 'Fibroblast': 884, 'Inner Medullary Collecting Duct': 127335, 'Lymphatic Endothelial': 1768, 'Macula Densa': 884, 'Mast': 16801, 'Medullary Fibroblast': 77816, 'Medullary Thick Ascending Limb': 2652, 'Monocyte': 884, 'Monocyte-derived': 9727, 'Natural Killer / Natural Killer T': 3537, 'Neutrophil': 2652, 'Outer Medullary Collecting Duct Principal': 39792, 'Papillary Tip Epithelial': 24759, 'Peritubular Capilary Endothelial': 20338, 'Plasma': 2652, 'Renin-positive Juxtaglomerular Granular': 884, 'T': 23875, 'Tissue-resident Macrophage': 9727, 'Vascular Smooth Muscle / Pericyte': 19454}})"
     },
     "execution_count": 47,
     "metadata": {},
     "output_type": "execute_result"
    }
   ],
   "source": [
    "result"
   ],
   "metadata": {
    "collapsed": false,
    "pycharm": {
     "name": "#%%\n"
    }
   }
  },
  {
   "cell_type": "code",
   "execution_count": 48,
   "outputs": [
    {
     "data": {
      "text/plain": "{'CD68 \\n/ Macrophage': 140151,\n 'T-Killer': 51356,\n 'T-reg': 183849,\n 'T-helper': 1313605}"
     },
     "execution_count": 48,
     "metadata": {},
     "output_type": "execute_result"
    }
   ],
   "source": [
    "result[('VH_M_Skin', 'VH_M_skin')]"
   ],
   "metadata": {
    "collapsed": false,
    "pycharm": {
     "name": "#%%\n"
    }
   }
  },
  {
   "cell_type": "code",
   "execution_count": 49,
   "outputs": [],
   "source": [
    "file_cell_type_count_per_AS = './csv/cell_type_count_per_AS.csv'\n",
    "\n",
    "with open(file_cell_type_count_per_AS, 'w', encoding='UTF-8', newline='') as f:\n",
    "    csv_writer = csv.writer(f)\n",
    "    for (organ, AS) in result:\n",
    "        dic_cell_type_count = result[(organ, AS)]\n",
    "\n",
    "        for cell_type, count in dic_cell_type_count.items():\n",
    "            csv_writer.writerow([organ, AS, cell_type, count])\n",
    "\n",
    "file_cell_type_count_per_AS_Skin = './csv/cell_type_count_per_AS_Skin.csv'\n",
    "with open(file_cell_type_count_per_AS_Skin, 'w', encoding='UTF-8', newline='') as f:\n",
    "    csv_writer = csv.writer(f)\n",
    "    for (organ, AS) in result:\n",
    "        if 'Skin' in organ:\n",
    "            dic_cell_type_count = result[(organ, AS)]\n",
    "\n",
    "            for cell_type, count in dic_cell_type_count.items():\n",
    "                csv_writer.writerow([organ, AS, cell_type, count])"
   ],
   "metadata": {
    "collapsed": false
   }
  },
  {
   "cell_type": "markdown",
   "source": [
    "Create a table: Tissue block by HuBMAP IDs | AS it collides with (1) | AS it collides with (1) |...| AS it collides with (n)"
   ],
   "metadata": {
    "collapsed": false,
    "pycharm": {
     "name": "#%% md\n"
    }
   }
  },
  {
   "cell_type": "code",
   "execution_count": 6,
   "outputs": [
    {
     "name": "stdout",
     "output_type": "stream",
     "text": [
      "HBM876.HTRX.668\n",
      "HBM537.GVTL.683\n",
      "HBM447.KCHB.778\n",
      "HBM552.PBBF.363\n",
      "HBM282.BKRZ.254\n",
      "HBM834.THPC.928\n",
      "HBM958.GZCX.985\n",
      "HBM684.TLPQ.738\n",
      "HBM476.VHDB.268\n",
      "HBM393.DZDZ.972\n",
      "HBM942.NXWW.245\n",
      "HBM427.KFXP.323\n",
      "HBM634.QQWF.789\n",
      "HBM664.LQSH.693\n",
      "HBM873.NSHG.559\n",
      "HBM258.HQCL.349\n",
      "HBM243.MTZV.726\n",
      "HBM252.JLSW.848\n",
      "HBM246.KBZS.276\n",
      "HBM495.ZFDT.229\n",
      "HBM242.HNLH.466\n",
      "HBM844.KXXX.692\n",
      "HBM979.KNQM.454\n",
      "HBM525.LRPL.332\n",
      "HBM332.KQWB.454\n",
      "HBM688.FLJB.475\n",
      "HBM347.MRTV.333\n",
      "HBM996.XSNK.694\n",
      "HBM669.GWVL.893\n",
      "HBM399.TFTQ.282\n",
      "HBM382.HNKL.447\n",
      "HBM537.LTFK.379\n",
      "HBM969.VNQL.553\n",
      "HBM892.MXFF.848\n",
      "HBM992.XNZH.647\n",
      "HBM574.NFCS.842\n",
      "HBM224.GLDC.549\n",
      "HBM264.RWRW.668\n",
      "HBM773.WCXC.264\n",
      "HBM268.RGJT.587\n",
      "HBM432.BPZM.698\n",
      "HBM578.SRZG.769\n",
      "HBM253.HFDZ.866\n",
      "HBM894.PGJZ.258\n",
      "HBM229.HKHH.537\n",
      "HBM865.PBJW.845\n",
      "HBM396.WPKL.954\n",
      "HBM839.TQNM.958\n",
      "HBM764.ZCQR.585\n",
      "HBM797.PDPS.368\n",
      "HBM982.TPNQ.737\n",
      "HBM375.ZKZZ.765\n",
      "HBM654.BKGL.942\n",
      "HBM639.SGGN.469\n",
      "HBM297.VBLS.984\n"
     ]
    }
   ],
   "source": [
    "file_mapping_rui_uuid_hubmap_id = './csv/mapping_rui_uuid_hubmap_id.csv'\n",
    "file_hubmap_id_collision_AS = \"./csv/hubmap_id_collision_AS.csv\"\n",
    "\n",
    "with open(file_mapping_rui_uuid_hubmap_id, 'r', encoding='UTF8') as f, open(file_hubmap_id_collision_AS, 'w', encoding='UTF-8', newline='') as f2:\n",
    "    csv_reader = csv.reader(f)\n",
    "    csv_writer = csv.writer(f2)\n",
    "    csv_writer.writerow(['HubMAP ID', 'ASs'])\n",
    "    i = 0\n",
    "\n",
    "    for row in csv_reader:\n",
    "\n",
    "        if i == 0:\n",
    "            i = 1\n",
    "            continue\n",
    "\n",
    "        hubmap_id, uuid, rui_url = row\n",
    "        print(hubmap_id)\n",
    "        get_response = requests.get(rui_url).json()\n",
    "        rui_location = get_response['rui_location']\n",
    "        post_response = requests.post(url=url_collision_detection, json=rui_location)\n",
    "\n",
    "        try:\n",
    "            post_response = post_response.json()\n",
    "            collision_AS = []\n",
    "            for AS_item in post_response:\n",
    "                # percentage_of_AS = AS_item['percentage_of_AS']\n",
    "                # organ = AS_item['organ']\n",
    "                node_name = AS_item['node_name']\n",
    "                collision_AS.append(node_name)\n",
    "            csv_writer.writerow([hubmap_id] + collision_AS)\n",
    "        except:\n",
    "            print(post_response.content)\n"
   ],
   "metadata": {
    "collapsed": false,
    "pycharm": {
     "name": "#%%\n"
    }
   }
  },
  {
   "cell_type": "code",
   "execution_count": null,
   "outputs": [],
   "source": [],
   "metadata": {
    "collapsed": false,
    "pycharm": {
     "name": "#%%\n"
    }
   }
  }
 ],
 "metadata": {
  "kernelspec": {
   "display_name": "Python 3",
   "language": "python",
   "name": "python3"
  },
  "language_info": {
   "codemirror_mode": {
    "name": "ipython",
    "version": 2
   },
   "file_extension": ".py",
   "mimetype": "text/x-python",
   "name": "python",
   "nbconvert_exporter": "python",
   "pygments_lexer": "ipython2",
   "version": "2.7.6"
  }
 },
 "nbformat": 4,
 "nbformat_minor": 0
}