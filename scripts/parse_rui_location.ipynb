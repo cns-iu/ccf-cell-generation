{
 "cells": [
  {
   "cell_type": "code",
   "execution_count": 6,
   "metadata": {
    "collapsed": true
   },
   "outputs": [],
   "source": [
    "import collections\n",
    "import urllib.request\n",
    "import json\n",
    "import requests\n",
    "import csv\n",
    "import os\n",
    "import shutil\n",
    "import collections\n",
    "import pandas as pd"
   ]
  },
  {
   "cell_type": "code",
   "execution_count": 7,
   "outputs": [],
   "source": [
    "url_tissue_rui = \"https://ccf-api.hubmapconsortium.org/v1/hubmap/rui_locations.jsonld\"\n",
    "url_reference_organ_data = \"https://hubmapconsortium.github.io/ccf-ui/rui/assets/reference-organ-data.json\"\n",
    "url_collision_detection = \"http://192.168.1.100:8080/get-collisions\""
   ],
   "metadata": {
    "collapsed": false
   }
  },
  {
   "cell_type": "markdown",
   "source": [
    "Step 1: save all the hubmap, CxG,GTex.. datasets in one folder"
   ],
   "metadata": {
    "collapsed": false
   }
  },
  {
   "cell_type": "code",
   "execution_count": 3,
   "outputs": [],
   "source": [
    "def copy_csv_files_in_one_folder(input_dir, output_dir):\n",
    "\n",
    "    if not os.path.exists(output_dir):\n",
    "        os.makedirs(output_dir)\n",
    "\n",
    "    for folder in os.listdir(input_dir):\n",
    "        full_folder = os.path.join(input_dir, folder)\n",
    "        if os.path.isdir(full_folder):\n",
    "            for file_name in os.listdir(full_folder):\n",
    "                if file_name.endswith('.csv'):\n",
    "                    abs_file_path = os.path.join(full_folder, file_name)\n",
    "                    output_file_path = os.path.join(output_dir, file_name)\n",
    "\n",
    "                    if folder.find('CxG') >= 0:\n",
    "                        index = folder.find('CxG')\n",
    "                        organ = folder[:index-1]\n",
    "                        new_file_name = file_name[:-4] + '_' + organ + '.csv'\n",
    "                        output_file_path = os.path.join(output_dir, new_file_name)\n",
    "\n",
    "                    shutil.copy(abs_file_path, output_file_path)"
   ],
   "metadata": {
    "collapsed": false
   }
  },
  {
   "cell_type": "code",
   "execution_count": 22,
   "outputs": [],
   "source": [
    "input_dir = 'C:/Users/catherine/Desktop/research/hubmap/tissue-bar-graphs/csv'\n",
    "output_dir = '../all_csv_2'\n",
    "copy_csv_files_in_one_folder(input_dir, output_dir)"
   ],
   "metadata": {
    "collapsed": false
   }
  },
  {
   "cell_type": "markdown",
   "source": [
    "Step 2: Compare Training/Prediction Table with CT counts in bar-graph-portal and rui locations in all_rui_location_by_dataset_id.json"
   ],
   "metadata": {
    "collapsed": false,
    "pycharm": {
     "name": "#%% md\n"
    }
   }
  },
  {
   "cell_type": "code",
   "execution_count": 8,
   "outputs": [],
   "source": [
    "def load_bar_graph_portal_dataset(csv_dir_path):\n",
    "    dir_list = os.listdir(csv_dir_path)\n",
    "    return [e[:-4] for e in dir_list if e.endswith('.csv')]\n",
    "\n",
    "def load_all_rui_location_by_dataset_id(json_path):\n",
    "    dic = {}\n",
    "    datasets_with_rui_id = {}\n",
    "    with open(json_path, 'r') as f:\n",
    "        json_data = json.load(f)\n",
    "\n",
    "    for dataset_id, values in json_data.items():\n",
    "\n",
    "        rui_location = None\n",
    "        if 'rui-location' in values:\n",
    "            rui_location = values['rui-location']\n",
    "        elif 'rui_location' in values:\n",
    "            rui_location = values['rui_location']\n",
    "\n",
    "        if not rui_location:\n",
    "            continue\n",
    "\n",
    "        # hubmap dataset, use hubmap-id as tissue block id\n",
    "        if 'hubmap-id' in values:\n",
    "            unified_tissue_block_id = values['hubmap-id']\n",
    "        # gtex dataset, use sample-id as tissue block id\n",
    "        elif dataset_id.startswith('GTEX'):\n",
    "            unified_tissue_block_id = values['sample-id']\n",
    "        # CxG dataset, use dataset_id as tissue block id, in all_rui_location_by_dataset_id, dataset_id for CxG is dataset_id_donor_organ_(AS).\n",
    "        else:\n",
    "            unified_tissue_block_id = dataset_id\n",
    "\n",
    "        datasets_with_rui_id[dataset_id] = unified_tissue_block_id\n",
    "        dic[unified_tissue_block_id] = rui_location\n",
    "\n",
    "    return dic, datasets_with_rui_id"
   ],
   "metadata": {
    "collapsed": false,
    "pycharm": {
     "name": "#%%\n"
    }
   }
  },
  {
   "cell_type": "markdown",
   "source": [
    "Step 3(extra): combine dataset_id - uuid - h5ad(exist)"
   ],
   "metadata": {
    "collapsed": false,
    "pycharm": {
     "name": "#%% md\n"
    }
   }
  },
  {
   "cell_type": "code",
   "execution_count": 5,
   "outputs": [],
   "source": [
    "descendant_path = \"../Vicky/finddesecendants.csv\"\n",
    "descendant_h5ad_path = \"../Vicky/findh5addesecendants.csv\"\n",
    "URL = f\"https://entity.api.hubmapconsortium.org/entities/\"\n",
    "headers = {\n",
    "    'Authorization': 'Bearer ' + 'AgOdjmzyX2q4NEaOEy8P8n10dXXlDB89y0J6DQ4EOYnGOKoDP4TnCgP8r2e9rNkrrMalmYPbPm9W49F8e8gPJSWvnl'\n",
    "}"
   ],
   "metadata": {
    "collapsed": false,
    "pycharm": {
     "name": "#%%\n"
    }
   }
  },
  {
   "cell_type": "code",
   "execution_count": 6,
   "outputs": [],
   "source": [
    "def get_hubmap_id(uuid):\n",
    "    print(URL + uuid)\n",
    "    resp = requests.get(URL + uuid, headers=headers).json()\n",
    "    if 'hubmap_id' in resp:\n",
    "        return resp['hubmap_id']"
   ],
   "metadata": {
    "collapsed": false,
    "pycharm": {
     "name": "#%%\n"
    }
   }
  },
  {
   "cell_type": "code",
   "execution_count": 22,
   "outputs": [
    {
     "name": "stdout",
     "output_type": "stream",
     "text": [
      "264\n"
     ]
    }
   ],
   "source": [
    "descendant = pd.read_csv(descendant_path)\n",
    "descendant_h5ad = pd.read_csv(descendant_h5ad_path)\n",
    "\n",
    "descendant = descendant[['hubmap_id', 'uuid']].drop_duplicates()\n",
    "descendant_h5ad = descendant_h5ad[['uuid', 'descendants', 'has_h5']]\n",
    "descendant_h5ad_exist = descendant_h5ad[descendant_h5ad['has_h5'] == True]\n",
    "dataset_id_with_h5ad = descendant.merge(descendant_h5ad_exist, on='uuid', how='left')\n",
    "dataset_id_with_h5ad = dataset_id_with_h5ad[dataset_id_with_h5ad['has_h5'] == True]\n",
    "dataset_set = set(dataset_id_with_h5ad['hubmap_id'])\n",
    "print(len(dataset_set))"
   ],
   "metadata": {
    "collapsed": false,
    "pycharm": {
     "name": "#%%\n"
    }
   }
  },
  {
   "cell_type": "code",
   "execution_count": 27,
   "outputs": [
    {
     "name": "stdout",
     "output_type": "stream",
     "text": [
      "https://entity.api.hubmapconsortium.org/entities/0d1eb3d774a694b79e844987f771b183\n",
      "https://entity.api.hubmapconsortium.org/entities/107f237dc1c866e9e9b215c7354c8d6a\n",
      "https://entity.api.hubmapconsortium.org/entities/0d1eb3d774a694b79e844987f771b183\n",
      "https://entity.api.hubmapconsortium.org/entities/107f237dc1c866e9e9b215c7354c8d6a\n",
      "https://entity.api.hubmapconsortium.org/entities/82400009b02f7651f3edf5b292f7cd9a\n",
      "https://entity.api.hubmapconsortium.org/entities/82400009b02f7651f3edf5b292f7cd9a\n",
      "https://entity.api.hubmapconsortium.org/entities/704d16116f29994ab0e714f4afdb5516\n",
      "https://entity.api.hubmapconsortium.org/entities/704d16116f29994ab0e714f4afdb5516\n",
      "https://entity.api.hubmapconsortium.org/entities/dd3e6da115fd13eee62d9a4fba2324ae\n",
      "https://entity.api.hubmapconsortium.org/entities/dd3e6da115fd13eee62d9a4fba2324ae\n",
      "https://entity.api.hubmapconsortium.org/entities/7479e6dbfa3b3a8e1e2d4f78cbe0f9e4\n",
      "https://entity.api.hubmapconsortium.org/entities/7479e6dbfa3b3a8e1e2d4f78cbe0f9e4\n",
      "https://entity.api.hubmapconsortium.org/entities/4b16c24a3997ea8754921b0f1d60bc4d\n",
      "https://entity.api.hubmapconsortium.org/entities/ac1d4544ab4886b851f74b2c21952378\n",
      "https://entity.api.hubmapconsortium.org/entities/ac1d4544ab4886b851f74b2c21952378\n",
      "https://entity.api.hubmapconsortium.org/entities/eb961e5dc50239d35f5398903c64e2b9\n",
      "https://entity.api.hubmapconsortium.org/entities/eb961e5dc50239d35f5398903c64e2b9\n",
      "https://entity.api.hubmapconsortium.org/entities/b5aaa0ff6cde445a6808dc03e27c9364\n",
      "https://entity.api.hubmapconsortium.org/entities/a69367866979f878635b2b665a6a7e0c\n",
      "https://entity.api.hubmapconsortium.org/entities/a69367866979f878635b2b665a6a7e0c\n",
      "https://entity.api.hubmapconsortium.org/entities/969b81f6dfbc0ed1fc21b00e2997d441\n",
      "https://entity.api.hubmapconsortium.org/entities/19304b10d9e1f17af19cccb2feb014a5\n",
      "https://entity.api.hubmapconsortium.org/entities/dd3e6da115fd13eee62d9a4fba2324ae\n",
      "https://entity.api.hubmapconsortium.org/entities/dd3e6da115fd13eee62d9a4fba2324ae\n",
      "https://entity.api.hubmapconsortium.org/entities/6cd63d0ee2c67c3be41e4be1522d9c07\n",
      "https://entity.api.hubmapconsortium.org/entities/9194b6a9ed87b1ce0a6744cc26bd3eca\n",
      "https://entity.api.hubmapconsortium.org/entities/6cd63d0ee2c67c3be41e4be1522d9c07\n",
      "https://entity.api.hubmapconsortium.org/entities/9194b6a9ed87b1ce0a6744cc26bd3eca\n",
      "https://entity.api.hubmapconsortium.org/entities/33c0ce043ae331ea23fc80023428e534\n",
      "https://entity.api.hubmapconsortium.org/entities/33c0ce043ae331ea23fc80023428e534\n",
      "https://entity.api.hubmapconsortium.org/entities/c40da13b509a43ba96d3a6832f79bf71\n",
      "https://entity.api.hubmapconsortium.org/entities/d1e9f509063984326570cf603c5654f2\n",
      "https://entity.api.hubmapconsortium.org/entities/d1e9f509063984326570cf603c5654f2\n",
      "https://entity.api.hubmapconsortium.org/entities/d171ff8d83f707ecca64ff159c7160a7\n",
      "https://entity.api.hubmapconsortium.org/entities/f90ca327ace4f28721be1c39c77d8834\n",
      "https://entity.api.hubmapconsortium.org/entities/f90ca327ace4f28721be1c39c77d8834\n",
      "https://entity.api.hubmapconsortium.org/entities/aa93e53df10842c13348a334c8fe423f\n",
      "https://entity.api.hubmapconsortium.org/entities/aa93e53df10842c13348a334c8fe423f\n",
      "https://entity.api.hubmapconsortium.org/entities/a69367866979f878635b2b665a6a7e0c\n",
      "https://entity.api.hubmapconsortium.org/entities/a69367866979f878635b2b665a6a7e0c\n",
      "https://entity.api.hubmapconsortium.org/entities/bbcad31a55b1710dd5f889be8f63b62b\n",
      "https://entity.api.hubmapconsortium.org/entities/bbcad31a55b1710dd5f889be8f63b62b\n",
      "https://entity.api.hubmapconsortium.org/entities/aa93e53df10842c13348a334c8fe423f\n",
      "https://entity.api.hubmapconsortium.org/entities/aa93e53df10842c13348a334c8fe423f\n",
      "https://entity.api.hubmapconsortium.org/entities/a69367866979f878635b2b665a6a7e0c\n",
      "https://entity.api.hubmapconsortium.org/entities/a69367866979f878635b2b665a6a7e0c\n",
      "https://entity.api.hubmapconsortium.org/entities/8c5e705001d5cc1c40dbd963ad848486\n",
      "https://entity.api.hubmapconsortium.org/entities/8c5e705001d5cc1c40dbd963ad848486\n",
      "https://entity.api.hubmapconsortium.org/entities/ae9d6066c8b680aa82e8da8a259fb429\n",
      "https://entity.api.hubmapconsortium.org/entities/79f087ae551dd72997f174646bb0d5e0\n",
      "https://entity.api.hubmapconsortium.org/entities/ac1d4544ab4886b851f74b2c21952378\n",
      "https://entity.api.hubmapconsortium.org/entities/ac1d4544ab4886b851f74b2c21952378\n",
      "https://entity.api.hubmapconsortium.org/entities/ac1d4544ab4886b851f74b2c21952378\n",
      "https://entity.api.hubmapconsortium.org/entities/ac1d4544ab4886b851f74b2c21952378\n",
      "https://entity.api.hubmapconsortium.org/entities/969b81f6dfbc0ed1fc21b00e2997d441\n",
      "https://entity.api.hubmapconsortium.org/entities/ac1d4544ab4886b851f74b2c21952378\n",
      "https://entity.api.hubmapconsortium.org/entities/ac1d4544ab4886b851f74b2c21952378\n",
      "https://entity.api.hubmapconsortium.org/entities/8c5e705001d5cc1c40dbd963ad848486\n",
      "https://entity.api.hubmapconsortium.org/entities/8c5e705001d5cc1c40dbd963ad848486\n",
      "https://entity.api.hubmapconsortium.org/entities/fa9a13fa6cca3c96869930f0b483b484\n",
      "https://entity.api.hubmapconsortium.org/entities/fa9a13fa6cca3c96869930f0b483b484\n",
      "https://entity.api.hubmapconsortium.org/entities/7479e6dbfa3b3a8e1e2d4f78cbe0f9e4\n",
      "https://entity.api.hubmapconsortium.org/entities/7479e6dbfa3b3a8e1e2d4f78cbe0f9e4\n",
      "https://entity.api.hubmapconsortium.org/entities/969b81f6dfbc0ed1fc21b00e2997d441\n",
      "https://entity.api.hubmapconsortium.org/entities/316772d6487538152b82e056fa74471d\n",
      "https://entity.api.hubmapconsortium.org/entities/316772d6487538152b82e056fa74471d\n",
      "https://entity.api.hubmapconsortium.org/entities/b30f6ae2e11e7537bcbe8a67ef6c61fe\n",
      "https://entity.api.hubmapconsortium.org/entities/d11c49c38ffba032b8a95e28a781f54b\n",
      "https://entity.api.hubmapconsortium.org/entities/d11c49c38ffba032b8a95e28a781f54b\n",
      "https://entity.api.hubmapconsortium.org/entities/33c0ce043ae331ea23fc80023428e534\n",
      "https://entity.api.hubmapconsortium.org/entities/33c0ce043ae331ea23fc80023428e534\n",
      "https://entity.api.hubmapconsortium.org/entities/7017034c816444f6acb469834e53344f\n",
      "https://entity.api.hubmapconsortium.org/entities/4fee7d4cc398bcb85e3c2a31b7baf999\n",
      "https://entity.api.hubmapconsortium.org/entities/3d0bf870aaa607cd0bd0146a461ea0ac\n",
      "https://entity.api.hubmapconsortium.org/entities/3d0bf870aaa607cd0bd0146a461ea0ac\n",
      "https://entity.api.hubmapconsortium.org/entities/e10f4899d35a9f39a2963fe9586b5fa4\n",
      "https://entity.api.hubmapconsortium.org/entities/7479e6dbfa3b3a8e1e2d4f78cbe0f9e4\n",
      "https://entity.api.hubmapconsortium.org/entities/7479e6dbfa3b3a8e1e2d4f78cbe0f9e4\n",
      "https://entity.api.hubmapconsortium.org/entities/e65175561b4b17da5352e3837aa0e497\n",
      "https://entity.api.hubmapconsortium.org/entities/5302ee81cb9692dfda92b2c5dad37198\n",
      "https://entity.api.hubmapconsortium.org/entities/d1e9f509063984326570cf603c5654f2\n",
      "https://entity.api.hubmapconsortium.org/entities/d1e9f509063984326570cf603c5654f2\n",
      "https://entity.api.hubmapconsortium.org/entities/5f2a08b1c3ce5d7d880dd19b5eb9d04c\n",
      "https://entity.api.hubmapconsortium.org/entities/9457860c1b69f7ec3e51a6b648eabf13\n",
      "https://entity.api.hubmapconsortium.org/entities/9457860c1b69f7ec3e51a6b648eabf13\n",
      "https://entity.api.hubmapconsortium.org/entities/4608ccb9df2505ed8f3ffe02451b4a19\n",
      "https://entity.api.hubmapconsortium.org/entities/9e91d1be412466551533cce5594450cb\n",
      "https://entity.api.hubmapconsortium.org/entities/f7a8e78dea9cf70735059e8b4a179701\n",
      "https://entity.api.hubmapconsortium.org/entities/e35c788dcdcb18c64ad300097b0b863c\n",
      "https://entity.api.hubmapconsortium.org/entities/e35c788dcdcb18c64ad300097b0b863c\n",
      "https://entity.api.hubmapconsortium.org/entities/7479e6dbfa3b3a8e1e2d4f78cbe0f9e4\n",
      "https://entity.api.hubmapconsortium.org/entities/7479e6dbfa3b3a8e1e2d4f78cbe0f9e4\n",
      "https://entity.api.hubmapconsortium.org/entities/86ad3859bb98f5d35e5f2ce553e64164\n",
      "https://entity.api.hubmapconsortium.org/entities/86ad3859bb98f5d35e5f2ce553e64164\n",
      "https://entity.api.hubmapconsortium.org/entities/5d59784e70a74d4f44c729afff22668c\n",
      "https://entity.api.hubmapconsortium.org/entities/5d59784e70a74d4f44c729afff22668c\n",
      "https://entity.api.hubmapconsortium.org/entities/d1e9f509063984326570cf603c5654f2\n",
      "https://entity.api.hubmapconsortium.org/entities/d1e9f509063984326570cf603c5654f2\n",
      "https://entity.api.hubmapconsortium.org/entities/33c0ce043ae331ea23fc80023428e534\n",
      "https://entity.api.hubmapconsortium.org/entities/33c0ce043ae331ea23fc80023428e534\n",
      "https://entity.api.hubmapconsortium.org/entities/ee6e44b3e6cb77ef1806e722390a01a8\n",
      "https://entity.api.hubmapconsortium.org/entities/434fbc55d458dc4e06da9ba4961f3840\n",
      "https://entity.api.hubmapconsortium.org/entities/71e7e38c9d8a2f211e3ef47d7b8f3fe6\n",
      "https://entity.api.hubmapconsortium.org/entities/434fbc55d458dc4e06da9ba4961f3840\n",
      "https://entity.api.hubmapconsortium.org/entities/71e7e38c9d8a2f211e3ef47d7b8f3fe6\n",
      "https://entity.api.hubmapconsortium.org/entities/a69367866979f878635b2b665a6a7e0c\n",
      "https://entity.api.hubmapconsortium.org/entities/a69367866979f878635b2b665a6a7e0c\n",
      "https://entity.api.hubmapconsortium.org/entities/611d301d6755508efd91a6d924d7c400\n",
      "https://entity.api.hubmapconsortium.org/entities/611d301d6755508efd91a6d924d7c400\n",
      "https://entity.api.hubmapconsortium.org/entities/85dcbf66b078d61015a6e1c1f971d7d8\n",
      "https://entity.api.hubmapconsortium.org/entities/85dcbf66b078d61015a6e1c1f971d7d8\n",
      "https://entity.api.hubmapconsortium.org/entities/813af4ad3207830e0e7b2559413028bf\n",
      "https://entity.api.hubmapconsortium.org/entities/813af4ad3207830e0e7b2559413028bf\n",
      "https://entity.api.hubmapconsortium.org/entities/c40da13b509a43ba96d3a6832f79bf71\n",
      "https://entity.api.hubmapconsortium.org/entities/9fe24e50c8b8b77d86900ee4beecef69\n",
      "https://entity.api.hubmapconsortium.org/entities/323c68262eb07f786041b6253e9e83ca\n",
      "https://entity.api.hubmapconsortium.org/entities/9fe24e50c8b8b77d86900ee4beecef69\n",
      "https://entity.api.hubmapconsortium.org/entities/323c68262eb07f786041b6253e9e83ca\n",
      "https://entity.api.hubmapconsortium.org/entities/9aed52d22e30b893045fd1f79b3663fb\n",
      "https://entity.api.hubmapconsortium.org/entities/f90ca327ace4f28721be1c39c77d8834\n",
      "https://entity.api.hubmapconsortium.org/entities/f90ca327ace4f28721be1c39c77d8834\n",
      "https://entity.api.hubmapconsortium.org/entities/9b20142483d5714c66885b690c00af4f\n",
      "https://entity.api.hubmapconsortium.org/entities/eb961e5dc50239d35f5398903c64e2b9\n",
      "https://entity.api.hubmapconsortium.org/entities/eb961e5dc50239d35f5398903c64e2b9\n",
      "https://entity.api.hubmapconsortium.org/entities/4608ccb9df2505ed8f3ffe02451b4a19\n",
      "https://entity.api.hubmapconsortium.org/entities/f846d8a192affe8580eacd18e4e27897\n",
      "https://entity.api.hubmapconsortium.org/entities/d1e9f509063984326570cf603c5654f2\n",
      "https://entity.api.hubmapconsortium.org/entities/d1e9f509063984326570cf603c5654f2\n",
      "https://entity.api.hubmapconsortium.org/entities/76b410b314b455d86dfa098c97b8acf6\n",
      "https://entity.api.hubmapconsortium.org/entities/76b410b314b455d86dfa098c97b8acf6\n",
      "https://entity.api.hubmapconsortium.org/entities/fa9a13fa6cca3c96869930f0b483b484\n",
      "https://entity.api.hubmapconsortium.org/entities/fa9a13fa6cca3c96869930f0b483b484\n",
      "https://entity.api.hubmapconsortium.org/entities/5d59784e70a74d4f44c729afff22668c\n",
      "https://entity.api.hubmapconsortium.org/entities/5d59784e70a74d4f44c729afff22668c\n",
      "https://entity.api.hubmapconsortium.org/entities/33c0ce043ae331ea23fc80023428e534\n",
      "https://entity.api.hubmapconsortium.org/entities/33c0ce043ae331ea23fc80023428e534\n",
      "https://entity.api.hubmapconsortium.org/entities/aa93e53df10842c13348a334c8fe423f\n",
      "https://entity.api.hubmapconsortium.org/entities/aa93e53df10842c13348a334c8fe423f\n",
      "https://entity.api.hubmapconsortium.org/entities/c40da13b509a43ba96d3a6832f79bf71\n",
      "https://entity.api.hubmapconsortium.org/entities/eb961e5dc50239d35f5398903c64e2b9\n",
      "https://entity.api.hubmapconsortium.org/entities/eb961e5dc50239d35f5398903c64e2b9\n",
      "https://entity.api.hubmapconsortium.org/entities/18b8ab61674cf05024456cde49ac67bb\n",
      "https://entity.api.hubmapconsortium.org/entities/704d16116f29994ab0e714f4afdb5516\n",
      "https://entity.api.hubmapconsortium.org/entities/704d16116f29994ab0e714f4afdb5516\n",
      "https://entity.api.hubmapconsortium.org/entities/f90ca327ace4f28721be1c39c77d8834\n",
      "https://entity.api.hubmapconsortium.org/entities/f90ca327ace4f28721be1c39c77d8834\n",
      "https://entity.api.hubmapconsortium.org/entities/7b4d9ca7452ea1303ecca268db1fccba\n",
      "https://entity.api.hubmapconsortium.org/entities/c40da13b509a43ba96d3a6832f79bf71\n",
      "https://entity.api.hubmapconsortium.org/entities/2dc005024c64b82e95e6e69d56407c0e\n",
      "https://entity.api.hubmapconsortium.org/entities/2dc005024c64b82e95e6e69d56407c0e\n",
      "https://entity.api.hubmapconsortium.org/entities/5018361bf80fb257d39cea6f4425bbae\n",
      "https://entity.api.hubmapconsortium.org/entities/5d111a1db2f18d507d23e79b993e1e4a\n",
      "https://entity.api.hubmapconsortium.org/entities/ee6e44b3e6cb77ef1806e722390a01a8\n",
      "https://entity.api.hubmapconsortium.org/entities/7b15d0833426852e59a08f6c6a75f4d8\n",
      "https://entity.api.hubmapconsortium.org/entities/7b15d0833426852e59a08f6c6a75f4d8\n",
      "https://entity.api.hubmapconsortium.org/entities/bbcad31a55b1710dd5f889be8f63b62b\n",
      "https://entity.api.hubmapconsortium.org/entities/bbcad31a55b1710dd5f889be8f63b62b\n",
      "https://entity.api.hubmapconsortium.org/entities/eb961e5dc50239d35f5398903c64e2b9\n",
      "https://entity.api.hubmapconsortium.org/entities/eb961e5dc50239d35f5398903c64e2b9\n",
      "https://entity.api.hubmapconsortium.org/entities/a483dd481580fd0dfc3e5aa00426ab58\n",
      "https://entity.api.hubmapconsortium.org/entities/a95f2c79bb637141f7e6874eddc8e274\n",
      "https://entity.api.hubmapconsortium.org/entities/a95f2c79bb637141f7e6874eddc8e274\n",
      "https://entity.api.hubmapconsortium.org/entities/dd3e6da115fd13eee62d9a4fba2324ae\n",
      "https://entity.api.hubmapconsortium.org/entities/dd3e6da115fd13eee62d9a4fba2324ae\n",
      "https://entity.api.hubmapconsortium.org/entities/a69367866979f878635b2b665a6a7e0c\n",
      "https://entity.api.hubmapconsortium.org/entities/a69367866979f878635b2b665a6a7e0c\n",
      "https://entity.api.hubmapconsortium.org/entities/33c0ce043ae331ea23fc80023428e534\n",
      "https://entity.api.hubmapconsortium.org/entities/33c0ce043ae331ea23fc80023428e534\n",
      "https://entity.api.hubmapconsortium.org/entities/faa1acc13943ee9d365b6cc6a3ea889f\n",
      "https://entity.api.hubmapconsortium.org/entities/cd3cd77eec0fc514b236597aee14c508\n",
      "https://entity.api.hubmapconsortium.org/entities/dd3e6da115fd13eee62d9a4fba2324ae\n",
      "https://entity.api.hubmapconsortium.org/entities/dd3e6da115fd13eee62d9a4fba2324ae\n",
      "https://entity.api.hubmapconsortium.org/entities/bb10cd1926335fb8fb20bfc041337681\n",
      "https://entity.api.hubmapconsortium.org/entities/85dcbf66b078d61015a6e1c1f971d7d8\n",
      "https://entity.api.hubmapconsortium.org/entities/85dcbf66b078d61015a6e1c1f971d7d8\n",
      "https://entity.api.hubmapconsortium.org/entities/85dcbf66b078d61015a6e1c1f971d7d8\n",
      "https://entity.api.hubmapconsortium.org/entities/85dcbf66b078d61015a6e1c1f971d7d8\n",
      "https://entity.api.hubmapconsortium.org/entities/e375a44f5cf5457c8f9b1132574c2436\n",
      "https://entity.api.hubmapconsortium.org/entities/8f27d93b71147597f38de827f233930e\n",
      "https://entity.api.hubmapconsortium.org/entities/6204c98529c482e1bb3816559775dc54\n",
      "https://entity.api.hubmapconsortium.org/entities/d8ec264c4660ef7053764f71ae1789d0\n",
      "https://entity.api.hubmapconsortium.org/entities/8b205b7d32b404e39106405cfc0beaad\n",
      "https://entity.api.hubmapconsortium.org/entities/8b205b7d32b404e39106405cfc0beaad\n",
      "https://entity.api.hubmapconsortium.org/entities/2f9777369594ff09a82bd51f6251ed83\n",
      "https://entity.api.hubmapconsortium.org/entities/2f9777369594ff09a82bd51f6251ed83\n",
      "https://entity.api.hubmapconsortium.org/entities/bbcad31a55b1710dd5f889be8f63b62b\n",
      "https://entity.api.hubmapconsortium.org/entities/bbcad31a55b1710dd5f889be8f63b62b\n",
      "https://entity.api.hubmapconsortium.org/entities/8c5e705001d5cc1c40dbd963ad848486\n",
      "https://entity.api.hubmapconsortium.org/entities/8c5e705001d5cc1c40dbd963ad848486\n",
      "https://entity.api.hubmapconsortium.org/entities/fa9a13fa6cca3c96869930f0b483b484\n",
      "https://entity.api.hubmapconsortium.org/entities/fa9a13fa6cca3c96869930f0b483b484\n",
      "https://entity.api.hubmapconsortium.org/entities/4608ccb9df2505ed8f3ffe02451b4a19\n",
      "https://entity.api.hubmapconsortium.org/entities/85fa094cbdb29173e0a3463dce0790fc\n",
      "https://entity.api.hubmapconsortium.org/entities/0219f5ba7743f0fc59d027eb23c5187d\n",
      "https://entity.api.hubmapconsortium.org/entities/a69367866979f878635b2b665a6a7e0c\n",
      "https://entity.api.hubmapconsortium.org/entities/a69367866979f878635b2b665a6a7e0c\n",
      "https://entity.api.hubmapconsortium.org/entities/79022070eab3517655e57a85b2438e7a\n",
      "https://entity.api.hubmapconsortium.org/entities/79022070eab3517655e57a85b2438e7a\n",
      "https://entity.api.hubmapconsortium.org/entities/4608ccb9df2505ed8f3ffe02451b4a19\n",
      "https://entity.api.hubmapconsortium.org/entities/aaedb5272190e61bf557d3b0a1bc591f\n",
      "https://entity.api.hubmapconsortium.org/entities/8d6cb8fe53f4e885ffae4a09d1207d1b\n",
      "https://entity.api.hubmapconsortium.org/entities/dd3e6da115fd13eee62d9a4fba2324ae\n",
      "https://entity.api.hubmapconsortium.org/entities/dd3e6da115fd13eee62d9a4fba2324ae\n",
      "https://entity.api.hubmapconsortium.org/entities/42ab155ddff1d33fe1c505c067828614\n",
      "https://entity.api.hubmapconsortium.org/entities/fc5560162deab57641085cdf8bcdfe87\n",
      "https://entity.api.hubmapconsortium.org/entities/42ab155ddff1d33fe1c505c067828614\n",
      "https://entity.api.hubmapconsortium.org/entities/fc5560162deab57641085cdf8bcdfe87\n",
      "https://entity.api.hubmapconsortium.org/entities/ed630484e46ea49b319c0e1f92140059\n",
      "https://entity.api.hubmapconsortium.org/entities/8f127a10d370ddfbc902313f248721c3\n",
      "https://entity.api.hubmapconsortium.org/entities/0b1017f6a9d71c4e75125e7144b62795\n",
      "https://entity.api.hubmapconsortium.org/entities/d1e9f509063984326570cf603c5654f2\n",
      "https://entity.api.hubmapconsortium.org/entities/d1e9f509063984326570cf603c5654f2\n",
      "https://entity.api.hubmapconsortium.org/entities/85fa094cbdb29173e0a3463dce0790fc\n",
      "https://entity.api.hubmapconsortium.org/entities/7479e6dbfa3b3a8e1e2d4f78cbe0f9e4\n",
      "https://entity.api.hubmapconsortium.org/entities/7479e6dbfa3b3a8e1e2d4f78cbe0f9e4\n",
      "https://entity.api.hubmapconsortium.org/entities/f4f6e6614dd5645a37eae9dee1d6bbef\n",
      "https://entity.api.hubmapconsortium.org/entities/26e1f2991c6f67fa10e9670f1bc0da6a\n",
      "https://entity.api.hubmapconsortium.org/entities/7199675050ce69bc8c4812005ff086f9\n",
      "https://entity.api.hubmapconsortium.org/entities/aa93e53df10842c13348a334c8fe423f\n",
      "https://entity.api.hubmapconsortium.org/entities/aa93e53df10842c13348a334c8fe423f\n",
      "https://entity.api.hubmapconsortium.org/entities/8b65acdfecc504e9a96c84643c3ab02c\n",
      "https://entity.api.hubmapconsortium.org/entities/8c5e705001d5cc1c40dbd963ad848486\n",
      "https://entity.api.hubmapconsortium.org/entities/8c5e705001d5cc1c40dbd963ad848486\n",
      "https://entity.api.hubmapconsortium.org/entities/e7abfa80618f6dffe82267a6ea144c5a\n",
      "https://entity.api.hubmapconsortium.org/entities/f7a8e78dea9cf70735059e8b4a179701\n",
      "https://entity.api.hubmapconsortium.org/entities/9457860c1b69f7ec3e51a6b648eabf13\n",
      "https://entity.api.hubmapconsortium.org/entities/9457860c1b69f7ec3e51a6b648eabf13\n",
      "https://entity.api.hubmapconsortium.org/entities/c6bb00096b0cf40751f9d6003fb730c7\n",
      "https://entity.api.hubmapconsortium.org/entities/98fd7493f62883b748e0f37885be0f07\n",
      "https://entity.api.hubmapconsortium.org/entities/5d59784e70a74d4f44c729afff22668c\n",
      "https://entity.api.hubmapconsortium.org/entities/5d59784e70a74d4f44c729afff22668c\n",
      "https://entity.api.hubmapconsortium.org/entities/eb961e5dc50239d35f5398903c64e2b9\n",
      "https://entity.api.hubmapconsortium.org/entities/eb961e5dc50239d35f5398903c64e2b9\n",
      "https://entity.api.hubmapconsortium.org/entities/33c0ce043ae331ea23fc80023428e534\n",
      "https://entity.api.hubmapconsortium.org/entities/33c0ce043ae331ea23fc80023428e534\n",
      "https://entity.api.hubmapconsortium.org/entities/d1e9f509063984326570cf603c5654f2\n",
      "https://entity.api.hubmapconsortium.org/entities/d1e9f509063984326570cf603c5654f2\n",
      "https://entity.api.hubmapconsortium.org/entities/bbcad31a55b1710dd5f889be8f63b62b\n",
      "https://entity.api.hubmapconsortium.org/entities/bbcad31a55b1710dd5f889be8f63b62b\n",
      "https://entity.api.hubmapconsortium.org/entities/020117a381ac84a941c974b939ea3115\n",
      "https://entity.api.hubmapconsortium.org/entities/d8ec264c4660ef7053764f71ae1789d0\n",
      "https://entity.api.hubmapconsortium.org/entities/a8560706a0a6bcffd974ed4dd8082571\n",
      "https://entity.api.hubmapconsortium.org/entities/a8560706a0a6bcffd974ed4dd8082571\n",
      "https://entity.api.hubmapconsortium.org/entities/f90ca327ace4f28721be1c39c77d8834\n",
      "https://entity.api.hubmapconsortium.org/entities/f90ca327ace4f28721be1c39c77d8834\n",
      "https://entity.api.hubmapconsortium.org/entities/dd9c7ba448d249b4d8d99e444c592c54\n",
      "https://entity.api.hubmapconsortium.org/entities/dd9c7ba448d249b4d8d99e444c592c54\n",
      "https://entity.api.hubmapconsortium.org/entities/f7a8e78dea9cf70735059e8b4a179701\n",
      "https://entity.api.hubmapconsortium.org/entities/84db9a72aba9ae0ef740192ad8747ee3\n",
      "https://entity.api.hubmapconsortium.org/entities/f90ca327ace4f28721be1c39c77d8834\n",
      "https://entity.api.hubmapconsortium.org/entities/f90ca327ace4f28721be1c39c77d8834\n",
      "https://entity.api.hubmapconsortium.org/entities/93204c7af92f0bad431735d7c9c9185a\n",
      "https://entity.api.hubmapconsortium.org/entities/93204c7af92f0bad431735d7c9c9185a\n",
      "https://entity.api.hubmapconsortium.org/entities/9457860c1b69f7ec3e51a6b648eabf13\n",
      "https://entity.api.hubmapconsortium.org/entities/9457860c1b69f7ec3e51a6b648eabf13\n",
      "https://entity.api.hubmapconsortium.org/entities/b340bb5715f967aa74d1b8eaeec0d475\n",
      "https://entity.api.hubmapconsortium.org/entities/ac1d4544ab4886b851f74b2c21952378\n",
      "https://entity.api.hubmapconsortium.org/entities/ac1d4544ab4886b851f74b2c21952378\n",
      "https://entity.api.hubmapconsortium.org/entities/f7a8e78dea9cf70735059e8b4a179701\n",
      "https://entity.api.hubmapconsortium.org/entities/bbcad31a55b1710dd5f889be8f63b62b\n",
      "https://entity.api.hubmapconsortium.org/entities/bbcad31a55b1710dd5f889be8f63b62b\n",
      "https://entity.api.hubmapconsortium.org/entities/7e7d753ec5074f5d7ae987c47f1c3c0b\n",
      "https://entity.api.hubmapconsortium.org/entities/704d16116f29994ab0e714f4afdb5516\n",
      "https://entity.api.hubmapconsortium.org/entities/704d16116f29994ab0e714f4afdb5516\n",
      "https://entity.api.hubmapconsortium.org/entities/5ee0b172de3ea493e0da2e7f743b3631\n",
      "https://entity.api.hubmapconsortium.org/entities/5d59784e70a74d4f44c729afff22668c\n",
      "https://entity.api.hubmapconsortium.org/entities/5d59784e70a74d4f44c729afff22668c\n",
      "https://entity.api.hubmapconsortium.org/entities/969b81f6dfbc0ed1fc21b00e2997d441\n",
      "https://entity.api.hubmapconsortium.org/entities/b1ac71625c1aba9d819fae1725c27a42\n",
      "https://entity.api.hubmapconsortium.org/entities/a69367866979f878635b2b665a6a7e0c\n",
      "https://entity.api.hubmapconsortium.org/entities/a69367866979f878635b2b665a6a7e0c\n",
      "https://entity.api.hubmapconsortium.org/entities/aeb2f6902721eb8c7d44c1c3669c640c\n",
      "https://entity.api.hubmapconsortium.org/entities/aeb2f6902721eb8c7d44c1c3669c640c\n",
      "https://entity.api.hubmapconsortium.org/entities/a95f2c79bb637141f7e6874eddc8e274\n",
      "https://entity.api.hubmapconsortium.org/entities/a95f2c79bb637141f7e6874eddc8e274\n",
      "https://entity.api.hubmapconsortium.org/entities/a4fe3e811e2bfc795dbbb133f6b6a8a4\n",
      "https://entity.api.hubmapconsortium.org/entities/a4fe3e811e2bfc795dbbb133f6b6a8a4\n",
      "https://entity.api.hubmapconsortium.org/entities/897c8d98e62b782b81f4b1bbf85e49bc\n",
      "https://entity.api.hubmapconsortium.org/entities/897c8d98e62b782b81f4b1bbf85e49bc\n",
      "https://entity.api.hubmapconsortium.org/entities/6c8b810d8727dfc1dba7774a26d885a5\n",
      "https://entity.api.hubmapconsortium.org/entities/6c8b810d8727dfc1dba7774a26d885a5\n",
      "https://entity.api.hubmapconsortium.org/entities/34dc58df212563c90d9d86782f4209ba\n",
      "https://entity.api.hubmapconsortium.org/entities/34dc58df212563c90d9d86782f4209ba\n",
      "https://entity.api.hubmapconsortium.org/entities/85fa094cbdb29173e0a3463dce0790fc\n",
      "https://entity.api.hubmapconsortium.org/entities/21043afd6be7ec258f8a9fa1577c41b5\n",
      "https://entity.api.hubmapconsortium.org/entities/8c5e705001d5cc1c40dbd963ad848486\n",
      "https://entity.api.hubmapconsortium.org/entities/8c5e705001d5cc1c40dbd963ad848486\n",
      "https://entity.api.hubmapconsortium.org/entities/aa93e53df10842c13348a334c8fe423f\n",
      "https://entity.api.hubmapconsortium.org/entities/aa93e53df10842c13348a334c8fe423f\n",
      "https://entity.api.hubmapconsortium.org/entities/293d9f9a1a076c616ed91d7251ec831c\n",
      "https://entity.api.hubmapconsortium.org/entities/93e233e001463fea35d8617c34da098c\n",
      "https://entity.api.hubmapconsortium.org/entities/fa9a13fa6cca3c96869930f0b483b484\n",
      "https://entity.api.hubmapconsortium.org/entities/fa9a13fa6cca3c96869930f0b483b484\n",
      "https://entity.api.hubmapconsortium.org/entities/d8ec264c4660ef7053764f71ae1789d0\n",
      "https://entity.api.hubmapconsortium.org/entities/5e47d518f078be2553080b88d8b33323\n",
      "https://entity.api.hubmapconsortium.org/entities/85dcbf66b078d61015a6e1c1f971d7d8\n",
      "https://entity.api.hubmapconsortium.org/entities/85dcbf66b078d61015a6e1c1f971d7d8\n",
      "https://entity.api.hubmapconsortium.org/entities/8c5e705001d5cc1c40dbd963ad848486\n",
      "https://entity.api.hubmapconsortium.org/entities/8c5e705001d5cc1c40dbd963ad848486\n",
      "https://entity.api.hubmapconsortium.org/entities/1197c73d127193dd493ff542890a3d3d\n",
      "https://entity.api.hubmapconsortium.org/entities/142389945aef42b17d85cbd7bee073fd\n",
      "https://entity.api.hubmapconsortium.org/entities/9457860c1b69f7ec3e51a6b648eabf13\n",
      "https://entity.api.hubmapconsortium.org/entities/9457860c1b69f7ec3e51a6b648eabf13\n",
      "https://entity.api.hubmapconsortium.org/entities/293d9f9a1a076c616ed91d7251ec831c\n",
      "https://entity.api.hubmapconsortium.org/entities/ec7cffb518a4a21025dc213ee1a27ff0\n",
      "https://entity.api.hubmapconsortium.org/entities/bbcad31a55b1710dd5f889be8f63b62b\n",
      "https://entity.api.hubmapconsortium.org/entities/bbcad31a55b1710dd5f889be8f63b62b\n",
      "https://entity.api.hubmapconsortium.org/entities/c05a38c5210b870281b5aea01e290339\n",
      "https://entity.api.hubmapconsortium.org/entities/c05a38c5210b870281b5aea01e290339\n",
      "https://entity.api.hubmapconsortium.org/entities/5d59784e70a74d4f44c729afff22668c\n",
      "https://entity.api.hubmapconsortium.org/entities/5d59784e70a74d4f44c729afff22668c\n",
      "https://entity.api.hubmapconsortium.org/entities/7479e6dbfa3b3a8e1e2d4f78cbe0f9e4\n",
      "https://entity.api.hubmapconsortium.org/entities/7479e6dbfa3b3a8e1e2d4f78cbe0f9e4\n",
      "https://entity.api.hubmapconsortium.org/entities/ac1d4544ab4886b851f74b2c21952378\n",
      "https://entity.api.hubmapconsortium.org/entities/ac1d4544ab4886b851f74b2c21952378\n",
      "https://entity.api.hubmapconsortium.org/entities/d171ff8d83f707ecca64ff159c7160a7\n",
      "https://entity.api.hubmapconsortium.org/entities/2d3dbd5e5a3d9d5cfc7a46f06815a4eb\n",
      "https://entity.api.hubmapconsortium.org/entities/d1e9f509063984326570cf603c5654f2\n",
      "https://entity.api.hubmapconsortium.org/entities/d1e9f509063984326570cf603c5654f2\n",
      "https://entity.api.hubmapconsortium.org/entities/a95f2c79bb637141f7e6874eddc8e274\n",
      "https://entity.api.hubmapconsortium.org/entities/a95f2c79bb637141f7e6874eddc8e274\n",
      "https://entity.api.hubmapconsortium.org/entities/c429e51920537c11fa91d1bc69085c1d\n",
      "https://entity.api.hubmapconsortium.org/entities/c429e51920537c11fa91d1bc69085c1d\n",
      "https://entity.api.hubmapconsortium.org/entities/fa9a13fa6cca3c96869930f0b483b484\n",
      "https://entity.api.hubmapconsortium.org/entities/fa9a13fa6cca3c96869930f0b483b484\n",
      "https://entity.api.hubmapconsortium.org/entities/739184f7ec84d93a35360cde81cc026c\n",
      "https://entity.api.hubmapconsortium.org/entities/4a4c98d9dd27afd652cdab74f9952bf1\n",
      "https://entity.api.hubmapconsortium.org/entities/739184f7ec84d93a35360cde81cc026c\n",
      "https://entity.api.hubmapconsortium.org/entities/4a4c98d9dd27afd652cdab74f9952bf1\n",
      "https://entity.api.hubmapconsortium.org/entities/84db9a72aba9ae0ef740192ad8747ee3\n",
      "https://entity.api.hubmapconsortium.org/entities/e855a116375f67684fb25be9600e455b\n",
      "https://entity.api.hubmapconsortium.org/entities/91cfb45f5d398e950ed65786c87f4372\n",
      "https://entity.api.hubmapconsortium.org/entities/91d725656c8439a58d92ccadc01465bf\n",
      "https://entity.api.hubmapconsortium.org/entities/91cfb45f5d398e950ed65786c87f4372\n",
      "https://entity.api.hubmapconsortium.org/entities/91d725656c8439a58d92ccadc01465bf\n",
      "https://entity.api.hubmapconsortium.org/entities/dc005f938f6a87d57d4150bcd5a12c92\n",
      "https://entity.api.hubmapconsortium.org/entities/8c5e705001d5cc1c40dbd963ad848486\n",
      "https://entity.api.hubmapconsortium.org/entities/8c5e705001d5cc1c40dbd963ad848486\n",
      "https://entity.api.hubmapconsortium.org/entities/6b19b8025b7928aa2eb3c43c00955b93\n",
      "https://entity.api.hubmapconsortium.org/entities/6b19b8025b7928aa2eb3c43c00955b93\n",
      "https://entity.api.hubmapconsortium.org/entities/33c0ce043ae331ea23fc80023428e534\n",
      "https://entity.api.hubmapconsortium.org/entities/33c0ce043ae331ea23fc80023428e534\n",
      "https://entity.api.hubmapconsortium.org/entities/8cc6af72f27be7b6406547c64bbb2637\n",
      "https://entity.api.hubmapconsortium.org/entities/8cc6af72f27be7b6406547c64bbb2637\n",
      "https://entity.api.hubmapconsortium.org/entities/cb75fa61840081ea61c83bd9d76c7061\n",
      "https://entity.api.hubmapconsortium.org/entities/cb75fa61840081ea61c83bd9d76c7061\n",
      "https://entity.api.hubmapconsortium.org/entities/eb961e5dc50239d35f5398903c64e2b9\n",
      "https://entity.api.hubmapconsortium.org/entities/eb961e5dc50239d35f5398903c64e2b9\n",
      "https://entity.api.hubmapconsortium.org/entities/fa9a13fa6cca3c96869930f0b483b484\n",
      "https://entity.api.hubmapconsortium.org/entities/fa9a13fa6cca3c96869930f0b483b484\n",
      "https://entity.api.hubmapconsortium.org/entities/59249f23ecdcc975c90de9a1956a5285\n",
      "https://entity.api.hubmapconsortium.org/entities/2fddd5c64171027565fa163280b1652a\n",
      "https://entity.api.hubmapconsortium.org/entities/59249f23ecdcc975c90de9a1956a5285\n",
      "https://entity.api.hubmapconsortium.org/entities/2fddd5c64171027565fa163280b1652a\n",
      "https://entity.api.hubmapconsortium.org/entities/84db9a72aba9ae0ef740192ad8747ee3\n",
      "https://entity.api.hubmapconsortium.org/entities/ee6e44b3e6cb77ef1806e722390a01a8\n",
      "https://entity.api.hubmapconsortium.org/entities/a2b20bdf8e9602ea775a84cbb10472d3\n",
      "https://entity.api.hubmapconsortium.org/entities/a2b20bdf8e9602ea775a84cbb10472d3\n",
      "https://entity.api.hubmapconsortium.org/entities/eb961e5dc50239d35f5398903c64e2b9\n",
      "https://entity.api.hubmapconsortium.org/entities/eb961e5dc50239d35f5398903c64e2b9\n",
      "https://entity.api.hubmapconsortium.org/entities/fd57a928d9f3cee7e95d284f1d5b9935\n",
      "https://entity.api.hubmapconsortium.org/entities/dd3e6da115fd13eee62d9a4fba2324ae\n",
      "https://entity.api.hubmapconsortium.org/entities/dd3e6da115fd13eee62d9a4fba2324ae\n",
      "https://entity.api.hubmapconsortium.org/entities/a95f2c79bb637141f7e6874eddc8e274\n",
      "https://entity.api.hubmapconsortium.org/entities/a95f2c79bb637141f7e6874eddc8e274\n",
      "https://entity.api.hubmapconsortium.org/entities/d171ff8d83f707ecca64ff159c7160a7\n",
      "https://entity.api.hubmapconsortium.org/entities/a2268636667d51ce05ddea2451621434\n",
      "https://entity.api.hubmapconsortium.org/entities/a2268636667d51ce05ddea2451621434\n",
      "https://entity.api.hubmapconsortium.org/entities/d0f164331f53f745cfa3e67bf3feb22d\n",
      "https://entity.api.hubmapconsortium.org/entities/d0f164331f53f745cfa3e67bf3feb22d\n",
      "https://entity.api.hubmapconsortium.org/entities/a95f2c79bb637141f7e6874eddc8e274\n",
      "https://entity.api.hubmapconsortium.org/entities/a95f2c79bb637141f7e6874eddc8e274\n",
      "https://entity.api.hubmapconsortium.org/entities/2d0deacd8be70eefbdc33ac107d97e58\n",
      "https://entity.api.hubmapconsortium.org/entities/4608ccb9df2505ed8f3ffe02451b4a19\n",
      "https://entity.api.hubmapconsortium.org/entities/b2e48b3c4cd58eb8abc2fcf0c2a79a98\n",
      "https://entity.api.hubmapconsortium.org/entities/c40da13b509a43ba96d3a6832f79bf71\n",
      "https://entity.api.hubmapconsortium.org/entities/d171ff8d83f707ecca64ff159c7160a7\n",
      "https://entity.api.hubmapconsortium.org/entities/0b2dd0e14711d1f77e15ff1c731ef069\n",
      "https://entity.api.hubmapconsortium.org/entities/0b2dd0e14711d1f77e15ff1c731ef069\n",
      "https://entity.api.hubmapconsortium.org/entities/f90ca327ace4f28721be1c39c77d8834\n",
      "https://entity.api.hubmapconsortium.org/entities/f90ca327ace4f28721be1c39c77d8834\n",
      "https://entity.api.hubmapconsortium.org/entities/3c22b735beed13a206fa6d0af9762564\n",
      "https://entity.api.hubmapconsortium.org/entities/aa93e53df10842c13348a334c8fe423f\n",
      "https://entity.api.hubmapconsortium.org/entities/aa93e53df10842c13348a334c8fe423f\n",
      "https://entity.api.hubmapconsortium.org/entities/7479e6dbfa3b3a8e1e2d4f78cbe0f9e4\n",
      "https://entity.api.hubmapconsortium.org/entities/7479e6dbfa3b3a8e1e2d4f78cbe0f9e4\n",
      "https://entity.api.hubmapconsortium.org/entities/a69367866979f878635b2b665a6a7e0c\n",
      "https://entity.api.hubmapconsortium.org/entities/a69367866979f878635b2b665a6a7e0c\n",
      "https://entity.api.hubmapconsortium.org/entities/293d9f9a1a076c616ed91d7251ec831c\n",
      "https://entity.api.hubmapconsortium.org/entities/53fe8a84564b313d4e8ee90f337129dc\n",
      "https://entity.api.hubmapconsortium.org/entities/8c5e705001d5cc1c40dbd963ad848486\n",
      "https://entity.api.hubmapconsortium.org/entities/8c5e705001d5cc1c40dbd963ad848486\n",
      "https://entity.api.hubmapconsortium.org/entities/92248f72d47b916a2027085ec1b8e996\n",
      "https://entity.api.hubmapconsortium.org/entities/cf3ba9b4cc97302d70d28139ae8e4c13\n",
      "https://entity.api.hubmapconsortium.org/entities/92248f72d47b916a2027085ec1b8e996\n",
      "https://entity.api.hubmapconsortium.org/entities/cf3ba9b4cc97302d70d28139ae8e4c13\n",
      "https://entity.api.hubmapconsortium.org/entities/48bdce10978fb6c94a513987ab657031\n",
      "https://entity.api.hubmapconsortium.org/entities/35f5b75a7e3d0711f16b0a10219586fb\n",
      "https://entity.api.hubmapconsortium.org/entities/5bc39f0a0deb7632f5cb9650d5e7067c\n",
      "https://entity.api.hubmapconsortium.org/entities/85dcbf66b078d61015a6e1c1f971d7d8\n",
      "https://entity.api.hubmapconsortium.org/entities/85dcbf66b078d61015a6e1c1f971d7d8\n",
      "https://entity.api.hubmapconsortium.org/entities/84db9a72aba9ae0ef740192ad8747ee3\n",
      "https://entity.api.hubmapconsortium.org/entities/996a59f0f3819e0b8b425de528467407\n",
      "https://entity.api.hubmapconsortium.org/entities/704d16116f29994ab0e714f4afdb5516\n",
      "https://entity.api.hubmapconsortium.org/entities/704d16116f29994ab0e714f4afdb5516\n",
      "https://entity.api.hubmapconsortium.org/entities/293d9f9a1a076c616ed91d7251ec831c\n",
      "https://entity.api.hubmapconsortium.org/entities/643d4afbd87752a89d7643faed261aba\n",
      "https://entity.api.hubmapconsortium.org/entities/c40da13b509a43ba96d3a6832f79bf71\n",
      "https://entity.api.hubmapconsortium.org/entities/85dcbf66b078d61015a6e1c1f971d7d8\n",
      "https://entity.api.hubmapconsortium.org/entities/85dcbf66b078d61015a6e1c1f971d7d8\n",
      "https://entity.api.hubmapconsortium.org/entities/704d16116f29994ab0e714f4afdb5516\n",
      "https://entity.api.hubmapconsortium.org/entities/704d16116f29994ab0e714f4afdb5516\n",
      "https://entity.api.hubmapconsortium.org/entities/ac1d4544ab4886b851f74b2c21952378\n",
      "https://entity.api.hubmapconsortium.org/entities/ac1d4544ab4886b851f74b2c21952378\n",
      "https://entity.api.hubmapconsortium.org/entities/0119a79114328c9b2802771bed6611f5\n",
      "https://entity.api.hubmapconsortium.org/entities/6f98ad7345f59e9a0a60b6f706b373bb\n",
      "https://entity.api.hubmapconsortium.org/entities/4c435d2297941eafda7fe30f327f88ec\n",
      "https://entity.api.hubmapconsortium.org/entities/6f98ad7345f59e9a0a60b6f706b373bb\n",
      "https://entity.api.hubmapconsortium.org/entities/4c435d2297941eafda7fe30f327f88ec\n",
      "https://entity.api.hubmapconsortium.org/entities/37e2a37daa119629991bbc398d00b576\n",
      "https://entity.api.hubmapconsortium.org/entities/9457860c1b69f7ec3e51a6b648eabf13\n",
      "https://entity.api.hubmapconsortium.org/entities/9457860c1b69f7ec3e51a6b648eabf13\n",
      "https://entity.api.hubmapconsortium.org/entities/5d59784e70a74d4f44c729afff22668c\n",
      "https://entity.api.hubmapconsortium.org/entities/5d59784e70a74d4f44c729afff22668c\n",
      "https://entity.api.hubmapconsortium.org/entities/30cca46b98006c525d3df89d6b6374e4\n",
      "https://entity.api.hubmapconsortium.org/entities/30cca46b98006c525d3df89d6b6374e4\n",
      "https://entity.api.hubmapconsortium.org/entities/9457860c1b69f7ec3e51a6b648eabf13\n",
      "https://entity.api.hubmapconsortium.org/entities/9457860c1b69f7ec3e51a6b648eabf13\n",
      "https://entity.api.hubmapconsortium.org/entities/d6e6c8e452ed628425e9e928306a6db0\n",
      "https://entity.api.hubmapconsortium.org/entities/f9848244883f6c70972acef16680431a\n",
      "https://entity.api.hubmapconsortium.org/entities/a0bfd09a989530ba348d64499adf6a6b\n",
      "https://entity.api.hubmapconsortium.org/entities/de78115cc476af9422f916ddfbccbfb6\n",
      "https://entity.api.hubmapconsortium.org/entities/a95f2c79bb637141f7e6874eddc8e274\n",
      "https://entity.api.hubmapconsortium.org/entities/a95f2c79bb637141f7e6874eddc8e274\n",
      "https://entity.api.hubmapconsortium.org/entities/7479e6dbfa3b3a8e1e2d4f78cbe0f9e4\n",
      "https://entity.api.hubmapconsortium.org/entities/7479e6dbfa3b3a8e1e2d4f78cbe0f9e4\n",
      "https://entity.api.hubmapconsortium.org/entities/4608ccb9df2505ed8f3ffe02451b4a19\n",
      "https://entity.api.hubmapconsortium.org/entities/7646a8a89555a123a56446b66c183d58\n",
      "https://entity.api.hubmapconsortium.org/entities/fe391b9ac729ec7b73d55d66e1e74438\n",
      "https://entity.api.hubmapconsortium.org/entities/853ab5348f619043ab2f997ac8ae14f0\n",
      "https://entity.api.hubmapconsortium.org/entities/9d37d91769087f8082a514f6eed10bbc\n",
      "https://entity.api.hubmapconsortium.org/entities/853ab5348f619043ab2f997ac8ae14f0\n",
      "https://entity.api.hubmapconsortium.org/entities/9d37d91769087f8082a514f6eed10bbc\n",
      "https://entity.api.hubmapconsortium.org/entities/9457860c1b69f7ec3e51a6b648eabf13\n",
      "https://entity.api.hubmapconsortium.org/entities/9457860c1b69f7ec3e51a6b648eabf13\n",
      "https://entity.api.hubmapconsortium.org/entities/704d16116f29994ab0e714f4afdb5516\n",
      "https://entity.api.hubmapconsortium.org/entities/704d16116f29994ab0e714f4afdb5516\n",
      "https://entity.api.hubmapconsortium.org/entities/be103f95cc6c1a3e48f099d1bd149a49\n",
      "https://entity.api.hubmapconsortium.org/entities/503f9caeffb9ee1e1324793c977d2342\n",
      "https://entity.api.hubmapconsortium.org/entities/be103f95cc6c1a3e48f099d1bd149a49\n",
      "https://entity.api.hubmapconsortium.org/entities/503f9caeffb9ee1e1324793c977d2342\n",
      "https://entity.api.hubmapconsortium.org/entities/3bb5f743b039cb620d7ef234e0876f7a\n",
      "https://entity.api.hubmapconsortium.org/entities/df811b74923e105691a021be3fa35e54\n"
     ]
    }
   ],
   "source": [
    "dataset_id_with_h5ad['exact_hubmap_id'] = dataset_id_with_h5ad['descendants'].apply(get_hubmap_id)"
   ],
   "metadata": {
    "collapsed": false,
    "pycharm": {
     "name": "#%%\n"
    }
   }
  },
  {
   "cell_type": "code",
   "execution_count": 29,
   "outputs": [],
   "source": [
    "dataset_id_with_h5ad.to_csv('../Vicky/dataset_with_exact_hubmap_id.csv', index=False)"
   ],
   "metadata": {
    "collapsed": false,
    "pycharm": {
     "name": "#%%\n"
    }
   }
  },
  {
   "cell_type": "markdown",
   "source": [
    "Step 3: check Training/Prediction Table"
   ],
   "metadata": {
    "collapsed": false,
    "pycharm": {
     "name": "#%% md\n"
    }
   }
  },
  {
   "cell_type": "code",
   "execution_count": 9,
   "outputs": [],
   "source": [
    "csv_dir_path = '../all_csv_2'\n",
    "json_path = 'all_rui_location_by_dataset_id_new.json'\n",
    "training_prediction_path = './CTPop - Training_Prediction Datasets - Training_Prediction.csv'\n",
    "dataset_id_with_exact_hubmap_id_path = '../Vicky/dataset_with_exact_hubmap_id.csv'"
   ],
   "metadata": {
    "collapsed": false,
    "pycharm": {
     "name": "#%%\n"
    }
   }
  },
  {
   "cell_type": "code",
   "execution_count": 10,
   "outputs": [],
   "source": [
    "bar_graph_portal_dataset = load_bar_graph_portal_dataset(csv_dir_path)\n",
    "tissue_block_id_rui, datasets_with_rui_id = load_all_rui_location_by_dataset_id(json_path)\n",
    "\n",
    "training_prediction = pd.read_csv(training_prediction_path)\n",
    "training_prediction = training_prediction[~(training_prediction['excluded'] == True)]\n",
    "\n",
    "dataset_id_with_h5ad = pd.read_csv(dataset_id_with_exact_hubmap_id_path)"
   ],
   "metadata": {
    "collapsed": false,
    "pycharm": {
     "name": "#%%\n"
    }
   }
  },
  {
   "cell_type": "code",
   "execution_count": 11,
   "outputs": [],
   "source": [
    "hubmap_id_in_portal = {e: True for e in bar_graph_portal_dataset}\n",
    "dataset_id_with_h5ad['exist_in_portal'] = dataset_id_with_h5ad['exact_hubmap_id'].map(hubmap_id_in_portal)\n",
    "dataset_id_exist_in_portal = dataset_id_with_h5ad[dataset_id_with_h5ad['exist_in_portal'] == True]\n",
    "mapping = dataset_id_exist_in_portal[['hubmap_id', 'exact_hubmap_id']].drop_duplicates()\n",
    "mapping_dataset_id_to_exact_hubmap_id = {row['hubmap_id']: row['exact_hubmap_id'] for index, row in mapping.iterrows()}\n",
    "# special case: HBM945.QNRF.244 has two descedants\n",
    "mapping_dataset_id_to_exact_hubmap_id['HBM945.QNRF.244'] = 'HBM656.TJNG.945'"
   ],
   "metadata": {
    "collapsed": false,
    "pycharm": {
     "name": "#%%\n"
    }
   }
  },
  {
   "cell_type": "code",
   "execution_count": 13,
   "outputs": [
    {
     "name": "stdout",
     "output_type": "stream",
     "text": [
      "row:  289 dataset_id:  HBM378.WGXD.394  unique tissue block id:  HBM999.WVWP.899  not in all_rui_location_by_dataset_id.json\n",
      "row:  674 dataset_id:  HBM827.NQQL.854  unique tissue block id:  HBM776.MWMG.262  not in all_rui_location_by_dataset_id.json\n",
      "row:  716 dataset_id:  HBM854.LQKL.226  unique tissue block id:  HBM938.JJMV.536  not in all_rui_location_by_dataset_id.json\n"
     ]
    }
   ],
   "source": [
    "for index, row in training_prediction.iterrows():\n",
    "    source, dataset_id, hubmap_id, sample_id, CxG_dataset_id_donor_id_organ = row['source'], row['dataset_id'], row['HuBMAP_tissue_block_id'], row['sample_id'], row['CxG_dataset_id_donor_id_organ']\n",
    "\n",
    "    unique_tissue_block_id = \"#############\"\n",
    "    if source == 'HuBMAP':\n",
    "        unique_tissue_block_id = hubmap_id\n",
    "    elif source == 'GTEx':\n",
    "        unique_tissue_block_id = sample_id\n",
    "    elif source == 'CxG':\n",
    "        unique_tissue_block_id = CxG_dataset_id_donor_id_organ\n",
    "        dataset_id = CxG_dataset_id_donor_id_organ\n",
    "\n",
    "    if dataset_id not in bar_graph_portal_dataset:\n",
    "        # print('row: ', index + 2, ' dataset_id: ', dataset_id, ' not in bar graph portal')\n",
    "\n",
    "        if dataset_id not in mapping_dataset_id_to_exact_hubmap_id:\n",
    "            print('row: ', index + 2, ' dataset_id: ', dataset_id, ' not in descendant table')\n",
    "            pass\n",
    "        pass\n",
    "\n",
    "\n",
    "    if source == 'CxG':\n",
    "        if CxG_dataset_id_donor_id_organ not in datasets_with_rui_id:\n",
    "            print('CxG dataset id ', CxG_dataset_id_donor_id_organ, ' does not exist')\n",
    "\n",
    "    if dataset_id not in datasets_with_rui_id:\n",
    "        print('row: ', index + 2, 'dataset_id: ', dataset_id, ' unique tissue block id: ', unique_tissue_block_id, ' not in all_rui_location_by_dataset_id.json')\n",
    "        continue\n",
    "    if source == 'HuBMAP':\n",
    "        if datasets_with_rui_id[dataset_id] != hubmap_id:\n",
    "            print('unmatched hubmap id for dataset id: ', dataset_id, \" hubmap id in big table: \", hubmap_id, \" hubmap id in json: \", datasets_with_rui_id[dataset_id])\n",
    "    if source == 'GTEx':\n",
    "        if datasets_with_rui_id[dataset_id] != sample_id:\n",
    "            print('unmatched sample id for dataset id: ', dataset_id, \" sample id in big table: \", sample_id, \" sample id in json: \", datasets_with_rui_id[dataset_id])\n",
    "\n"
   ],
   "metadata": {
    "collapsed": false,
    "pycharm": {
     "name": "#%%\n"
    }
   }
  },
  {
   "cell_type": "code",
   "execution_count": 14,
   "outputs": [],
   "source": [
    "def get_unified_tissue_block_id(row):\n",
    "    source, dataset_id, hubmap_id, sample_id, CxG_dataset_id_donor_id_organ = row['source'], row['dataset_id'], row['HuBMAP_tissue_block_id'], row['sample_id'], row['CxG_dataset_id_donor_id_organ']\n",
    "\n",
    "    unified_tissue_block_id = None\n",
    "    if source == 'HuBMAP':\n",
    "        unified_tissue_block_id = hubmap_id\n",
    "    if source == 'GTEx':\n",
    "        unified_tissue_block_id = sample_id\n",
    "    if source == 'CxG':\n",
    "        unified_tissue_block_id = CxG_dataset_id_donor_id_organ\n",
    "\n",
    "    return unified_tissue_block_id\n",
    "\n",
    "def get_csv_file_name(row):\n",
    "    source, dataset_id, hubmap_id, sample_id, CxG_dataset_id_donor_id_organ = row['source'], row['dataset_id'], row['HuBMAP_tissue_block_id'], row['sample_id'], row['CxG_dataset_id_donor_id_organ']\n",
    "\n",
    "    file_name = None\n",
    "    if source == 'HuBMAP':\n",
    "        if dataset_id in mapping_dataset_id_to_exact_hubmap_id:\n",
    "            dataset_id = mapping_dataset_id_to_exact_hubmap_id[dataset_id]\n",
    "        file_name = dataset_id + '.csv'\n",
    "    if source == 'GTEx':\n",
    "        file_name = dataset_id + '.csv'\n",
    "    if source == 'CxG':\n",
    "        file_name = CxG_dataset_id_donor_id_organ + '.csv'\n",
    "\n",
    "    return file_name"
   ],
   "metadata": {
    "collapsed": false,
    "pycharm": {
     "name": "#%%\n"
    }
   }
  },
  {
   "cell_type": "code",
   "execution_count": 15,
   "outputs": [],
   "source": [
    "training_prediction['united_tissue_block_id'] = training_prediction.apply(get_unified_tissue_block_id, axis=1)\n",
    "training_prediction['csv_file_path'] = training_prediction.apply(get_csv_file_name, axis=1)\n",
    "training_prediction['rui_location'] = training_prediction['united_tissue_block_id'].map(tissue_block_id_rui)"
   ],
   "metadata": {
    "collapsed": false,
    "pycharm": {
     "name": "#%%\n"
    }
   }
  },
  {
   "cell_type": "markdown",
   "source": [],
   "metadata": {
    "collapsed": false
   }
  },
  {
   "cell_type": "code",
   "execution_count": 16,
   "outputs": [
    {
     "data": {
      "text/plain": "                                dataset_id source alt_source  \\\n3                          GTEX-1HSMQ-5007   GTEx        NaN   \n4                          GTEX-15EOM-5003   GTEx        NaN   \n5                          GTEX-1CAMS-5015   GTEx        NaN   \n6                          GTEX-1MCC2-5013   GTEx        NaN   \n7                          GTEX-1R9PN-5002   GTEx        NaN   \n...                                    ...    ...        ...   \n4155  b4c3c03b-99cd-407a-a824-1875e00a04ad    CxG  Teichmann   \n4156  b4c3c03b-99cd-407a-a824-1875e00a04ad    CxG  Teichmann   \n4157  b4c3c03b-99cd-407a-a824-1875e00a04ad    CxG  Teichmann   \n4158  b4c3c03b-99cd-407a-a824-1875e00a04ad    CxG  Teichmann   \n4159  b4c3c03b-99cd-407a-a824-1875e00a04ad    CxG  Teichmann   \n\n     is_azimuth_reference excluded reason_for_exclusion has_h5ad_file  \\\n3                     NaN      NaN                  NaN           NaN   \n4                     NaN      NaN                  NaN           NaN   \n5                     NaN      NaN                  NaN           NaN   \n6                     NaN      NaN                  NaN           NaN   \n7                     NaN      NaN                  NaN           NaN   \n...                   ...      ...                  ...           ...   \n4155                 True      NaN                  NaN           NaN   \n4156                 True      NaN                  NaN           NaN   \n4157                 True      NaN                  NaN           NaN   \n4158                 True      NaN                  NaN           NaN   \n4159                 True      NaN                  NaN           NaN   \n\n                                       paper_id HuBMAP_tissue_block_id  \\\n3                                           NaN                    NaN   \n4                                           NaN                    NaN   \n5                                           NaN                    NaN   \n6                                           NaN                    NaN   \n7                                           NaN                    NaN   \n...                                         ...                    ...   \n4155  https://doi.org/10.1038/s41586-020-2797-4                    NaN   \n4156  https://doi.org/10.1038/s41586-020-2797-4                    NaN   \n4157  https://doi.org/10.1038/s41586-020-2797-4                    NaN   \n4158  https://doi.org/10.1038/s41586-020-2797-4                    NaN   \n4159  https://doi.org/10.1038/s41586-020-2797-4                    NaN   \n\n     HuBMAP_donor_id  ... non_hubmap_donor_id HuBMAP_publication_status  \\\n3                NaN  ...                 NaN                       NaN   \n4                NaN  ...                 NaN                       NaN   \n5                NaN  ...                 NaN                       NaN   \n6                NaN  ...                 NaN                       NaN   \n7                NaN  ...                 NaN                       NaN   \n...              ...  ...                 ...                       ...   \n4155             NaN  ...                  H7                       NaN   \n4156             NaN  ...                  H7                       NaN   \n4157             NaN  ...                  H7                       NaN   \n4158             NaN  ...                  H7                       NaN   \n4159             NaN  ...                  H7                       NaN   \n\n                          CxG_dataset_id_donor_id_organ Unnamed: 34  \\\n3                                                   NaN         NaN   \n4                                                   NaN         NaN   \n5                                                   NaN         NaN   \n6                                                   NaN         NaN   \n7                                                   NaN         NaN   \n...                                                 ...         ...   \n4155  b4c3c03b-99cd-407a-a824-1875e00a04ad_H7_Heart_...         NaN   \n4156  b4c3c03b-99cd-407a-a824-1875e00a04ad_H7_Heart_...         NaN   \n4157  b4c3c03b-99cd-407a-a824-1875e00a04ad_H7_Heart_...         NaN   \n4158  b4c3c03b-99cd-407a-a824-1875e00a04ad_H7_Heart_...         NaN   \n4159  b4c3c03b-99cd-407a-a824-1875e00a04ad_H7_Heart_...         NaN   \n\n      Unnamed: 35 Unnamed: 36  Unnamed: 37  \\\n3             NaN         NaN          NaN   \n4             NaN         NaN          NaN   \n5             NaN         NaN          NaN   \n6             NaN         NaN          NaN   \n7             NaN         NaN          NaN   \n...           ...         ...          ...   \n4155          NaN         NaN          NaN   \n4156          NaN         NaN          NaN   \n4157          NaN         NaN          NaN   \n4158          NaN         NaN          NaN   \n4159          NaN         NaN          NaN   \n\n                                 united_tissue_block_id  \\\n3     https://gtexportal.org/home/tissue/Skin_Sun_Ex...   \n4     https://gtexportal.org/home/tissue/Skin_Sun_Ex...   \n5     https://gtexportal.org/home/tissue/Breast#FTis...   \n6     https://gtexportal.org/home/tissue/Breast#FTis...   \n7     https://gtexportal.org/home/tissue/Breast#FTis...   \n...                                                 ...   \n4155  b4c3c03b-99cd-407a-a824-1875e00a04ad_H7_Heart_...   \n4156  b4c3c03b-99cd-407a-a824-1875e00a04ad_H7_Heart_...   \n4157  b4c3c03b-99cd-407a-a824-1875e00a04ad_H7_Heart_...   \n4158  b4c3c03b-99cd-407a-a824-1875e00a04ad_H7_Heart_...   \n4159  b4c3c03b-99cd-407a-a824-1875e00a04ad_H7_Heart_...   \n\n                                          csv_file_path  \\\n3                                   GTEX-1HSMQ-5007.csv   \n4                                   GTEX-15EOM-5003.csv   \n5                                   GTEX-1CAMS-5015.csv   \n6                                   GTEX-1MCC2-5013.csv   \n7                                   GTEX-1R9PN-5002.csv   \n...                                                 ...   \n4155  b4c3c03b-99cd-407a-a824-1875e00a04ad_H7_Heart_...   \n4156  b4c3c03b-99cd-407a-a824-1875e00a04ad_H7_Heart_...   \n4157  b4c3c03b-99cd-407a-a824-1875e00a04ad_H7_Heart_...   \n4158  b4c3c03b-99cd-407a-a824-1875e00a04ad_H7_Heart_...   \n4159  b4c3c03b-99cd-407a-a824-1875e00a04ad_H7_Heart_...   \n\n                                           rui_location  \n3     {'@context': 'https://hubmapconsortium.github....  \n4     {'@context': 'https://hubmapconsortium.github....  \n5     {'@context': 'https://hubmapconsortium.github....  \n6     {'@context': 'https://hubmapconsortium.github....  \n7     {'@context': 'https://hubmapconsortium.github....  \n...                                                 ...  \n4155  {'@context': 'https://hubmapconsortium.github....  \n4156  {'@context': 'https://hubmapconsortium.github....  \n4157  {'@context': 'https://hubmapconsortium.github....  \n4158  {'@context': 'https://hubmapconsortium.github....  \n4159  {'@context': 'https://hubmapconsortium.github....  \n\n[388 rows x 41 columns]",
      "text/html": "<div>\n<style scoped>\n    .dataframe tbody tr th:only-of-type {\n        vertical-align: middle;\n    }\n\n    .dataframe tbody tr th {\n        vertical-align: top;\n    }\n\n    .dataframe thead th {\n        text-align: right;\n    }\n</style>\n<table border=\"1\" class=\"dataframe\">\n  <thead>\n    <tr style=\"text-align: right;\">\n      <th></th>\n      <th>dataset_id</th>\n      <th>source</th>\n      <th>alt_source</th>\n      <th>is_azimuth_reference</th>\n      <th>excluded</th>\n      <th>reason_for_exclusion</th>\n      <th>has_h5ad_file</th>\n      <th>paper_id</th>\n      <th>HuBMAP_tissue_block_id</th>\n      <th>HuBMAP_donor_id</th>\n      <th>...</th>\n      <th>non_hubmap_donor_id</th>\n      <th>HuBMAP_publication_status</th>\n      <th>CxG_dataset_id_donor_id_organ</th>\n      <th>Unnamed: 34</th>\n      <th>Unnamed: 35</th>\n      <th>Unnamed: 36</th>\n      <th>Unnamed: 37</th>\n      <th>united_tissue_block_id</th>\n      <th>csv_file_path</th>\n      <th>rui_location</th>\n    </tr>\n  </thead>\n  <tbody>\n    <tr>\n      <th>3</th>\n      <td>GTEX-1HSMQ-5007</td>\n      <td>GTEx</td>\n      <td>NaN</td>\n      <td>NaN</td>\n      <td>NaN</td>\n      <td>NaN</td>\n      <td>NaN</td>\n      <td>NaN</td>\n      <td>NaN</td>\n      <td>NaN</td>\n      <td>...</td>\n      <td>NaN</td>\n      <td>NaN</td>\n      <td>NaN</td>\n      <td>NaN</td>\n      <td>NaN</td>\n      <td>NaN</td>\n      <td>NaN</td>\n      <td>https://gtexportal.org/home/tissue/Skin_Sun_Ex...</td>\n      <td>GTEX-1HSMQ-5007.csv</td>\n      <td>{'@context': 'https://hubmapconsortium.github....</td>\n    </tr>\n    <tr>\n      <th>4</th>\n      <td>GTEX-15EOM-5003</td>\n      <td>GTEx</td>\n      <td>NaN</td>\n      <td>NaN</td>\n      <td>NaN</td>\n      <td>NaN</td>\n      <td>NaN</td>\n      <td>NaN</td>\n      <td>NaN</td>\n      <td>NaN</td>\n      <td>...</td>\n      <td>NaN</td>\n      <td>NaN</td>\n      <td>NaN</td>\n      <td>NaN</td>\n      <td>NaN</td>\n      <td>NaN</td>\n      <td>NaN</td>\n      <td>https://gtexportal.org/home/tissue/Skin_Sun_Ex...</td>\n      <td>GTEX-15EOM-5003.csv</td>\n      <td>{'@context': 'https://hubmapconsortium.github....</td>\n    </tr>\n    <tr>\n      <th>5</th>\n      <td>GTEX-1CAMS-5015</td>\n      <td>GTEx</td>\n      <td>NaN</td>\n      <td>NaN</td>\n      <td>NaN</td>\n      <td>NaN</td>\n      <td>NaN</td>\n      <td>NaN</td>\n      <td>NaN</td>\n      <td>NaN</td>\n      <td>...</td>\n      <td>NaN</td>\n      <td>NaN</td>\n      <td>NaN</td>\n      <td>NaN</td>\n      <td>NaN</td>\n      <td>NaN</td>\n      <td>NaN</td>\n      <td>https://gtexportal.org/home/tissue/Breast#FTis...</td>\n      <td>GTEX-1CAMS-5015.csv</td>\n      <td>{'@context': 'https://hubmapconsortium.github....</td>\n    </tr>\n    <tr>\n      <th>6</th>\n      <td>GTEX-1MCC2-5013</td>\n      <td>GTEx</td>\n      <td>NaN</td>\n      <td>NaN</td>\n      <td>NaN</td>\n      <td>NaN</td>\n      <td>NaN</td>\n      <td>NaN</td>\n      <td>NaN</td>\n      <td>NaN</td>\n      <td>...</td>\n      <td>NaN</td>\n      <td>NaN</td>\n      <td>NaN</td>\n      <td>NaN</td>\n      <td>NaN</td>\n      <td>NaN</td>\n      <td>NaN</td>\n      <td>https://gtexportal.org/home/tissue/Breast#FTis...</td>\n      <td>GTEX-1MCC2-5013.csv</td>\n      <td>{'@context': 'https://hubmapconsortium.github....</td>\n    </tr>\n    <tr>\n      <th>7</th>\n      <td>GTEX-1R9PN-5002</td>\n      <td>GTEx</td>\n      <td>NaN</td>\n      <td>NaN</td>\n      <td>NaN</td>\n      <td>NaN</td>\n      <td>NaN</td>\n      <td>NaN</td>\n      <td>NaN</td>\n      <td>NaN</td>\n      <td>...</td>\n      <td>NaN</td>\n      <td>NaN</td>\n      <td>NaN</td>\n      <td>NaN</td>\n      <td>NaN</td>\n      <td>NaN</td>\n      <td>NaN</td>\n      <td>https://gtexportal.org/home/tissue/Breast#FTis...</td>\n      <td>GTEX-1R9PN-5002.csv</td>\n      <td>{'@context': 'https://hubmapconsortium.github....</td>\n    </tr>\n    <tr>\n      <th>...</th>\n      <td>...</td>\n      <td>...</td>\n      <td>...</td>\n      <td>...</td>\n      <td>...</td>\n      <td>...</td>\n      <td>...</td>\n      <td>...</td>\n      <td>...</td>\n      <td>...</td>\n      <td>...</td>\n      <td>...</td>\n      <td>...</td>\n      <td>...</td>\n      <td>...</td>\n      <td>...</td>\n      <td>...</td>\n      <td>...</td>\n      <td>...</td>\n      <td>...</td>\n      <td>...</td>\n    </tr>\n    <tr>\n      <th>4155</th>\n      <td>b4c3c03b-99cd-407a-a824-1875e00a04ad</td>\n      <td>CxG</td>\n      <td>Teichmann</td>\n      <td>True</td>\n      <td>NaN</td>\n      <td>NaN</td>\n      <td>NaN</td>\n      <td>https://doi.org/10.1038/s41586-020-2797-4</td>\n      <td>NaN</td>\n      <td>NaN</td>\n      <td>...</td>\n      <td>H7</td>\n      <td>NaN</td>\n      <td>b4c3c03b-99cd-407a-a824-1875e00a04ad_H7_Heart_...</td>\n      <td>NaN</td>\n      <td>NaN</td>\n      <td>NaN</td>\n      <td>NaN</td>\n      <td>b4c3c03b-99cd-407a-a824-1875e00a04ad_H7_Heart_...</td>\n      <td>b4c3c03b-99cd-407a-a824-1875e00a04ad_H7_Heart_...</td>\n      <td>{'@context': 'https://hubmapconsortium.github....</td>\n    </tr>\n    <tr>\n      <th>4156</th>\n      <td>b4c3c03b-99cd-407a-a824-1875e00a04ad</td>\n      <td>CxG</td>\n      <td>Teichmann</td>\n      <td>True</td>\n      <td>NaN</td>\n      <td>NaN</td>\n      <td>NaN</td>\n      <td>https://doi.org/10.1038/s41586-020-2797-4</td>\n      <td>NaN</td>\n      <td>NaN</td>\n      <td>...</td>\n      <td>H7</td>\n      <td>NaN</td>\n      <td>b4c3c03b-99cd-407a-a824-1875e00a04ad_H7_Heart_...</td>\n      <td>NaN</td>\n      <td>NaN</td>\n      <td>NaN</td>\n      <td>NaN</td>\n      <td>b4c3c03b-99cd-407a-a824-1875e00a04ad_H7_Heart_...</td>\n      <td>b4c3c03b-99cd-407a-a824-1875e00a04ad_H7_Heart_...</td>\n      <td>{'@context': 'https://hubmapconsortium.github....</td>\n    </tr>\n    <tr>\n      <th>4157</th>\n      <td>b4c3c03b-99cd-407a-a824-1875e00a04ad</td>\n      <td>CxG</td>\n      <td>Teichmann</td>\n      <td>True</td>\n      <td>NaN</td>\n      <td>NaN</td>\n      <td>NaN</td>\n      <td>https://doi.org/10.1038/s41586-020-2797-4</td>\n      <td>NaN</td>\n      <td>NaN</td>\n      <td>...</td>\n      <td>H7</td>\n      <td>NaN</td>\n      <td>b4c3c03b-99cd-407a-a824-1875e00a04ad_H7_Heart_...</td>\n      <td>NaN</td>\n      <td>NaN</td>\n      <td>NaN</td>\n      <td>NaN</td>\n      <td>b4c3c03b-99cd-407a-a824-1875e00a04ad_H7_Heart_...</td>\n      <td>b4c3c03b-99cd-407a-a824-1875e00a04ad_H7_Heart_...</td>\n      <td>{'@context': 'https://hubmapconsortium.github....</td>\n    </tr>\n    <tr>\n      <th>4158</th>\n      <td>b4c3c03b-99cd-407a-a824-1875e00a04ad</td>\n      <td>CxG</td>\n      <td>Teichmann</td>\n      <td>True</td>\n      <td>NaN</td>\n      <td>NaN</td>\n      <td>NaN</td>\n      <td>https://doi.org/10.1038/s41586-020-2797-4</td>\n      <td>NaN</td>\n      <td>NaN</td>\n      <td>...</td>\n      <td>H7</td>\n      <td>NaN</td>\n      <td>b4c3c03b-99cd-407a-a824-1875e00a04ad_H7_Heart_...</td>\n      <td>NaN</td>\n      <td>NaN</td>\n      <td>NaN</td>\n      <td>NaN</td>\n      <td>b4c3c03b-99cd-407a-a824-1875e00a04ad_H7_Heart_...</td>\n      <td>b4c3c03b-99cd-407a-a824-1875e00a04ad_H7_Heart_...</td>\n      <td>{'@context': 'https://hubmapconsortium.github....</td>\n    </tr>\n    <tr>\n      <th>4159</th>\n      <td>b4c3c03b-99cd-407a-a824-1875e00a04ad</td>\n      <td>CxG</td>\n      <td>Teichmann</td>\n      <td>True</td>\n      <td>NaN</td>\n      <td>NaN</td>\n      <td>NaN</td>\n      <td>https://doi.org/10.1038/s41586-020-2797-4</td>\n      <td>NaN</td>\n      <td>NaN</td>\n      <td>...</td>\n      <td>H7</td>\n      <td>NaN</td>\n      <td>b4c3c03b-99cd-407a-a824-1875e00a04ad_H7_Heart_...</td>\n      <td>NaN</td>\n      <td>NaN</td>\n      <td>NaN</td>\n      <td>NaN</td>\n      <td>b4c3c03b-99cd-407a-a824-1875e00a04ad_H7_Heart_...</td>\n      <td>b4c3c03b-99cd-407a-a824-1875e00a04ad_H7_Heart_...</td>\n      <td>{'@context': 'https://hubmapconsortium.github....</td>\n    </tr>\n  </tbody>\n</table>\n<p>388 rows × 41 columns</p>\n</div>"
     },
     "execution_count": 16,
     "metadata": {},
     "output_type": "execute_result"
    }
   ],
   "source": [
    "training_prediction"
   ],
   "metadata": {
    "collapsed": false,
    "pycharm": {
     "name": "#%%\n"
    }
   }
  },
  {
   "cell_type": "code",
   "execution_count": 48,
   "outputs": [],
   "source": [
    "dic_tissue_block_cell_type = collections.defaultdict(list)\n",
    "for index, row in training_prediction.iterrows():\n",
    "    # source, dataset_id, hubmap_id, sample_id, CxG_dataset_id_donor_id_organ = row['source'], row['dataset_id'], row['HuBMAP_tissue_block_id'], row['sample_id'], row['CxG_dataset_id_donor_id_organ']\n",
    "    united_tissue_block_id, csv_file_path = row['united_tissue_block_id'], row['csv_file_path']\n",
    "    dic_tissue_block_cell_type[united_tissue_block_id].append(csv_file_path)\n",
    "\n",
    "cell_summary_AS = collections.defaultdict(list)\n",
    "collide_with = {}\n",
    "\n",
    "for united_tissue_block_id in dic_tissue_block_cell_type:\n",
    "    datasets = dic_tissue_block_cell_type[united_tissue_block_id]\n",
    "    rui_location = None\n",
    "    if united_tissue_block_id in tissue_block_id_rui:\n",
    "        rui_location = tissue_block_id_rui[united_tissue_block_id]\n",
    "        # the tissue block is not associated with a rui location\n",
    "        if not rui_location:\n",
    "            continue\n",
    "\n",
    "        # 1. compute the average cell type counts for each tissue block\n",
    "        df_ct = []\n",
    "        for dataset in datasets:\n",
    "            df = pd.read_csv(os.path.join(csv_dir_path, dataset))\n",
    "            df_ct.append(df)\n",
    "\n",
    "        df_total = pd.concat(df_ct, ignore_index=True)\n",
    "        df_summary = df_total.groupby('cell_type')['count'].mean()\n",
    "\n",
    "        # 2. send request to get collision results\n",
    "        post_response = requests.post(url='https://pfn8zf2gtu.us-east-2.awsapprunner.com/get-collisions', json=rui_location).json()\n",
    "\n",
    "        for AS_item in post_response:\n",
    "            # percentage_of_AS = AS_item['percentage_of_AS']\n",
    "            # percentage_of_tissue_block = AS_item['percentage_of_tissue_block']\n",
    "            organ = AS_item['organ']\n",
    "            node_name = AS_item['node_name']\n",
    "            AS_volume = AS_item['AS_volume']\n",
    "\n",
    "            if (organ, node_name) not in collide_with:\n",
    "                # [AS volume, not only collide with, only collide with, number of tissue block with no CT info]\n",
    "                collide_with[(organ, node_name)] = [AS_volume, 0, 0, 0]\n",
    "\n",
    "            collide_with[(organ, node_name)][1] += 1\n",
    "\n",
    "        # 3. estimate the CT population in a certain AS using the tissue blocks that only collide with it\n",
    "        if len(post_response) == 1:\n",
    "            AS_item = post_response[0]\n",
    "            percentage_of_AS = AS_item['percentage_of_AS']\n",
    "            percentage_of_tissue_block = AS_item['percentage_of_tissue_block']\n",
    "            organ = AS_item['organ']\n",
    "            node_name = AS_item['node_name']\n",
    "            collide_with[(organ, node_name)][2] += 1\n",
    "            df_summary = df_summary * percentage_of_tissue_block / percentage_of_AS\n",
    "            cell_summary_AS[(organ, node_name)].append(df_summary)\n",
    "\n",
    "\n",
    "# process cell summaries of AS\n",
    "def process_cell_summaries(cell_summary_AS):\n",
    "    avg_cell_summary_AS = {}\n",
    "\n",
    "    for organ_AS, df_summary_list in cell_summary_AS.items():\n",
    "        df = pd.concat([df.reset_index() for df in df_summary_list], ignore_index=True)\n",
    "        df = df.groupby('cell_type').sum().reset_index()\n",
    "        df['count'] = df['count'] / len(df_summary_list)\n",
    "        avg_cell_summary_AS[organ_AS] = df\n",
    "\n",
    "    return avg_cell_summary_AS\n",
    "\n",
    "avg_cell_summary_AS = process_cell_summaries(cell_summary_AS)"
   ],
   "metadata": {
    "collapsed": false,
    "pycharm": {
     "name": "#%%\n"
    }
   }
  },
  {
   "cell_type": "code",
   "execution_count": 57,
   "outputs": [],
   "source": [
    "cell_type_total = []\n",
    "for (organ, AS), avg_df_summary in avg_cell_summary_AS.items():\n",
    "    avg_df_summary['organ'] = organ\n",
    "    avg_df_summary['AS'] = AS\n",
    "    cell_type_total.append(avg_df_summary)\n",
    "\n",
    "cell_type_total = pd.concat(cell_type_total, ignore_index=True)\n",
    "cell_type_total = cell_type_total[['organ', 'AS', 'cell_type', 'count']]\n",
    "cell_type_total = cell_type_total.sort_values(by=['organ', 'AS', 'cell_type', 'count'])\n",
    "cell_type_total.to_csv('./csv/specification_total.csv', index=False)"
   ],
   "metadata": {
    "collapsed": false,
    "pycharm": {
     "name": "#%%\n"
    }
   }
  },
  {
   "cell_type": "code",
   "execution_count": 59,
   "outputs": [],
   "source": [
    "dict_collide_with = collections.defaultdict(list)\n",
    "\n",
    "for (organ, AS), info in collide_with.items():\n",
    "    dict_collide_with['Name_of_organ'].append(organ)\n",
    "    dict_collide_with['Name_of_colliding_AS'].append(AS)\n",
    "    dict_collide_with['Volume_of_colliding_AS'].append(info[0])\n",
    "    dict_collide_with['Number_tissue_blocks_colliding_only_with_this_AS'].append(info[2])\n",
    "    dict_collide_with['Total_number_colliding_tissue_blocks'].append(info[1])\n",
    "    dict_collide_with['Number_of_colliding_tissue_blocks with CT info'].append(info[1])\n",
    "    dict_collide_with['Number_of_colliding_tissue_blocks with no CT info'].append(0)\n",
    "\n",
    "df_collide_with = pd.DataFrame(dict_collide_with)\n",
    "df_collide_with.to_csv('./csv/collide_with_0527.csv', index=False)"
   ],
   "metadata": {
    "collapsed": false,
    "pycharm": {
     "name": "#%%\n"
    }
   }
  },
  {
   "cell_type": "markdown",
   "source": [
    "\n",
    "Step 4: construct all_rui_location_by_dataset_id.json for datasets in Training/Prediction Table"
   ],
   "metadata": {
    "collapsed": false,
    "pycharm": {
     "name": "#%% md\n"
    }
   }
  },
  {
   "cell_type": "code",
   "execution_count": 42,
   "outputs": [],
   "source": [
    "with open(json_path, 'r') as f:\n",
    "    json_data = json.load(f)\n",
    "    for index, row in training_prediction.iterrows():\n",
    "        source, dataset_id, hubmap_id, sample_id, CxG_dataset_id_donor_id_organ = row['source'], row['dataset_id'], row['HuBMAP_tissue_block_id'], row['sample_id'], row['CxG_dataset_id_donor_id_organ']\n",
    "\n",
    "        if dataset_id not in datasets_with_rui_id:\n",
    "            if sample_id in tissue_block_id_rui:\n",
    "                json_data[CxG_dataset_id_donor_id_organ] = {\"sample-id\": sample_id, \"rui-location\": tissue_block_id_rui[sample_id]}\n",
    "\n",
    "    with open(\"all_rui_location_by_dataset_id_new_test.json\", \"w\") as outfile:\n",
    "        json.dump(json_data, outfile, indent=4)\n"
   ],
   "metadata": {
    "collapsed": false,
    "pycharm": {
     "name": "#%%\n"
    }
   }
  },
  {
   "cell_type": "code",
   "execution_count": 53,
   "outputs": [
    {
     "data": {
      "text/plain": "sample_id\nhttps://gtexportal.org/home/tissue/Breast#FTissueBlocks                        3\nhttps://gtexportal.org/home/tissue/Heart_Left_Ventricle#FTissueBlocks          2\nhttps://gtexportal.org/home/tissue/Heart_Left_Ventricle#MTissueBlocks          1\nhttps://gtexportal.org/home/tissue/Lung#FTissueBlocks                          1\nhttps://gtexportal.org/home/tissue/Lung#MTissueBlocks                          2\nhttps://gtexportal.org/home/tissue/Prostate#MTissueBlocks                      4\nhttps://gtexportal.org/home/tissue/Skin_Sun_Exposed_Lower_leg#FTissueBlocks    1\nhttps://gtexportal.org/home/tissue/Skin_Sun_Exposed_Lower_leg#MTissueBlocks    1\nName: dataset_id, dtype: int64"
     },
     "execution_count": 53,
     "metadata": {},
     "output_type": "execute_result"
    }
   ],
   "source": [
    "training_prediction[training_prediction['source'] == 'GTEx'].groupby('sample_id')['dataset_id'].agg('count')"
   ],
   "metadata": {
    "collapsed": false,
    "pycharm": {
     "name": "#%%\n"
    }
   }
  },
  {
   "cell_type": "code",
   "execution_count": 54,
   "outputs": [
    {
     "data": {
      "text/plain": "CxG_dataset_id_donor_id_organ\n1ca90a2d-2943-483d-b678-b809bf464c30_H18.30.001_Brain                    1\n1ca90a2d-2943-483d-b678-b809bf464c30_H18.30.002_Brain                    1\n1ca90a2d-2943-483d-b678-b809bf464c30_H19.30.001_Brain                    1\n1ca90a2d-2943-483d-b678-b809bf464c30_H19.30.002_Brain                    1\n1ca90a2d-2943-483d-b678-b809bf464c30_H19.33.004_Brain                    1\n                                                                        ..\nb4c3c03b-99cd-407a-a824-1875e00a04ad_H7_Heart_heart_left_ventricle       1\nb4c3c03b-99cd-407a-a824-1875e00a04ad_H7_Heart_heart_right_ventricle      1\nb4c3c03b-99cd-407a-a824-1875e00a04ad_H7_Heart_interventricular_septum    1\nb4c3c03b-99cd-407a-a824-1875e00a04ad_H7_Heart_left_cardiac_atrium        1\nb4c3c03b-99cd-407a-a824-1875e00a04ad_H7_Heart_right_cardiac_atrium       1\nName: dataset_id, Length: 138, dtype: int64"
     },
     "execution_count": 54,
     "metadata": {},
     "output_type": "execute_result"
    }
   ],
   "source": [
    "training_prediction[training_prediction['source'] == 'CxG'].groupby('CxG_dataset_id_donor_id_organ')['dataset_id'].agg('count')"
   ],
   "metadata": {
    "collapsed": false,
    "pycharm": {
     "name": "#%%\n"
    }
   }
  },
  {
   "cell_type": "code",
   "execution_count": 89,
   "outputs": [
    {
     "data": {
      "text/plain": "HuBMAP_tissue_block_id\nHBM223.KDVZ.277    6\nHBM224.HCFB.249    2\nHBM229.HKHH.537    1\nHBM238.QPLB.494    1\nHBM242.XXTB.333    1\n                  ..\nHBM974.MTJZ.548    2\nHBM979.SSNH.934    2\nHBM996.XSFS.465    1\nHBM998.VHPF.947    1\nHBM999.WVWP.899    1\nName: dataset_id, Length: 113, dtype: int64"
     },
     "execution_count": 89,
     "metadata": {},
     "output_type": "execute_result"
    }
   ],
   "source": [
    "training_prediction[training_prediction['source'] =='HuBMAP'].groupby('HuBMAP_tissue_block_id')['dataset_id'].agg('count')"
   ],
   "metadata": {
    "collapsed": false,
    "pycharm": {
     "name": "#%%\n"
    }
   }
  },
  {
   "cell_type": "markdown",
   "source": [
    "Step 3: for every tissue block, send a request and return the intersected volume and volume of AS."
   ],
   "metadata": {
    "collapsed": false
   }
  },
  {
   "cell_type": "code",
   "execution_count": 4,
   "outputs": [],
   "source": [
    "file_mapping_rui_uuid_hubmap_id = './csv/mapping_rui_uuid_hubmap_id.csv'\n",
    "file_mapping_rui_hubmap_id = './csv/mapping_rui_hubmap_id.csv'\n",
    "hubmap_csv_folder = output_dir"
   ],
   "metadata": {
    "collapsed": false,
    "pycharm": {
     "name": "#%%\n"
    }
   }
  },
  {
   "cell_type": "code",
   "execution_count": 8,
   "outputs": [],
   "source": [
    "mapping_rui_dataset_id = collections.defaultdict(list)\n",
    "\n",
    "with open(file_mapping_rui_uuid_hubmap_id, 'r', encoding='UTF8') as f:\n",
    "    csv_reader = csv.reader(f)\n",
    "    for row in csv_reader:\n",
    "        hubmap_id, uuid, rui = row\n",
    "        mapping_rui_dataset_id[rui].append(hubmap_id)\n",
    "\n",
    "with open(file_mapping_rui_hubmap_id, 'w', encoding='UTF8', newline=\"\") as f:\n",
    "    csv_writer = csv.writer(f)\n",
    "    for rui, hubmap_ids in mapping_rui_dataset_id.items():\n",
    "        csv_writer.writerow([rui] + hubmap_ids)"
   ],
   "metadata": {
    "collapsed": false
   }
  },
  {
   "cell_type": "code",
   "execution_count": 46,
   "outputs": [
    {
     "name": "stdout",
     "output_type": "stream",
     "text": [
      "VH_M_Kidney_R VH_M_renal_column_R Afferent / Efferent Arteriole Endothelial\n",
      "VH_M_Kidney_R VH_M_renal_column_R Ascending Thin Limb\n",
      "VH_F_Skin CD68 \n",
      "/ Macrophage [88466.59516537667, 70327.46847917805, 74976.07164909289]\n",
      "VH_F_Skin T-Killer [24034.277299264184, 8625.066888955798, 46366.7811514127]\n",
      "VH_F_Skin T-reg [80284.71353158461, 56394.6681200956, 62151.21728806384]\n",
      "VH_F_Skin T-helper [669380.1911646131, 479686.41236269556, 1043745.8395360563]\n",
      "VH_M_Skin CD68 \n",
      "/ Macrophage [19888.80507396163, 229856.039523177, 62791.798876364584, 91007.33447535438, 297214.514681459]\n",
      "VH_M_Skin T-Killer [6894.785758973365, 161355.89529441565, 26013.745248779614, 3914.293955929221, 58605.67895127361]\n",
      "VH_M_Skin T-reg [2651.8406765282175, 537345.5758389502, 98672.82680571577, 58714.40933893831, 221864.3560298215]\n",
      "VH_M_Skin T-helper [256963.3615555843, 2715650.1623135614, 740943.2267411021, 353265.02952261217, 2501206.655241856]\n",
      "VH_F_Kidney_R VH_F_renal_column_R Afferent / Efferent Arteriole Endothelial\n"
     ]
    }
   ],
   "source": [
    "mapping_AS_cell_type_count = collections.defaultdict(dict)\n",
    "\n",
    "with open(file_mapping_rui_hubmap_id, 'r', encoding='UTF8') as f:\n",
    "    csv_reader = csv.reader(f)\n",
    "    i = 0\n",
    "    for row in csv_reader:\n",
    "        if i == 0:\n",
    "            i = 1\n",
    "            continue\n",
    "\n",
    "        rui_url = row[0]\n",
    "        hubmap_ids = row[1:]\n",
    "\n",
    "        dic_cell_type_count = collections.defaultdict(list)\n",
    "        dic_cell_type_avg_count = collections.Counter()\n",
    "        for hubmap_id in hubmap_ids:\n",
    "            csv_path = os.path.join(hubmap_csv_folder, hubmap_id + '.csv')\n",
    "\n",
    "            with open(csv_path, 'r', encoding='UTF8') as csv_file:\n",
    "                dataset_csv_reader = csv.reader(csv_file)\n",
    "                header = next(dataset_csv_reader)\n",
    "                cell_type_index = header.index('cell_type')\n",
    "                count_index = header.index('count')\n",
    "\n",
    "                for item_cell in dataset_csv_reader:\n",
    "                    dic_cell_type_count[item_cell[cell_type_index]].append(float(item_cell[count_index]))\n",
    "\n",
    "        for cell, count_list in dic_cell_type_count.items():\n",
    "            dic_cell_type_avg_count[cell] = sum(count_list) / len(hubmap_ids)\n",
    "\n",
    "        get_response = requests.get(rui_url).json()\n",
    "        rui_location = get_response['rui_location']\n",
    "        post_response = requests.post(url=url_collision_detection, json=rui_location)\n",
    "        target = rui_location['placement']['target']\n",
    "        try:\n",
    "            post_response = post_response.json()\n",
    "\n",
    "            for AS_item in post_response:\n",
    "                percentage_of_AS = AS_item['percentage_of_AS']\n",
    "                percentage_of_tissue_block = AS_item['percentage_of_tissue_block']\n",
    "                organ = AS_item['organ']\n",
    "                node_name = AS_item['node_name']\n",
    "\n",
    "                # if 'Skin' in organ:\n",
    "                #     print(organ, hubmap_ids)\n",
    "\n",
    "                for cell, avg_count in dic_cell_type_avg_count.items():\n",
    "                    # initialize\n",
    "                    if cell not in mapping_AS_cell_type_count[(organ, node_name)]:\n",
    "                        mapping_AS_cell_type_count[(organ, node_name)][cell] = []\n",
    "\n",
    "                    if 'Skin' in organ:\n",
    "                        mapping_AS_cell_type_count[(organ, node_name)][cell].append(avg_count * percentage_of_tissue_block/ percentage_of_AS)\n",
    "                    else:\n",
    "                        mapping_AS_cell_type_count[(organ, node_name)][cell].append(avg_count / percentage_of_AS)\n",
    "        except:\n",
    "            pass\n",
    "\n",
    "result = collections.defaultdict(dict)\n",
    "for (organ, node_name) in mapping_AS_cell_type_count:\n",
    "    for cell in mapping_AS_cell_type_count[(organ, node_name)]:\n",
    "        cell_list = mapping_AS_cell_type_count[(organ, node_name)][cell]\n",
    "        if 'Skin' in organ:\n",
    "            print(organ, cell, cell_list)\n",
    "        if len(cell_list) == 0:\n",
    "            print(organ, node_name, cell)\n",
    "        else:\n",
    "            result[(organ, node_name)][cell] = int(sum(cell_list) / len(cell_list))\n",
    "\n",
    "# print(mapping_AS_cell_type_count)\n",
    "# print(result)"
   ],
   "metadata": {
    "collapsed": false
   }
  },
  {
   "cell_type": "code",
   "execution_count": 47,
   "outputs": [
    {
     "data": {
      "text/plain": "defaultdict(dict,\n            {('VH_M_Kidney_R',\n              'VH_M_outer_cortex_of_kidney_R'): {'Afferent / Efferent Arteriole Endothelial': 71974, 'Ascending Thin Limb': 5226589, 'Ascending Vasa Recta Endothelial': 421542, 'B': 15744, 'Classical Dendritic': 488119, 'Connecting Tubule': 3022323, 'Connecting Tubule Intercalated Type A': 27481, 'Connecting Tubule Principal': 664661, 'Cortical Collecting Duct Intercalated Type A': 1154457, 'Cortical Collecting Duct Principal': 1037744, 'Cortical Thick Ascending Limb': 10098949, 'Cortical Vascular Smooth Muscle / Pericyte': 165173, 'Descending Thin Limb Type 1': 1502880, 'Descending Thin Limb Type 2': 2815519, 'Descending Thin Limb Type 3': 118921, 'Descending Vasa Recta Endothelial ': 152455, 'Distal Convoluted Tubule Type 1': 5864833, 'Distal Convoluted Tubule Type 2': 293828, 'Fibroblast': 2058312, 'Glomerular Capillary Endothelial': 492863, 'Inner Medullary Collecting Duct': 4769141, 'Intercalated Type B': 730093, 'Lymphatic Endothelial': 17666, 'M2 Macrophage': 224593, 'Macula Densa': 248680, 'Mast': 26377, 'Medullary Fibroblast': 136097, 'Medullary Thick Ascending Limb': 416921, 'Mesangial': 143172, 'Monocyte-derived': 222221, 'Natural Killer T': 2699, 'Neutrophil': 10100, 'Non-classical monocyte': 4171, 'Outer Medullary Collecting Duct Intercalated Type A': 283359, 'Outer Medullary Collecting Duct Principal': 159652, 'Papillary Tip Epithelial': 12268, 'Parietal Epithelial': 570603, 'Peritubular Capilary Endothelial ': 604096, 'Plasma': 29771, 'Podocyte': 869217, 'Proximal Tubule Epithelial Segment 1': 6340316, 'Proximal Tubule Epithelial Segment 2': 903037, 'Proximal Tubule Epithelial Segment 3': 3014022, 'Schwann / Neural': 25845, 'T': 158630, 'Vascular Smooth Muscle / Pericyte': 123665, 'Renin-positive Juxtaglomerular Granular': 14885, 'Plasmacytoid Dendritic': 4948, 'Cycling Mononuclear Phagocyte': 327, 'Descending Vasa Recta Endothelial': 18320, 'Monocyte': 18320, 'Natural Killer / Natural Killer T': 109924, 'Peritubular Capilary Endothelial': 1154212, 'Tissue-resident Macrophage': 357256},\n             ('VH_F_Skin', 'VH_F_skin'): {'CD68 \\n/ Macrophage': 77923,\n              'T-Killer': 26342,\n              'T-reg': 66276,\n              'T-helper': 730937},\n             ('VH_F_Kidney_L',\n              'VH_F_outer_cortex_of_kidney_L'): {'Afferent / Efferent Arteriole Endothelial': 111936, 'Ascending Thin Limb': 278616, 'Ascending Vasa Recta Endothelial': 615589, 'Connecting Tubule': 428121, 'Connecting Tubule Principal': 66684, 'Cortical Collecting Duct Intercalated Type A': 515947, 'Cortical Collecting Duct Principal': 1026356, 'Cortical Thick Ascending Limb': 2081199, 'Cortical Vascular Smooth Muscle / Pericyte': 199995, 'Descending Thin Limb Type 1': 547972, 'Descending Thin Limb Type 2': 160915, 'Descending Thin Limb Type 3': 241110, 'Descending Vasa Recta Endothelial': 403481, 'Distal Convoluted Tubule Type 1': 1226941, 'Distal Convoluted Tubule Type 2': 184620, 'Fibroblast': 107568, 'Glomerular Capillary Endothelial': 533710, 'Inner Medullary Collecting Duct': 32148, 'Intercalated Type B': 120906, 'Lymphatic Endothelial': 45019, 'Macula Densa': 267321, 'Medullary Fibroblast': 755478, 'Medullary Thick Ascending Limb': 711391, 'Mesangial': 36982, 'Monocyte': 34303, 'Monocyte-derived': 112402, 'Natural Killer / Natural Killer T': 90504, 'Neutrophil': 13628, 'Outer Medullary Collecting Duct Intercalated Type A': 459565, 'Outer Medullary Collecting Duct Principal': 37506, 'Parietal Epithelial': 162256, 'Peritubular Capilary Endothelial': 1378829, 'Plasma': 24344, 'Plasmacytoid Dendritic': 5358, 'Podocyte': 741219, 'Proximal Tubule Epithelial Segment 1': 1983009, 'Proximal Tubule Epithelial Segment 3': 1004055, 'Schwann / Neural': 5358, 'T': 277338, 'Tissue-resident Macrophage': 197083, 'Vascular Smooth Muscle / Pericyte': 316648, 'B': 16540, 'Classical Dendritic': 24810, 'Connecting Tubule Intercalated Type A': 24810, 'Mast': 33080, 'Papillary Tip Epithelial': 8270, 'Proximal Tubule Epithelial Segment 2': 347343, 'Renin-positive Juxtaglomerular Granular': 24810},\n             ('VH_F_Kidney_L',\n              'VH_F_renal_column_L'): {'Afferent / Efferent Arteriole Endothelial': 2343116, 'Ascending Thin Limb': 8703005, 'Ascending Vasa Recta Endothelial': 33807830, 'Connecting Tubule': 1171558, 'Connecting Tubule Principal': 1841020, 'Cortical Collecting Duct Intercalated Type A': 2008385, 'Cortical Collecting Duct Principal': 30795251, 'Cortical Thick Ascending Limb': 26945844, 'Cortical Vascular Smooth Muscle / Pericyte': 2677847, 'Descending Thin Limb Type 1': 33975195, 'Descending Thin Limb Type 2': 6694619, 'Descending Thin Limb Type 3': 7531447, 'Descending Vasa Recta Endothelial': 21590149, 'Distal Convoluted Tubule Type 1': 2510482, 'Distal Convoluted Tubule Type 2': 167365, 'Fibroblast': 2845213, 'Glomerular Capillary Endothelial': 2343116, 'Inner Medullary Collecting Duct': 1004192, 'Intercalated Type B': 836827, 'Lymphatic Endothelial': 1004192, 'Macula Densa': 167365, 'Medullary Fibroblast': 23598534, 'Medullary Thick Ascending Limb': 44184491, 'Mesangial': 502096, 'Monocyte': 334730, 'Monocyte-derived': 1338923, 'Natural Killer / Natural Killer T': 1004192, 'Neutrophil': 334730, 'Outer Medullary Collecting Duct Intercalated Type A': 28452134, 'Outer Medullary Collecting Duct Principal': 1171558, 'Parietal Epithelial': 836827, 'Peritubular Capilary Endothelial': 7866178, 'Plasma': 1004192, 'Plasmacytoid Dendritic': 167365, 'Podocyte': 3682040, 'Proximal Tubule Epithelial Segment 1': 18744935, 'Proximal Tubule Epithelial Segment 3': 10544026, 'Schwann / Neural': 167365, 'T': 2343116, 'Tissue-resident Macrophage': 3012578, 'Vascular Smooth Muscle / Pericyte': 9707198},\n             ('VH_F_Kidney_L',\n              'VH_F_renal_pyramid_L_k'): {'Afferent / Efferent Arteriole Endothelial': 927, 'Ascending Thin Limb': 3446, 'Ascending Vasa Recta Endothelial': 13387, 'Connecting Tubule': 463, 'Connecting Tubule Principal': 729, 'Cortical Collecting Duct Intercalated Type A': 795, 'Cortical Collecting Duct Principal': 12194, 'Cortical Thick Ascending Limb': 10670, 'Cortical Vascular Smooth Muscle / Pericyte': 1060, 'Descending Thin Limb Type 1': 13453, 'Descending Thin Limb Type 2': 2650, 'Descending Thin Limb Type 3': 2982, 'Descending Vasa Recta Endothelial': 8549, 'Distal Convoluted Tubule Type 1': 994, 'Distal Convoluted Tubule Type 2': 66, 'Fibroblast': 1126, 'Glomerular Capillary Endothelial': 927, 'Inner Medullary Collecting Duct': 397, 'Intercalated Type B': 331, 'Lymphatic Endothelial': 397, 'Macula Densa': 66, 'Medullary Fibroblast': 9344, 'Medullary Thick Ascending Limb': 17496, 'Mesangial': 198, 'Monocyte': 132, 'Monocyte-derived': 530, 'Natural Killer / Natural Killer T': 397, 'Neutrophil': 132, 'Outer Medullary Collecting Duct Intercalated Type A': 11266, 'Outer Medullary Collecting Duct Principal': 463, 'Parietal Epithelial': 331, 'Peritubular Capilary Endothelial': 3114, 'Plasma': 397, 'Plasmacytoid Dendritic': 66, 'Podocyte': 1458, 'Proximal Tubule Epithelial Segment 1': 7422, 'Proximal Tubule Epithelial Segment 3': 4175, 'Schwann / Neural': 66, 'T': 927, 'Tissue-resident Macrophage': 1192, 'Vascular Smooth Muscle / Pericyte': 3843},\n             ('VH_F_Kidney_L',\n              'VH_F_renal_pyramid_L_h'): {'Afferent / Efferent Arteriole Endothelial': 448, 'Ascending Thin Limb': 40026, 'Ascending Vasa Recta Endothelial': 34821, 'Classical Dendritic': 89, 'Connecting Tubule': 1256, 'Connecting Tubule Intercalated Type A': 89, 'Connecting Tubule Principal': 448, 'Cortical Collecting Duct Intercalated Type A': 179, 'Cortical Collecting Duct Principal': 897, 'Cortical Thick Ascending Limb': 179, 'Cycling Mononuclear Phagocyte': 89, 'Descending Thin Limb Type 1': 1166, 'Descending Thin Limb Type 2': 448, 'Descending Thin Limb Type 3': 28629, 'Descending Vasa Recta Endothelial': 4128, 'Inner Medullary Collecting Duct': 169889, 'Intercalated Type B': 89, 'Lymphatic Endothelial': 269, 'Medullary Fibroblast': 49898, 'Monocyte': 448, 'Monocyte-derived': 3948, 'Natural Killer / Natural Killer T': 897, 'Neutrophil': 269, 'Outer Medullary Collecting Duct Intercalated Type A': 2064, 'Outer Medullary Collecting Duct Principal': 2153, 'Papillary Tip Epithelial': 897, 'Peritubular Capilary Endothelial': 807, 'Plasma': 89, 'Podocyte': 179, 'Proximal Tubule Epithelial Segment 1': 89, 'Renin-positive Juxtaglomerular Granular': 89, 'Schwann / Neural': 179, 'T': 2602, 'Tissue-resident Macrophage': 6012, 'Vascular Smooth Muscle / Pericyte': 2782},\n             ('VH_F_Kidney_R',\n              'VH_F_kidney_capsule_R'): {'Afferent / Efferent Arteriole Endothelial': 189211, 'B': 1297453, 'Classical Dendritic': 324363, 'Connecting Tubule': 5379024, 'Connecting Tubule Intercalated Type A': 54060, 'Connecting Tubule Principal': 4351874, 'Cortical Collecting Duct Intercalated Type A': 7811748, 'Cortical Collecting Duct Principal': 7676597, 'Cortical Thick Ascending Limb': 6135872, 'Cortical Vascular Smooth Muscle / Pericyte': 216242, 'Cycling Mononuclear Phagocyte': 81090, 'Descending Thin Limb Type 1': 135151, 'Descending Thin Limb Type 2': 54060, 'Descending Vasa Recta Endothelial': 81090, 'Distal Convoluted Tubule Type 1': 9271383, 'Distal Convoluted Tubule Type 2': 324363, 'Fibroblast': 2324603, 'Glomerular Capillary Endothelial': 2351633, 'Inner Medullary Collecting Duct': 108121, 'Intercalated Type B': 4541085, 'Lymphatic Endothelial': 648726, 'Macula Densa': 2135391, 'Mast': 702787, 'Medullary Thick Ascending Limb': 27030, 'Mesangial': 351393, 'Monocyte': 108121, 'Monocyte-derived': 1378543, 'Natural Killer / Natural Killer T': 432484, 'Outer Medullary Collecting Duct Principal': 54060, 'Papillary Tip Epithelial': 27030, 'Parietal Epithelial': 1216362, 'Peritubular Capilary Endothelial': 4297813, 'Plasma': 405454, 'Plasmacytoid Dendritic': 297333, 'Podocyte': 2513815, 'Proximal Tubule Epithelial Segment 1': 17110163, 'Proximal Tubule Epithelial Segment 2': 2405694, 'Proximal Tubule Epithelial Segment 3': 6135872, 'Schwann / Neural': 108121, 'T': 6838659, 'Tissue-resident Macrophage': 2621936, 'Vascular Smooth Muscle / Pericyte': 486544},\n             ('VH_F_Kidney_R',\n              'VH_F_outer_cortex_of_kidney_R'): {'Afferent / Efferent Arteriole Endothelial': 51332, 'B': 351993, 'Classical Dendritic': 87998, 'Connecting Tubule': 1459307, 'Connecting Tubule Intercalated Type A': 14666, 'Connecting Tubule Principal': 1180645, 'Cortical Collecting Duct Intercalated Type A': 2119295, 'Cortical Collecting Duct Principal': 2082629, 'Cortical Thick Ascending Limb': 1664636, 'Cortical Vascular Smooth Muscle / Pericyte': 58665, 'Cycling Mononuclear Phagocyte': 21999, 'Descending Thin Limb Type 1': 36666, 'Descending Thin Limb Type 2': 14666, 'Descending Vasa Recta Endothelial': 21999, 'Distal Convoluted Tubule Type 1': 2515288, 'Distal Convoluted Tubule Type 2': 87998, 'Fibroblast': 630655, 'Glomerular Capillary Endothelial': 637988, 'Inner Medullary Collecting Duct': 29332, 'Intercalated Type B': 1231977, 'Lymphatic Endothelial': 175996, 'Macula Densa': 579322, 'Mast': 190663, 'Medullary Thick Ascending Limb': 7333, 'Mesangial': 95331, 'Monocyte': 29332, 'Monocyte-derived': 373993, 'Natural Killer / Natural Killer T': 117331, 'Outer Medullary Collecting Duct Principal': 14666, 'Papillary Tip Epithelial': 7333, 'Parietal Epithelial': 329994, 'Peritubular Capilary Endothelial': 1165979, 'Plasma': 109998, 'Plasmacytoid Dendritic': 80665, 'Podocyte': 681987, 'Proximal Tubule Epithelial Segment 1': 4641916, 'Proximal Tubule Epithelial Segment 2': 652654, 'Proximal Tubule Epithelial Segment 3': 1664636, 'Schwann / Neural': 29332, 'T': 1855300, 'Tissue-resident Macrophage': 711320, 'Vascular Smooth Muscle / Pericyte': 131997},\n             ('VH_M_Kidney_L',\n              'VH_M_outer_cortex_of_kidney_L'): {'Afferent / Efferent Arteriole Endothelial': 131966, 'Ascending Vasa Recta Endothelial': 1209165, 'Connecting Tubule': 932614, 'Connecting Tubule Intercalated Type A': 14570, 'Connecting Tubule Principal': 431140, 'Cortical Collecting Duct Intercalated Type A': 650320, 'Cortical Collecting Duct Principal': 209048, 'Cortical Thick Ascending Limb': 1930606, 'Cortical Vascular Smooth Muscle / Pericyte': 56690, 'Descending Vasa Recta Endothelial': 1271034, 'Distal Convoluted Tubule Type 1': 1148470, 'Distal Convoluted Tubule Type 2': 66139, 'Fibroblast': 414391, 'Glomerular Capillary Endothelial': 127608, 'Intercalated Type B': 139590, 'Macula Densa': 281570, 'Medullary Thick Ascending Limb': 5234051, 'Monocyte': 35136, 'Monocyte-derived': 154749, 'Natural Killer / Natural Killer T': 29866, 'Outer Medullary Collecting Duct Principal': 1635183, 'Parietal Epithelial': 156037, 'Peritubular Capilary Endothelial': 557241, 'Podocyte': 93688, 'Proximal Tubule Epithelial Segment 1': 2182514, 'Proximal Tubule Epithelial Segment 2': 599848, 'Proximal Tubule Epithelial Segment 3': 769384, 'T': 174016, 'Tissue-resident Macrophage': 213274, 'Vascular Smooth Muscle / Pericyte': 459222, 'Ascending Thin Limb': 602196, 'B': 91298, 'Classical Dendritic': 18317, 'Cycling Mononuclear Phagocyte': 9524, 'Descending Thin Limb Type 1': 1790420, 'Descending Thin Limb Type 2': 1857153, 'Inner Medullary Collecting Duct': 1099636, 'Lymphatic Endothelial': 84167, 'Mast': 14009, 'Medullary Fibroblast': 2382839, 'Mesangial': 28019, 'Neutrophil': 12766, 'Outer Medullary Collecting Duct Intercalated Type A': 398078, 'Plasma': 23168, 'Plasmacytoid Dendritic': 14154, 'Renin-positive Juxtaglomerular Granular': 3145, 'Schwann / Neural': 28978, 'Papillary Tip Epithelial': 88165, 'Descending Vasa Recta Endothelial ': 1665, 'M2 Macrophage': 49957, 'Peritubular Capilary Endothelial ': 34970, 'Descending Thin Limb Type 3': 1412123},\n             ('VH_M_Kidney_R',\n              'VH_M_renal_pyramid_d'): {'Ascending Thin Limb': 3881, 'Ascending Vasa Recta Endothelial': 675, 'Connecting Tubule': 168, 'Cortical Collecting Duct Intercalated Type A': 168, 'Cortical Collecting Duct Principal': 1350, 'Descending Thin Limb Type 1': 1687, 'Descending Thin Limb Type 2': 843, 'Descending Thin Limb Type 3': 2531, 'Descending Vasa Recta Endothelial': 506, 'Inner Medullary Collecting Duct': 8607, 'Intercalated Type B': 168, 'Medullary Fibroblast': 5231, 'Monocyte-derived': 337, 'Natural Killer / Natural Killer T': 168, 'Outer Medullary Collecting Duct Principal': 675, 'Papillary Tip Epithelial': 168, 'Peritubular Capilary Endothelial': 337, 'Plasma': 168, 'T': 168, 'Vascular Smooth Muscle / Pericyte': 337},\n             ('VH_M_Kidney_R',\n              'VH_M_renal_papilla_R_d'): {'Ascending Thin Limb': 129, 'Ascending Vasa Recta Endothelial': 22, 'Connecting Tubule': 5, 'Cortical Collecting Duct Intercalated Type A': 5, 'Cortical Collecting Duct Principal': 45, 'Descending Thin Limb Type 1': 56, 'Descending Thin Limb Type 2': 28, 'Descending Thin Limb Type 3': 84, 'Descending Vasa Recta Endothelial': 16, 'Inner Medullary Collecting Duct': 288, 'Intercalated Type B': 5, 'Medullary Fibroblast': 175, 'Monocyte-derived': 11, 'Natural Killer / Natural Killer T': 5, 'Outer Medullary Collecting Duct Principal': 22, 'Papillary Tip Epithelial': 5, 'Peritubular Capilary Endothelial': 11, 'Plasma': 5, 'T': 5, 'Vascular Smooth Muscle / Pericyte': 11},\n             ('VH_F_Kidney_L',\n              'VH_F_renal_pyramid_L_j'): {'Afferent / Efferent Arteriole Endothelial': 4816, 'Ascending Thin Limb': 16323, 'Ascending Vasa Recta Endothelial': 81348, 'B': 267, 'Classical Dendritic': 267, 'Connecting Tubule': 1873, 'Connecting Tubule Principal': 2675, 'Cortical Collecting Duct Intercalated Type A': 1873, 'Cortical Collecting Duct Principal': 87502, 'Cortical Thick Ascending Limb': 29167, 'Cycling Mononuclear Phagocyte': 267, 'Descending Thin Limb Type 1': 45223, 'Descending Thin Limb Type 2': 34519, 'Descending Thin Limb Type 3': 31843, 'Descending Vasa Recta Endothelial': 62081, 'Fibroblast': 6154, 'Glomerular Capillary Endothelial': 267, 'Inner Medullary Collecting Duct': 6689, 'Macula Densa': 2943, 'Mast': 535, 'Medullary Fibroblast': 78672, 'Medullary Thick Ascending Limb': 183033, 'Monocyte': 535, 'Monocyte-derived': 3746, 'Natural Killer / Natural Killer T': 267, 'Neutrophil': 535, 'Outer Medullary Collecting Duct Intercalated Type A': 102487, 'Outer Medullary Collecting Duct Principal': 19534, 'Peritubular Capilary Endothelial': 21942, 'Proximal Tubule Epithelial Segment 1': 267, 'Proximal Tubule Epithelial Segment 3': 2408, 'Schwann / Neural': 267, 'T': 2675, 'Tissue-resident Macrophage': 15520, 'Vascular Smooth Muscle / Pericyte': 24886},\n             ('VH_M_Kidney_L',\n              'VH_M_renal_column_L'): {'Afferent / Efferent Arteriole Endothelial': 14770, 'Ascending Thin Limb': 461, 'Ascending Vasa Recta Endothelial': 121391, 'B': 923, 'Connecting Tubule': 5538, 'Connecting Tubule Principal': 7385, 'Cortical Collecting Duct Intercalated Type A': 18001, 'Cortical Collecting Duct Principal': 8308, 'Cortical Thick Ascending Limb': 188780, 'Cortical Vascular Smooth Muscle / Pericyte': 2307, 'Cycling Mononuclear Phagocyte': 461, 'Descending Thin Limb Type 1': 186472, 'Descending Thin Limb Type 2': 165240, 'Descending Vasa Recta Endothelial': 149547, 'Distal Convoluted Tubule Type 1': 5538, 'Distal Convoluted Tubule Type 2': 923, 'Fibroblast': 29078, 'Glomerular Capillary Endothelial': 6923, 'Inner Medullary Collecting Duct': 923, 'Intercalated Type B': 1384, 'Lymphatic Endothelial': 5077, 'Macula Densa': 4615, 'Mast': 461, 'Medullary Fibroblast': 95082, 'Medullary Thick Ascending Limb': 737121, 'Mesangial': 923, 'Monocyte': 2769, 'Monocyte-derived': 7385, 'Natural Killer / Natural Killer T': 2307, 'Outer Medullary Collecting Duct Intercalated Type A': 39694, 'Outer Medullary Collecting Duct Principal': 228475, 'Parietal Epithelial': 3692, 'Peritubular Capilary Endothelial': 48002, 'Plasma': 461, 'Podocyte': 4154, 'Proximal Tubule Epithelial Segment 1': 17539, 'Proximal Tubule Epithelial Segment 2': 923, 'Proximal Tubule Epithelial Segment 3': 85389, 'Schwann / Neural': 1846, 'T': 3692, 'Tissue-resident Macrophage': 12923, 'Vascular Smooth Muscle / Pericyte': 51695},\n             ('VH_M_Kidney_L',\n              'VH_M_renal_pyramid_L_e'): {'Afferent / Efferent Arteriole Endothelial': 6921, 'Ascending Thin Limb': 216, 'Ascending Vasa Recta Endothelial': 56888, 'B': 432, 'Connecting Tubule': 2595, 'Connecting Tubule Principal': 3460, 'Cortical Collecting Duct Intercalated Type A': 8435, 'Cortical Collecting Duct Principal': 3893, 'Cortical Thick Ascending Limb': 88469, 'Cortical Vascular Smooth Muscle / Pericyte': 1081, 'Cycling Mononuclear Phagocyte': 216, 'Descending Thin Limb Type 1': 87387, 'Descending Thin Limb Type 2': 77437, 'Descending Vasa Recta Endothelial': 70083, 'Distal Convoluted Tubule Type 1': 2595, 'Distal Convoluted Tubule Type 2': 432, 'Fibroblast': 13627, 'Glomerular Capillary Endothelial': 3244, 'Inner Medullary Collecting Duct': 432, 'Intercalated Type B': 648, 'Lymphatic Endothelial': 2379, 'Macula Densa': 2163, 'Mast': 216, 'Medullary Fibroblast': 44558, 'Medullary Thick Ascending Limb': 345440, 'Mesangial': 432, 'Monocyte': 1297, 'Monocyte-derived': 3460, 'Natural Killer / Natural Killer T': 1081, 'Outer Medullary Collecting Duct Intercalated Type A': 18602, 'Outer Medullary Collecting Duct Principal': 107071, 'Parietal Epithelial': 1730, 'Peritubular Capilary Endothelial': 22495, 'Plasma': 216, 'Podocyte': 1946, 'Proximal Tubule Epithelial Segment 1': 8219, 'Proximal Tubule Epithelial Segment 2': 432, 'Proximal Tubule Epithelial Segment 3': 40016, 'Schwann / Neural': 865, 'T': 1730, 'Tissue-resident Macrophage': 6056, 'Vascular Smooth Muscle / Pericyte': 24226},\n             ('VH_M_Kidney_L',\n              'VH_M_hilum_of_kidney_L'): {'Afferent / Efferent Arteriole Endothelial': 3842, 'Ascending Thin Limb': 120, 'Ascending Vasa Recta Endothelial': 31580, 'B': 240, 'Connecting Tubule': 1440, 'Connecting Tubule Principal': 1921, 'Cortical Collecting Duct Intercalated Type A': 4682, 'Cortical Collecting Duct Principal': 2161, 'Cortical Thick Ascending Limb': 49111, 'Cortical Vascular Smooth Muscle / Pericyte': 600, 'Cycling Mononuclear Phagocyte': 120, 'Descending Thin Limb Type 1': 48511, 'Descending Thin Limb Type 2': 42987, 'Descending Vasa Recta Endothelial': 38904, 'Distal Convoluted Tubule Type 1': 1440, 'Distal Convoluted Tubule Type 2': 240, 'Fibroblast': 7564, 'Glomerular Capillary Endothelial': 1801, 'Inner Medullary Collecting Duct': 240, 'Intercalated Type B': 360, 'Lymphatic Endothelial': 1320, 'Macula Densa': 1200, 'Mast': 120, 'Medullary Fibroblast': 24735, 'Medullary Thick Ascending Limb': 191762, 'Mesangial': 240, 'Monocyte': 720, 'Monocyte-derived': 1921, 'Natural Killer / Natural Killer T': 600, 'Outer Medullary Collecting Duct Intercalated Type A': 10326, 'Outer Medullary Collecting Duct Principal': 59438, 'Parietal Epithelial': 960, 'Peritubular Capilary Endothelial': 12487, 'Plasma': 120, 'Podocyte': 1080, 'Proximal Tubule Epithelial Segment 1': 4562, 'Proximal Tubule Epithelial Segment 2': 240, 'Proximal Tubule Epithelial Segment 3': 22214, 'Schwann / Neural': 480, 'T': 960, 'Tissue-resident Macrophage': 3362, 'Vascular Smooth Muscle / Pericyte': 13448},\n             ('VH_M_Kidney_L',\n              'VH_M_kidney_capsule_L'): {'Afferent / Efferent Arteriole Endothelial': 24232, 'Ascending Thin Limb': 733030, 'Ascending Vasa Recta Endothelial': 565826, 'Connecting Tubule': 1211, 'Cortical Collecting Duct Intercalated Type A': 6058, 'Cortical Collecting Duct Principal': 1211, 'Cortical Thick Ascending Limb': 2423, 'Cycling Mononuclear Phagocyte': 3634, 'Descending Thin Limb Type 1': 12116, 'Descending Thin Limb Type 2': 43618, 'Descending Thin Limb Type 3': 577943, 'Descending Vasa Recta Endothelial': 335618, 'Distal Convoluted Tubule Type 1': 1211, 'Inner Medullary Collecting Duct': 965661, 'Medullary Fibroblast': 1825912, 'Medullary Thick Ascending Limb': 9692, 'Monocyte': 8481, 'Monocyte-derived': 76332, 'Natural Killer / Natural Killer T': 4846, 'Neutrophil': 3634, 'Outer Medullary Collecting Duct Intercalated Type A': 26655, 'Outer Medullary Collecting Duct Principal': 16962, 'Papillary Tip Epithelial': 71485, 'Peritubular Capilary Endothelial': 4846, 'Podocyte': 4846, 'Proximal Tubule Epithelial Segment 3': 1211, 'Renin-positive Juxtaglomerular Granular': 1211, 'T': 27867, 'Tissue-resident Macrophage': 105410, 'Vascular Smooth Muscle / Pericyte': 122373},\n             ('VH_M_Skin', 'VH_M_skin'): {'CD68 \\n/ Macrophage': 140151,\n              'T-Killer': 51356,\n              'T-reg': 183849,\n              'T-helper': 1313605},\n             ('VH_F_Kidney_R',\n              'VH_F_renal_pyramid_R_i'): {'Afferent / Efferent Arteriole Endothelial': 2204, 'Ascending Thin Limb': 17038, 'Ascending Vasa Recta Endothelial': 15400, 'B': 62, 'Connecting Tubule': 31, 'Connecting Tubule Principal': 157, 'Cortical Collecting Duct Intercalated Type A': 62, 'Cortical Collecting Duct Principal': 157, 'Cortical Thick Ascending Limb': 94, 'Cortical Vascular Smooth Muscle / Pericyte': 31, 'Cycling Mononuclear Phagocyte': 251, 'Descending Thin Limb Type 1': 944, 'Descending Thin Limb Type 2': 818, 'Descending Thin Limb Type 3': 10739, 'Descending Vasa Recta Endothelial': 13920, 'Fibroblast': 125, 'Glomerular Capillary Endothelial': 62, 'Inner Medullary Collecting Duct': 36753, 'Lymphatic Endothelial': 31, 'Mast': 220, 'Medullary Fibroblast': 40596, 'Medullary Thick Ascending Limb': 10959, 'Monocyte': 125, 'Monocyte-derived': 1070, 'Natural Killer / Natural Killer T': 188, 'Neutrophil': 62, 'Outer Medullary Collecting Duct Intercalated Type A': 3590, 'Outer Medullary Collecting Duct Principal': 1732, 'Papillary Tip Epithelial': 6897, 'Parietal Epithelial': 31, 'Peritubular Capilary Endothelial': 598, 'Plasma': 220, 'Proximal Tubule Epithelial Segment 1': 62, 'Proximal Tubule Epithelial Segment 3': 62, 'T': 1322, 'Tissue-resident Macrophage': 3495, 'Vascular Smooth Muscle / Pericyte': 5322},\n             ('VH_F_Kidney_R',\n              'VH_F_renal_pyramid_R_a'): {'Afferent / Efferent Arteriole Endothelial': 287, 'Ascending Thin Limb': 122, 'Ascending Vasa Recta Endothelial': 5503, 'Classical Dendritic': 70, 'Connecting Tubule': 122, 'Connecting Tubule Principal': 205, 'Cortical Collecting Duct Intercalated Type A': 220, 'Cortical Collecting Duct Principal': 93, 'Cortical Thick Ascending Limb': 6007, 'Cycling Mononuclear Phagocyte': 64, 'Descending Thin Limb Type 1': 11995, 'Descending Thin Limb Type 2': 3935, 'Descending Thin Limb Type 3': 374, 'Descending Vasa Recta Endothelial': 3486, 'Distal Convoluted Tubule Type 1': 64, 'Fibroblast': 326, 'Glomerular Capillary Endothelial': 170, 'Inner Medullary Collecting Duct': 93, 'Intercalated Type B': 141, 'Lymphatic Endothelial': 255, 'Macula Densa': 49, 'Medullary Fibroblast': 9534, 'Medullary Thick Ascending Limb': 29205, 'Monocyte': 120, 'Monocyte-derived': 688, 'Natural Killer / Natural Killer T': 282, 'Outer Medullary Collecting Duct Intercalated Type A': 2086, 'Outer Medullary Collecting Duct Principal': 2566, 'Papillary Tip Epithelial': 70, 'Parietal Epithelial': 141, 'Peritubular Capilary Endothelial': 1790, 'Plasma': 79, 'Podocyte': 353, 'Proximal Tubule Epithelial Segment 3': 630, 'T': 582, 'Tissue-resident Macrophage': 2795, 'Vascular Smooth Muscle / Pericyte': 1058, 'B': 58, 'Connecting Tubule Intercalated Type A': 29, 'Cortical Vascular Smooth Muscle / Pericyte': 116, 'Mast': 116, 'Neutrophil': 29, 'Proximal Tubule Epithelial Segment 1': 203, 'Schwann / Neural': 29},\n             ('VH_F_Kidney_L',\n              'VH_F_renal_pyramid_L_a'): {'Afferent / Efferent Arteriole Endothelial': 4421, 'Ascending Thin Limb': 22991, 'Ascending Vasa Recta Endothelial': 45098, 'Classical Dendritic': 884, 'Connecting Tubule': 7958, 'Connecting Tubule Principal': 2652, 'Cortical Collecting Duct Principal': 9727, 'Cortical Thick Ascending Limb': 1768, 'Descending Thin Limb Type 1': 48635, 'Descending Thin Limb Type 2': 14148, 'Descending Thin Limb Type 3': 49519, 'Descending Vasa Recta Endothelial': 22106, 'Distal Convoluted Tubule Type 1': 1768, 'Fibroblast': 884, 'Inner Medullary Collecting Duct': 127335, 'Lymphatic Endothelial': 1768, 'Macula Densa': 884, 'Mast': 16801, 'Medullary Fibroblast': 77816, 'Medullary Thick Ascending Limb': 2652, 'Monocyte': 884, 'Monocyte-derived': 9727, 'Natural Killer / Natural Killer T': 3537, 'Neutrophil': 2652, 'Outer Medullary Collecting Duct Principal': 39792, 'Papillary Tip Epithelial': 24759, 'Peritubular Capilary Endothelial': 20338, 'Plasma': 2652, 'Renin-positive Juxtaglomerular Granular': 884, 'T': 23875, 'Tissue-resident Macrophage': 9727, 'Vascular Smooth Muscle / Pericyte': 19454}})"
     },
     "execution_count": 47,
     "metadata": {},
     "output_type": "execute_result"
    }
   ],
   "source": [
    "result"
   ],
   "metadata": {
    "collapsed": false,
    "pycharm": {
     "name": "#%%\n"
    }
   }
  },
  {
   "cell_type": "code",
   "execution_count": 48,
   "outputs": [
    {
     "data": {
      "text/plain": "{'CD68 \\n/ Macrophage': 140151,\n 'T-Killer': 51356,\n 'T-reg': 183849,\n 'T-helper': 1313605}"
     },
     "execution_count": 48,
     "metadata": {},
     "output_type": "execute_result"
    }
   ],
   "source": [
    "result[('VH_M_Skin', 'VH_M_skin')]"
   ],
   "metadata": {
    "collapsed": false,
    "pycharm": {
     "name": "#%%\n"
    }
   }
  },
  {
   "cell_type": "code",
   "execution_count": 49,
   "outputs": [],
   "source": [
    "file_cell_type_count_per_AS = './csv/cell_type_count_per_AS.csv'\n",
    "\n",
    "with open(file_cell_type_count_per_AS, 'w', encoding='UTF-8', newline='') as f:\n",
    "    csv_writer = csv.writer(f)\n",
    "    for (organ, AS) in result:\n",
    "        dic_cell_type_count = result[(organ, AS)]\n",
    "\n",
    "        for cell_type, count in dic_cell_type_count.items():\n",
    "            csv_writer.writerow([organ, AS, cell_type, count])\n",
    "\n",
    "file_cell_type_count_per_AS_Skin = './csv/cell_type_count_per_AS_Skin.csv'\n",
    "with open(file_cell_type_count_per_AS_Skin, 'w', encoding='UTF-8', newline='') as f:\n",
    "    csv_writer = csv.writer(f)\n",
    "    for (organ, AS) in result:\n",
    "        if 'Skin' in organ:\n",
    "            dic_cell_type_count = result[(organ, AS)]\n",
    "\n",
    "            for cell_type, count in dic_cell_type_count.items():\n",
    "                csv_writer.writerow([organ, AS, cell_type, count])"
   ],
   "metadata": {
    "collapsed": false
   }
  },
  {
   "cell_type": "markdown",
   "source": [
    "Create a table: Tissue block by HuBMAP IDs | AS it collides with (1) | AS it collides with (1) |...| AS it collides with (n)"
   ],
   "metadata": {
    "collapsed": false,
    "pycharm": {
     "name": "#%% md\n"
    }
   }
  },
  {
   "cell_type": "code",
   "execution_count": 6,
   "outputs": [
    {
     "name": "stdout",
     "output_type": "stream",
     "text": [
      "HBM876.HTRX.668\n",
      "HBM537.GVTL.683\n",
      "HBM447.KCHB.778\n",
      "HBM552.PBBF.363\n",
      "HBM282.BKRZ.254\n",
      "HBM834.THPC.928\n",
      "HBM958.GZCX.985\n",
      "HBM684.TLPQ.738\n",
      "HBM476.VHDB.268\n",
      "HBM393.DZDZ.972\n",
      "HBM942.NXWW.245\n",
      "HBM427.KFXP.323\n",
      "HBM634.QQWF.789\n",
      "HBM664.LQSH.693\n",
      "HBM873.NSHG.559\n",
      "HBM258.HQCL.349\n",
      "HBM243.MTZV.726\n",
      "HBM252.JLSW.848\n",
      "HBM246.KBZS.276\n",
      "HBM495.ZFDT.229\n",
      "HBM242.HNLH.466\n",
      "HBM844.KXXX.692\n",
      "HBM979.KNQM.454\n",
      "HBM525.LRPL.332\n",
      "HBM332.KQWB.454\n",
      "HBM688.FLJB.475\n",
      "HBM347.MRTV.333\n",
      "HBM996.XSNK.694\n",
      "HBM669.GWVL.893\n",
      "HBM399.TFTQ.282\n",
      "HBM382.HNKL.447\n",
      "HBM537.LTFK.379\n",
      "HBM969.VNQL.553\n",
      "HBM892.MXFF.848\n",
      "HBM992.XNZH.647\n",
      "HBM574.NFCS.842\n",
      "HBM224.GLDC.549\n",
      "HBM264.RWRW.668\n",
      "HBM773.WCXC.264\n",
      "HBM268.RGJT.587\n",
      "HBM432.BPZM.698\n",
      "HBM578.SRZG.769\n",
      "HBM253.HFDZ.866\n",
      "HBM894.PGJZ.258\n",
      "HBM229.HKHH.537\n",
      "HBM865.PBJW.845\n",
      "HBM396.WPKL.954\n",
      "HBM839.TQNM.958\n",
      "HBM764.ZCQR.585\n",
      "HBM797.PDPS.368\n",
      "HBM982.TPNQ.737\n",
      "HBM375.ZKZZ.765\n",
      "HBM654.BKGL.942\n",
      "HBM639.SGGN.469\n",
      "HBM297.VBLS.984\n"
     ]
    }
   ],
   "source": [
    "file_mapping_rui_uuid_hubmap_id = './csv/mapping_rui_uuid_hubmap_id.csv'\n",
    "file_hubmap_id_collision_AS = \"./csv/hubmap_id_collision_AS.csv\"\n",
    "\n",
    "with open(file_mapping_rui_uuid_hubmap_id, 'r', encoding='UTF8') as f, open(file_hubmap_id_collision_AS, 'w', encoding='UTF-8', newline='') as f2:\n",
    "    csv_reader = csv.reader(f)\n",
    "    csv_writer = csv.writer(f2)\n",
    "    csv_writer.writerow(['HubMAP ID', 'ASs'])\n",
    "    i = 0\n",
    "\n",
    "    for row in csv_reader:\n",
    "\n",
    "        if i == 0:\n",
    "            i = 1\n",
    "            continue\n",
    "\n",
    "        hubmap_id, uuid, rui_url = row\n",
    "        print(hubmap_id)\n",
    "        get_response = requests.get(rui_url).json()\n",
    "        rui_location = get_response['rui_location']\n",
    "        post_response = requests.post(url=url_collision_detection, json=rui_location)\n",
    "\n",
    "        try:\n",
    "            post_response = post_response.json()\n",
    "            collision_AS = []\n",
    "            for AS_item in post_response:\n",
    "                # percentage_of_AS = AS_item['percentage_of_AS']\n",
    "                # organ = AS_item['organ']\n",
    "                node_name = AS_item['node_name']\n",
    "                collision_AS.append(node_name)\n",
    "            csv_writer.writerow([hubmap_id] + collision_AS)\n",
    "        except:\n",
    "            print(post_response.content)\n"
   ],
   "metadata": {
    "collapsed": false,
    "pycharm": {
     "name": "#%%\n"
    }
   }
  },
  {
   "cell_type": "code",
   "execution_count": 26,
   "outputs": [],
   "source": [
    "df_specification = pd.read_csv('csv/table5big-test.csv',  header=None)"
   ],
   "metadata": {
    "collapsed": false,
    "pycharm": {
     "name": "#%%\n"
    }
   }
  },
  {
   "cell_type": "code",
   "execution_count": 27,
   "outputs": [
    {
     "data": {
      "text/plain": "              0                          1                    2       3\n0     VH_M_Skin                  VH_M_skin  CD68 \\n/ Macrophage   62671\n1     VH_M_Skin                  VH_M_skin             T-Killer   14891\n2     VH_M_Skin                  VH_M_skin                T-reg   49951\n3     VH_M_Skin                  VH_M_skin             T-helper  532775\n4     VH_M_Skin                  VH_M_skin                 CD68    4035\n..          ...                        ...                  ...     ...\n508  VH_M_Heart  VH_M_right_cardiac_atrium           Fibroblast   97210\n509  VH_M_Heart  VH_M_right_cardiac_atrium                 Glia    3291\n510  VH_M_Heart  VH_M_right_cardiac_atrium  Immune (lymphocyte)   10531\n511  VH_M_Heart  VH_M_right_cardiac_atrium     Immune (myeloid)  119832\n512  VH_M_Heart  VH_M_right_cardiac_atrium               Muscle  110132\n\n[513 rows x 4 columns]",
      "text/html": "<div>\n<style scoped>\n    .dataframe tbody tr th:only-of-type {\n        vertical-align: middle;\n    }\n\n    .dataframe tbody tr th {\n        vertical-align: top;\n    }\n\n    .dataframe thead th {\n        text-align: right;\n    }\n</style>\n<table border=\"1\" class=\"dataframe\">\n  <thead>\n    <tr style=\"text-align: right;\">\n      <th></th>\n      <th>0</th>\n      <th>1</th>\n      <th>2</th>\n      <th>3</th>\n    </tr>\n  </thead>\n  <tbody>\n    <tr>\n      <th>0</th>\n      <td>VH_M_Skin</td>\n      <td>VH_M_skin</td>\n      <td>CD68 \\n/ Macrophage</td>\n      <td>62671</td>\n    </tr>\n    <tr>\n      <th>1</th>\n      <td>VH_M_Skin</td>\n      <td>VH_M_skin</td>\n      <td>T-Killer</td>\n      <td>14891</td>\n    </tr>\n    <tr>\n      <th>2</th>\n      <td>VH_M_Skin</td>\n      <td>VH_M_skin</td>\n      <td>T-reg</td>\n      <td>49951</td>\n    </tr>\n    <tr>\n      <th>3</th>\n      <td>VH_M_Skin</td>\n      <td>VH_M_skin</td>\n      <td>T-helper</td>\n      <td>532775</td>\n    </tr>\n    <tr>\n      <th>4</th>\n      <td>VH_M_Skin</td>\n      <td>VH_M_skin</td>\n      <td>CD68</td>\n      <td>4035</td>\n    </tr>\n    <tr>\n      <th>...</th>\n      <td>...</td>\n      <td>...</td>\n      <td>...</td>\n      <td>...</td>\n    </tr>\n    <tr>\n      <th>508</th>\n      <td>VH_M_Heart</td>\n      <td>VH_M_right_cardiac_atrium</td>\n      <td>Fibroblast</td>\n      <td>97210</td>\n    </tr>\n    <tr>\n      <th>509</th>\n      <td>VH_M_Heart</td>\n      <td>VH_M_right_cardiac_atrium</td>\n      <td>Glia</td>\n      <td>3291</td>\n    </tr>\n    <tr>\n      <th>510</th>\n      <td>VH_M_Heart</td>\n      <td>VH_M_right_cardiac_atrium</td>\n      <td>Immune (lymphocyte)</td>\n      <td>10531</td>\n    </tr>\n    <tr>\n      <th>511</th>\n      <td>VH_M_Heart</td>\n      <td>VH_M_right_cardiac_atrium</td>\n      <td>Immune (myeloid)</td>\n      <td>119832</td>\n    </tr>\n    <tr>\n      <th>512</th>\n      <td>VH_M_Heart</td>\n      <td>VH_M_right_cardiac_atrium</td>\n      <td>Muscle</td>\n      <td>110132</td>\n    </tr>\n  </tbody>\n</table>\n<p>513 rows × 4 columns</p>\n</div>"
     },
     "execution_count": 27,
     "metadata": {},
     "output_type": "execute_result"
    }
   ],
   "source": [
    "df_specification"
   ],
   "metadata": {
    "collapsed": false,
    "pycharm": {
     "name": "#%%\n"
    }
   }
  },
  {
   "cell_type": "code",
   "execution_count": 28,
   "outputs": [],
   "source": [
    "df_VH_F_Kidney_L = df_specification[df_specification.iloc[:, 0] == 'VH_F_Kidney_L']"
   ],
   "metadata": {
    "collapsed": false,
    "pycharm": {
     "name": "#%%\n"
    }
   }
  },
  {
   "cell_type": "code",
   "execution_count": 29,
   "outputs": [
    {
     "data": {
      "text/plain": "                 0                       1  \\\n148  VH_F_Kidney_L  VH_F_renal_pyramid_L_a   \n149  VH_F_Kidney_L  VH_F_renal_pyramid_L_a   \n150  VH_F_Kidney_L  VH_F_renal_pyramid_L_a   \n151  VH_F_Kidney_L  VH_F_renal_pyramid_L_a   \n152  VH_F_Kidney_L  VH_F_renal_pyramid_L_a   \n..             ...                     ...   \n350  VH_F_Kidney_L  VH_F_renal_pyramid_L_h   \n351  VH_F_Kidney_L  VH_F_renal_pyramid_L_h   \n352  VH_F_Kidney_L  VH_F_renal_pyramid_L_h   \n353  VH_F_Kidney_L  VH_F_renal_pyramid_L_h   \n354  VH_F_Kidney_L  VH_F_renal_pyramid_L_h   \n\n                                             2       3  \n148  Afferent / Efferent Arteriole Endothelial    1273  \n149                        Ascending Thin Limb    6621  \n150           Ascending Vasa Recta Endothelial   15025  \n151                        Classical Dendritic     254  \n152                          Connecting Tubule  213669  \n..                                         ...     ...  \n350          Vascular Smooth Muscle / Pericyte    1656  \n351         Descending Vasa Recta Endothelial      940  \n352            Distal Convoluted Tubule Type 1    5105  \n353                              M2 Macrophage    1388  \n354                        Parietal Epithelial      44  \n\n[162 rows x 4 columns]",
      "text/html": "<div>\n<style scoped>\n    .dataframe tbody tr th:only-of-type {\n        vertical-align: middle;\n    }\n\n    .dataframe tbody tr th {\n        vertical-align: top;\n    }\n\n    .dataframe thead th {\n        text-align: right;\n    }\n</style>\n<table border=\"1\" class=\"dataframe\">\n  <thead>\n    <tr style=\"text-align: right;\">\n      <th></th>\n      <th>0</th>\n      <th>1</th>\n      <th>2</th>\n      <th>3</th>\n    </tr>\n  </thead>\n  <tbody>\n    <tr>\n      <th>148</th>\n      <td>VH_F_Kidney_L</td>\n      <td>VH_F_renal_pyramid_L_a</td>\n      <td>Afferent / Efferent Arteriole Endothelial</td>\n      <td>1273</td>\n    </tr>\n    <tr>\n      <th>149</th>\n      <td>VH_F_Kidney_L</td>\n      <td>VH_F_renal_pyramid_L_a</td>\n      <td>Ascending Thin Limb</td>\n      <td>6621</td>\n    </tr>\n    <tr>\n      <th>150</th>\n      <td>VH_F_Kidney_L</td>\n      <td>VH_F_renal_pyramid_L_a</td>\n      <td>Ascending Vasa Recta Endothelial</td>\n      <td>15025</td>\n    </tr>\n    <tr>\n      <th>151</th>\n      <td>VH_F_Kidney_L</td>\n      <td>VH_F_renal_pyramid_L_a</td>\n      <td>Classical Dendritic</td>\n      <td>254</td>\n    </tr>\n    <tr>\n      <th>152</th>\n      <td>VH_F_Kidney_L</td>\n      <td>VH_F_renal_pyramid_L_a</td>\n      <td>Connecting Tubule</td>\n      <td>213669</td>\n    </tr>\n    <tr>\n      <th>...</th>\n      <td>...</td>\n      <td>...</td>\n      <td>...</td>\n      <td>...</td>\n    </tr>\n    <tr>\n      <th>350</th>\n      <td>VH_F_Kidney_L</td>\n      <td>VH_F_renal_pyramid_L_h</td>\n      <td>Vascular Smooth Muscle / Pericyte</td>\n      <td>1656</td>\n    </tr>\n    <tr>\n      <th>351</th>\n      <td>VH_F_Kidney_L</td>\n      <td>VH_F_renal_pyramid_L_h</td>\n      <td>Descending Vasa Recta Endothelial</td>\n      <td>940</td>\n    </tr>\n    <tr>\n      <th>352</th>\n      <td>VH_F_Kidney_L</td>\n      <td>VH_F_renal_pyramid_L_h</td>\n      <td>Distal Convoluted Tubule Type 1</td>\n      <td>5105</td>\n    </tr>\n    <tr>\n      <th>353</th>\n      <td>VH_F_Kidney_L</td>\n      <td>VH_F_renal_pyramid_L_h</td>\n      <td>M2 Macrophage</td>\n      <td>1388</td>\n    </tr>\n    <tr>\n      <th>354</th>\n      <td>VH_F_Kidney_L</td>\n      <td>VH_F_renal_pyramid_L_h</td>\n      <td>Parietal Epithelial</td>\n      <td>44</td>\n    </tr>\n  </tbody>\n</table>\n<p>162 rows × 4 columns</p>\n</div>"
     },
     "execution_count": 29,
     "metadata": {},
     "output_type": "execute_result"
    }
   ],
   "source": [
    "df_VH_F_Kidney_L"
   ],
   "metadata": {
    "collapsed": false,
    "pycharm": {
     "name": "#%%\n"
    }
   }
  },
  {
   "cell_type": "code",
   "execution_count": 31,
   "outputs": [],
   "source": [
    "df_VH_F_Kidney_L.to_csv('csv/specification_VH_F_Kidney_L.csv', index=False, header=None)"
   ],
   "metadata": {
    "collapsed": false,
    "pycharm": {
     "name": "#%%\n"
    }
   }
  },
  {
   "cell_type": "code",
   "execution_count": null,
   "outputs": [],
   "source": [],
   "metadata": {
    "collapsed": false,
    "pycharm": {
     "name": "#%%\n"
    }
   }
  }
 ],
 "metadata": {
  "kernelspec": {
   "display_name": "Python 3",
   "language": "python",
   "name": "python3"
  },
  "language_info": {
   "codemirror_mode": {
    "name": "ipython",
    "version": 2
   },
   "file_extension": ".py",
   "mimetype": "text/x-python",
   "name": "python",
   "nbconvert_exporter": "python",
   "pygments_lexer": "ipython2",
   "version": "2.7.6"
  }
 },
 "nbformat": 4,
 "nbformat_minor": 0
}