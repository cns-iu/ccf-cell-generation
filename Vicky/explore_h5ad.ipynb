{
 "cells": [
  {
   "cell_type": "code",
   "execution_count": 1,
   "metadata": {
    "collapsed": true
   },
   "outputs": [],
   "source": [
    "import os.path\n",
    "import os\n",
    "import scanpy as sc\n",
    "import anndata\n",
    "import pandas as pd\n",
    "import numpy as np"
   ]
  },
  {
   "cell_type": "code",
   "execution_count": 2,
   "outputs": [],
   "source": [
    "fn = './local.h5ad'\n",
    "adata_origin = sc.read_h5ad(fn)"
   ],
   "metadata": {
    "collapsed": false,
    "pycharm": {
     "name": "#%%\n"
    }
   }
  },
  {
   "cell_type": "code",
   "execution_count": 3,
   "outputs": [
    {
     "data": {
      "text/plain": "AnnData object with n_obs × n_vars = 486134 × 33234\n    obs: 'NRP', 'cell_source', 'donor_id', 'n_counts', 'n_genes', 'percent_mito', 'percent_ribo', 'sample', 'scrublet_score', 'source', 'type', 'cell_states', 'Used', 'disease_ontology_term_id', 'assay_ontology_term_id', 'cell_type_original', 'tissue_ontology_term_id', 'development_stage_ontology_term_id', 'cell_type_ontology_term_id', 'suspension_type', 'self_reported_ethnicity_ontology_term_id', 'sex_ontology_term_id', 'is_primary_data', 'organism_ontology_term_id', 'cell_type', 'assay', 'disease', 'organism', 'sex', 'tissue', 'self_reported_ethnicity', 'development_stage'\n    var: 'feature_is_filtered', 'feature_name', 'feature_reference', 'feature_biotype'\n    uns: 'cell_type_original_colors', 'schema_version', 'title'\n    obsm: 'X_pca', 'X_umap'"
     },
     "execution_count": 3,
     "metadata": {},
     "output_type": "execute_result"
    }
   ],
   "source": [
    "adata_origin"
   ],
   "metadata": {
    "collapsed": false,
    "pycharm": {
     "name": "#%%\n"
    }
   }
  },
  {
   "cell_type": "code",
   "execution_count": 4,
   "outputs": [
    {
     "data": {
      "text/plain": "                                    NRP     cell_source donor_id  n_counts  \\\nAAACCCAAGAACGCGT-1-H0015_apex        No  Harvard-Nuclei       H5     688.0   \nAAACCCAAGCAAACAT-1-H0015_apex        No  Harvard-Nuclei       H5    3216.0   \nAAACCCAAGCTACTGT-1-H0015_apex        No  Harvard-Nuclei       H5    3182.0   \nAAACCCAGTACCGCGT-1-H0015_apex        No  Harvard-Nuclei       H5    1202.0   \nAAACCCATCAAACCCA-1-H0015_apex        No  Harvard-Nuclei       H5    3804.0   \n...                                 ...             ...      ...       ...   \nTTTGTTGTCATACGGT-1-HCAHeart8102862  Yes     Sanger-CD45      D11    1619.0   \nTTTGTTGTCCTACCAC-1-HCAHeart8102862  Yes     Sanger-CD45      D11    1186.0   \nTTTGTTGTCGACGCTG-1-HCAHeart8102862  Yes     Sanger-CD45      D11    1672.0   \nTTTGTTGTCGGCTGAC-1-HCAHeart8102862  Yes     Sanger-CD45      D11    4676.0   \nTTTGTTGTCGGTGTTA-1-HCAHeart8102862  Yes     Sanger-CD45      D11    3144.0   \n\n                                    n_genes  percent_mito  percent_ribo  \\\nAAACCCAAGAACGCGT-1-H0015_apex           480      0.004360      0.002907   \nAAACCCAAGCAAACAT-1-H0015_apex          1365      0.000933      0.001244   \nAAACCCAAGCTACTGT-1-H0015_apex          1521      0.000943      0.002200   \nAAACCCAGTACCGCGT-1-H0015_apex           726      0.000832      0.000000   \nAAACCCATCAAACCCA-1-H0015_apex          1584      0.000263      0.001314   \n...                                     ...           ...           ...   \nTTTGTTGTCATACGGT-1-HCAHeart8102862      904      0.087708      0.024707   \nTTTGTTGTCCTACCAC-1-HCAHeart8102862      692      0.126476      0.015177   \nTTTGTTGTCGACGCTG-1-HCAHeart8102862      847      0.145335      0.044258   \nTTTGTTGTCGGCTGAC-1-HCAHeart8102862     1925      0.163388      0.044482   \nTTTGTTGTCGGTGTTA-1-HCAHeart8102862     1422      0.097010      0.026081   \n\n                                             sample  scrublet_score  source  \\\nAAACCCAAGAACGCGT-1-H0015_apex            H0015_apex        0.035917  Nuclei   \nAAACCCAAGCAAACAT-1-H0015_apex            H0015_apex        0.147122  Nuclei   \nAAACCCAAGCTACTGT-1-H0015_apex            H0015_apex        0.185751  Nuclei   \nAAACCCAGTACCGCGT-1-H0015_apex            H0015_apex        0.035917  Nuclei   \nAAACCCATCAAACCCA-1-H0015_apex            H0015_apex        0.108062  Nuclei   \n...                                             ...             ...     ...   \nTTTGTTGTCATACGGT-1-HCAHeart8102862  HCAHeart8102862        0.108062   CD45+   \nTTTGTTGTCCTACCAC-1-HCAHeart8102862  HCAHeart8102862        0.085546   CD45+   \nTTTGTTGTCGACGCTG-1-HCAHeart8102862  HCAHeart8102862        0.113475   CD45+   \nTTTGTTGTCGGCTGAC-1-HCAHeart8102862  HCAHeart8102862        0.042770   CD45+   \nTTTGTTGTCGGTGTTA-1-HCAHeart8102862  HCAHeart8102862        0.147122   CD45+   \n\n                                    ... is_primary_data  \\\nAAACCCAAGAACGCGT-1-H0015_apex       ...            True   \nAAACCCAAGCAAACAT-1-H0015_apex       ...            True   \nAAACCCAAGCTACTGT-1-H0015_apex       ...            True   \nAAACCCAGTACCGCGT-1-H0015_apex       ...            True   \nAAACCCATCAAACCCA-1-H0015_apex       ...            True   \n...                                 ...             ...   \nTTTGTTGTCATACGGT-1-HCAHeart8102862  ...            True   \nTTTGTTGTCCTACCAC-1-HCAHeart8102862  ...            True   \nTTTGTTGTCGACGCTG-1-HCAHeart8102862  ...            True   \nTTTGTTGTCGGCTGAC-1-HCAHeart8102862  ...            True   \nTTTGTTGTCGGTGTTA-1-HCAHeart8102862  ...            True   \n\n                                   organism_ontology_term_id  \\\nAAACCCAAGAACGCGT-1-H0015_apex                 NCBITaxon:9606   \nAAACCCAAGCAAACAT-1-H0015_apex                 NCBITaxon:9606   \nAAACCCAAGCTACTGT-1-H0015_apex                 NCBITaxon:9606   \nAAACCCAGTACCGCGT-1-H0015_apex                 NCBITaxon:9606   \nAAACCCATCAAACCCA-1-H0015_apex                 NCBITaxon:9606   \n...                                                      ...   \nTTTGTTGTCATACGGT-1-HCAHeart8102862            NCBITaxon:9606   \nTTTGTTGTCCTACCAC-1-HCAHeart8102862            NCBITaxon:9606   \nTTTGTTGTCGACGCTG-1-HCAHeart8102862            NCBITaxon:9606   \nTTTGTTGTCGGCTGAC-1-HCAHeart8102862            NCBITaxon:9606   \nTTTGTTGTCGGTGTTA-1-HCAHeart8102862            NCBITaxon:9606   \n\n                                                              cell_type  \\\nAAACCCAAGAACGCGT-1-H0015_apex                        smooth muscle cell   \nAAACCCAAGCAAACAT-1-H0015_apex       regular ventricular cardiac myocyte   \nAAACCCAAGCTACTGT-1-H0015_apex       regular ventricular cardiac myocyte   \nAAACCCAGTACCGCGT-1-H0015_apex                                  pericyte   \nAAACCCATCAAACCCA-1-H0015_apex       regular ventricular cardiac myocyte   \n...                                                                 ...   \nTTTGTTGTCATACGGT-1-HCAHeart8102862           capillary endothelial cell   \nTTTGTTGTCCTACCAC-1-HCAHeart8102862           capillary endothelial cell   \nTTTGTTGTCGACGCTG-1-HCAHeart8102862           capillary endothelial cell   \nTTTGTTGTCGGCTGAC-1-HCAHeart8102862           endothelial cell of artery   \nTTTGTTGTCGGTGTTA-1-HCAHeart8102862                     endothelial cell   \n\n                                        assay disease      organism     sex  \\\nAAACCCAAGAACGCGT-1-H0015_apex       10x 3' v3  normal  Homo sapiens  female   \nAAACCCAAGCAAACAT-1-H0015_apex       10x 3' v3  normal  Homo sapiens  female   \nAAACCCAAGCTACTGT-1-H0015_apex       10x 3' v3  normal  Homo sapiens  female   \nAAACCCAGTACCGCGT-1-H0015_apex       10x 3' v3  normal  Homo sapiens  female   \nAAACCCATCAAACCCA-1-H0015_apex       10x 3' v3  normal  Homo sapiens  female   \n...                                       ...     ...           ...     ...   \nTTTGTTGTCATACGGT-1-HCAHeart8102862  10x 3' v3  normal  Homo sapiens  female   \nTTTGTTGTCCTACCAC-1-HCAHeart8102862  10x 3' v3  normal  Homo sapiens  female   \nTTTGTTGTCGACGCTG-1-HCAHeart8102862  10x 3' v3  normal  Homo sapiens  female   \nTTTGTTGTCGGCTGAC-1-HCAHeart8102862  10x 3' v3  normal  Homo sapiens  female   \nTTTGTTGTCGGTGTTA-1-HCAHeart8102862  10x 3' v3  normal  Homo sapiens  female   \n\n                                           tissue self_reported_ethnicity  \\\nAAACCCAAGAACGCGT-1-H0015_apex       apex of heart                European   \nAAACCCAAGCAAACAT-1-H0015_apex       apex of heart                European   \nAAACCCAAGCTACTGT-1-H0015_apex       apex of heart                European   \nAAACCCAGTACCGCGT-1-H0015_apex       apex of heart                European   \nAAACCCATCAAACCCA-1-H0015_apex       apex of heart                European   \n...                                           ...                     ...   \nTTTGTTGTCATACGGT-1-HCAHeart8102862  apex of heart                European   \nTTTGTTGTCCTACCAC-1-HCAHeart8102862  apex of heart                European   \nTTTGTTGTCGACGCTG-1-HCAHeart8102862  apex of heart                European   \nTTTGTTGTCGGCTGAC-1-HCAHeart8102862  apex of heart                European   \nTTTGTTGTCGGTGTTA-1-HCAHeart8102862  apex of heart                European   \n\n                                             development_stage  \nAAACCCAAGAACGCGT-1-H0015_apex         sixth decade human stage  \nAAACCCAAGCAAACAT-1-H0015_apex         sixth decade human stage  \nAAACCCAAGCTACTGT-1-H0015_apex         sixth decade human stage  \nAAACCCAGTACCGCGT-1-H0015_apex         sixth decade human stage  \nAAACCCATCAAACCCA-1-H0015_apex         sixth decade human stage  \n...                                                        ...  \nTTTGTTGTCATACGGT-1-HCAHeart8102862  seventh decade human stage  \nTTTGTTGTCCTACCAC-1-HCAHeart8102862  seventh decade human stage  \nTTTGTTGTCGACGCTG-1-HCAHeart8102862  seventh decade human stage  \nTTTGTTGTCGGCTGAC-1-HCAHeart8102862  seventh decade human stage  \nTTTGTTGTCGGTGTTA-1-HCAHeart8102862  seventh decade human stage  \n\n[486134 rows x 32 columns]",
      "text/html": "<div>\n<style scoped>\n    .dataframe tbody tr th:only-of-type {\n        vertical-align: middle;\n    }\n\n    .dataframe tbody tr th {\n        vertical-align: top;\n    }\n\n    .dataframe thead th {\n        text-align: right;\n    }\n</style>\n<table border=\"1\" class=\"dataframe\">\n  <thead>\n    <tr style=\"text-align: right;\">\n      <th></th>\n      <th>NRP</th>\n      <th>cell_source</th>\n      <th>donor_id</th>\n      <th>n_counts</th>\n      <th>n_genes</th>\n      <th>percent_mito</th>\n      <th>percent_ribo</th>\n      <th>sample</th>\n      <th>scrublet_score</th>\n      <th>source</th>\n      <th>...</th>\n      <th>is_primary_data</th>\n      <th>organism_ontology_term_id</th>\n      <th>cell_type</th>\n      <th>assay</th>\n      <th>disease</th>\n      <th>organism</th>\n      <th>sex</th>\n      <th>tissue</th>\n      <th>self_reported_ethnicity</th>\n      <th>development_stage</th>\n    </tr>\n  </thead>\n  <tbody>\n    <tr>\n      <th>AAACCCAAGAACGCGT-1-H0015_apex</th>\n      <td>No</td>\n      <td>Harvard-Nuclei</td>\n      <td>H5</td>\n      <td>688.0</td>\n      <td>480</td>\n      <td>0.004360</td>\n      <td>0.002907</td>\n      <td>H0015_apex</td>\n      <td>0.035917</td>\n      <td>Nuclei</td>\n      <td>...</td>\n      <td>True</td>\n      <td>NCBITaxon:9606</td>\n      <td>smooth muscle cell</td>\n      <td>10x 3' v3</td>\n      <td>normal</td>\n      <td>Homo sapiens</td>\n      <td>female</td>\n      <td>apex of heart</td>\n      <td>European</td>\n      <td>sixth decade human stage</td>\n    </tr>\n    <tr>\n      <th>AAACCCAAGCAAACAT-1-H0015_apex</th>\n      <td>No</td>\n      <td>Harvard-Nuclei</td>\n      <td>H5</td>\n      <td>3216.0</td>\n      <td>1365</td>\n      <td>0.000933</td>\n      <td>0.001244</td>\n      <td>H0015_apex</td>\n      <td>0.147122</td>\n      <td>Nuclei</td>\n      <td>...</td>\n      <td>True</td>\n      <td>NCBITaxon:9606</td>\n      <td>regular ventricular cardiac myocyte</td>\n      <td>10x 3' v3</td>\n      <td>normal</td>\n      <td>Homo sapiens</td>\n      <td>female</td>\n      <td>apex of heart</td>\n      <td>European</td>\n      <td>sixth decade human stage</td>\n    </tr>\n    <tr>\n      <th>AAACCCAAGCTACTGT-1-H0015_apex</th>\n      <td>No</td>\n      <td>Harvard-Nuclei</td>\n      <td>H5</td>\n      <td>3182.0</td>\n      <td>1521</td>\n      <td>0.000943</td>\n      <td>0.002200</td>\n      <td>H0015_apex</td>\n      <td>0.185751</td>\n      <td>Nuclei</td>\n      <td>...</td>\n      <td>True</td>\n      <td>NCBITaxon:9606</td>\n      <td>regular ventricular cardiac myocyte</td>\n      <td>10x 3' v3</td>\n      <td>normal</td>\n      <td>Homo sapiens</td>\n      <td>female</td>\n      <td>apex of heart</td>\n      <td>European</td>\n      <td>sixth decade human stage</td>\n    </tr>\n    <tr>\n      <th>AAACCCAGTACCGCGT-1-H0015_apex</th>\n      <td>No</td>\n      <td>Harvard-Nuclei</td>\n      <td>H5</td>\n      <td>1202.0</td>\n      <td>726</td>\n      <td>0.000832</td>\n      <td>0.000000</td>\n      <td>H0015_apex</td>\n      <td>0.035917</td>\n      <td>Nuclei</td>\n      <td>...</td>\n      <td>True</td>\n      <td>NCBITaxon:9606</td>\n      <td>pericyte</td>\n      <td>10x 3' v3</td>\n      <td>normal</td>\n      <td>Homo sapiens</td>\n      <td>female</td>\n      <td>apex of heart</td>\n      <td>European</td>\n      <td>sixth decade human stage</td>\n    </tr>\n    <tr>\n      <th>AAACCCATCAAACCCA-1-H0015_apex</th>\n      <td>No</td>\n      <td>Harvard-Nuclei</td>\n      <td>H5</td>\n      <td>3804.0</td>\n      <td>1584</td>\n      <td>0.000263</td>\n      <td>0.001314</td>\n      <td>H0015_apex</td>\n      <td>0.108062</td>\n      <td>Nuclei</td>\n      <td>...</td>\n      <td>True</td>\n      <td>NCBITaxon:9606</td>\n      <td>regular ventricular cardiac myocyte</td>\n      <td>10x 3' v3</td>\n      <td>normal</td>\n      <td>Homo sapiens</td>\n      <td>female</td>\n      <td>apex of heart</td>\n      <td>European</td>\n      <td>sixth decade human stage</td>\n    </tr>\n    <tr>\n      <th>...</th>\n      <td>...</td>\n      <td>...</td>\n      <td>...</td>\n      <td>...</td>\n      <td>...</td>\n      <td>...</td>\n      <td>...</td>\n      <td>...</td>\n      <td>...</td>\n      <td>...</td>\n      <td>...</td>\n      <td>...</td>\n      <td>...</td>\n      <td>...</td>\n      <td>...</td>\n      <td>...</td>\n      <td>...</td>\n      <td>...</td>\n      <td>...</td>\n      <td>...</td>\n      <td>...</td>\n    </tr>\n    <tr>\n      <th>TTTGTTGTCATACGGT-1-HCAHeart8102862</th>\n      <td>Yes</td>\n      <td>Sanger-CD45</td>\n      <td>D11</td>\n      <td>1619.0</td>\n      <td>904</td>\n      <td>0.087708</td>\n      <td>0.024707</td>\n      <td>HCAHeart8102862</td>\n      <td>0.108062</td>\n      <td>CD45+</td>\n      <td>...</td>\n      <td>True</td>\n      <td>NCBITaxon:9606</td>\n      <td>capillary endothelial cell</td>\n      <td>10x 3' v3</td>\n      <td>normal</td>\n      <td>Homo sapiens</td>\n      <td>female</td>\n      <td>apex of heart</td>\n      <td>European</td>\n      <td>seventh decade human stage</td>\n    </tr>\n    <tr>\n      <th>TTTGTTGTCCTACCAC-1-HCAHeart8102862</th>\n      <td>Yes</td>\n      <td>Sanger-CD45</td>\n      <td>D11</td>\n      <td>1186.0</td>\n      <td>692</td>\n      <td>0.126476</td>\n      <td>0.015177</td>\n      <td>HCAHeart8102862</td>\n      <td>0.085546</td>\n      <td>CD45+</td>\n      <td>...</td>\n      <td>True</td>\n      <td>NCBITaxon:9606</td>\n      <td>capillary endothelial cell</td>\n      <td>10x 3' v3</td>\n      <td>normal</td>\n      <td>Homo sapiens</td>\n      <td>female</td>\n      <td>apex of heart</td>\n      <td>European</td>\n      <td>seventh decade human stage</td>\n    </tr>\n    <tr>\n      <th>TTTGTTGTCGACGCTG-1-HCAHeart8102862</th>\n      <td>Yes</td>\n      <td>Sanger-CD45</td>\n      <td>D11</td>\n      <td>1672.0</td>\n      <td>847</td>\n      <td>0.145335</td>\n      <td>0.044258</td>\n      <td>HCAHeart8102862</td>\n      <td>0.113475</td>\n      <td>CD45+</td>\n      <td>...</td>\n      <td>True</td>\n      <td>NCBITaxon:9606</td>\n      <td>capillary endothelial cell</td>\n      <td>10x 3' v3</td>\n      <td>normal</td>\n      <td>Homo sapiens</td>\n      <td>female</td>\n      <td>apex of heart</td>\n      <td>European</td>\n      <td>seventh decade human stage</td>\n    </tr>\n    <tr>\n      <th>TTTGTTGTCGGCTGAC-1-HCAHeart8102862</th>\n      <td>Yes</td>\n      <td>Sanger-CD45</td>\n      <td>D11</td>\n      <td>4676.0</td>\n      <td>1925</td>\n      <td>0.163388</td>\n      <td>0.044482</td>\n      <td>HCAHeart8102862</td>\n      <td>0.042770</td>\n      <td>CD45+</td>\n      <td>...</td>\n      <td>True</td>\n      <td>NCBITaxon:9606</td>\n      <td>endothelial cell of artery</td>\n      <td>10x 3' v3</td>\n      <td>normal</td>\n      <td>Homo sapiens</td>\n      <td>female</td>\n      <td>apex of heart</td>\n      <td>European</td>\n      <td>seventh decade human stage</td>\n    </tr>\n    <tr>\n      <th>TTTGTTGTCGGTGTTA-1-HCAHeart8102862</th>\n      <td>Yes</td>\n      <td>Sanger-CD45</td>\n      <td>D11</td>\n      <td>3144.0</td>\n      <td>1422</td>\n      <td>0.097010</td>\n      <td>0.026081</td>\n      <td>HCAHeart8102862</td>\n      <td>0.147122</td>\n      <td>CD45+</td>\n      <td>...</td>\n      <td>True</td>\n      <td>NCBITaxon:9606</td>\n      <td>endothelial cell</td>\n      <td>10x 3' v3</td>\n      <td>normal</td>\n      <td>Homo sapiens</td>\n      <td>female</td>\n      <td>apex of heart</td>\n      <td>European</td>\n      <td>seventh decade human stage</td>\n    </tr>\n  </tbody>\n</table>\n<p>486134 rows × 32 columns</p>\n</div>"
     },
     "execution_count": 4,
     "metadata": {},
     "output_type": "execute_result"
    }
   ],
   "source": [
    "adata_origin.obs"
   ],
   "metadata": {
    "collapsed": false,
    "pycharm": {
     "name": "#%%\n"
    }
   }
  },
  {
   "cell_type": "code",
   "execution_count": 5,
   "outputs": [],
   "source": [
    "dataset_name = adata_origin.uns['title']"
   ],
   "metadata": {
    "collapsed": false,
    "pycharm": {
     "name": "#%%\n"
    }
   }
  },
  {
   "cell_type": "code",
   "execution_count": 6,
   "outputs": [
    {
     "data": {
      "text/plain": "               tissue tissue_ontology_term_id     sex donor_id  \\\n0       apex of heart          UBERON:0002098  female       H5   \n1       apex of heart          UBERON:0002098  female       H5   \n2       apex of heart          UBERON:0002098  female       H5   \n3       apex of heart          UBERON:0002098  female       H5   \n4       apex of heart          UBERON:0002098  female       H5   \n...               ...                     ...     ...      ...   \n486129  apex of heart          UBERON:0002098  female      D11   \n486130  apex of heart          UBERON:0002098  female      D11   \n486131  apex of heart          UBERON:0002098  female      D11   \n486132  apex of heart          UBERON:0002098  female      D11   \n486133  apex of heart          UBERON:0002098  female      D11   \n\n                 development_stage      race cell_type_ontology_id  \\\n0         sixth decade human stage  European            CL:0000192   \n1         sixth decade human stage  European            CL:0002131   \n2         sixth decade human stage  European            CL:0002131   \n3         sixth decade human stage  European            CL:0000669   \n4         sixth decade human stage  European            CL:0002131   \n...                            ...       ...                   ...   \n486129  seventh decade human stage  European            CL:0002144   \n486130  seventh decade human stage  European            CL:0002144   \n486131  seventh decade human stage  European            CL:0002144   \n486132  seventh decade human stage  European            CL:1000413   \n486133  seventh decade human stage  European            CL:0000115   \n\n                                  cell_type disease  \\\n0                        smooth muscle cell  normal   \n1       regular ventricular cardiac myocyte  normal   \n2       regular ventricular cardiac myocyte  normal   \n3                                  pericyte  normal   \n4       regular ventricular cardiac myocyte  normal   \n...                                     ...     ...   \n486129           capillary endothelial cell  normal   \n486130           capillary endothelial cell  normal   \n486131           capillary endothelial cell  normal   \n486132           endothelial cell of artery  normal   \n486133                     endothelial cell  normal   \n\n                                dataset_name  \n0       All — Cells of the adult human heart  \n1       All — Cells of the adult human heart  \n2       All — Cells of the adult human heart  \n3       All — Cells of the adult human heart  \n4       All — Cells of the adult human heart  \n...                                      ...  \n486129  All — Cells of the adult human heart  \n486130  All — Cells of the adult human heart  \n486131  All — Cells of the adult human heart  \n486132  All — Cells of the adult human heart  \n486133  All — Cells of the adult human heart  \n\n[486134 rows x 10 columns]",
      "text/html": "<div>\n<style scoped>\n    .dataframe tbody tr th:only-of-type {\n        vertical-align: middle;\n    }\n\n    .dataframe tbody tr th {\n        vertical-align: top;\n    }\n\n    .dataframe thead th {\n        text-align: right;\n    }\n</style>\n<table border=\"1\" class=\"dataframe\">\n  <thead>\n    <tr style=\"text-align: right;\">\n      <th></th>\n      <th>tissue</th>\n      <th>tissue_ontology_term_id</th>\n      <th>sex</th>\n      <th>donor_id</th>\n      <th>development_stage</th>\n      <th>race</th>\n      <th>cell_type_ontology_id</th>\n      <th>cell_type</th>\n      <th>disease</th>\n      <th>dataset_name</th>\n    </tr>\n  </thead>\n  <tbody>\n    <tr>\n      <th>0</th>\n      <td>apex of heart</td>\n      <td>UBERON:0002098</td>\n      <td>female</td>\n      <td>H5</td>\n      <td>sixth decade human stage</td>\n      <td>European</td>\n      <td>CL:0000192</td>\n      <td>smooth muscle cell</td>\n      <td>normal</td>\n      <td>All — Cells of the adult human heart</td>\n    </tr>\n    <tr>\n      <th>1</th>\n      <td>apex of heart</td>\n      <td>UBERON:0002098</td>\n      <td>female</td>\n      <td>H5</td>\n      <td>sixth decade human stage</td>\n      <td>European</td>\n      <td>CL:0002131</td>\n      <td>regular ventricular cardiac myocyte</td>\n      <td>normal</td>\n      <td>All — Cells of the adult human heart</td>\n    </tr>\n    <tr>\n      <th>2</th>\n      <td>apex of heart</td>\n      <td>UBERON:0002098</td>\n      <td>female</td>\n      <td>H5</td>\n      <td>sixth decade human stage</td>\n      <td>European</td>\n      <td>CL:0002131</td>\n      <td>regular ventricular cardiac myocyte</td>\n      <td>normal</td>\n      <td>All — Cells of the adult human heart</td>\n    </tr>\n    <tr>\n      <th>3</th>\n      <td>apex of heart</td>\n      <td>UBERON:0002098</td>\n      <td>female</td>\n      <td>H5</td>\n      <td>sixth decade human stage</td>\n      <td>European</td>\n      <td>CL:0000669</td>\n      <td>pericyte</td>\n      <td>normal</td>\n      <td>All — Cells of the adult human heart</td>\n    </tr>\n    <tr>\n      <th>4</th>\n      <td>apex of heart</td>\n      <td>UBERON:0002098</td>\n      <td>female</td>\n      <td>H5</td>\n      <td>sixth decade human stage</td>\n      <td>European</td>\n      <td>CL:0002131</td>\n      <td>regular ventricular cardiac myocyte</td>\n      <td>normal</td>\n      <td>All — Cells of the adult human heart</td>\n    </tr>\n    <tr>\n      <th>...</th>\n      <td>...</td>\n      <td>...</td>\n      <td>...</td>\n      <td>...</td>\n      <td>...</td>\n      <td>...</td>\n      <td>...</td>\n      <td>...</td>\n      <td>...</td>\n      <td>...</td>\n    </tr>\n    <tr>\n      <th>486129</th>\n      <td>apex of heart</td>\n      <td>UBERON:0002098</td>\n      <td>female</td>\n      <td>D11</td>\n      <td>seventh decade human stage</td>\n      <td>European</td>\n      <td>CL:0002144</td>\n      <td>capillary endothelial cell</td>\n      <td>normal</td>\n      <td>All — Cells of the adult human heart</td>\n    </tr>\n    <tr>\n      <th>486130</th>\n      <td>apex of heart</td>\n      <td>UBERON:0002098</td>\n      <td>female</td>\n      <td>D11</td>\n      <td>seventh decade human stage</td>\n      <td>European</td>\n      <td>CL:0002144</td>\n      <td>capillary endothelial cell</td>\n      <td>normal</td>\n      <td>All — Cells of the adult human heart</td>\n    </tr>\n    <tr>\n      <th>486131</th>\n      <td>apex of heart</td>\n      <td>UBERON:0002098</td>\n      <td>female</td>\n      <td>D11</td>\n      <td>seventh decade human stage</td>\n      <td>European</td>\n      <td>CL:0002144</td>\n      <td>capillary endothelial cell</td>\n      <td>normal</td>\n      <td>All — Cells of the adult human heart</td>\n    </tr>\n    <tr>\n      <th>486132</th>\n      <td>apex of heart</td>\n      <td>UBERON:0002098</td>\n      <td>female</td>\n      <td>D11</td>\n      <td>seventh decade human stage</td>\n      <td>European</td>\n      <td>CL:1000413</td>\n      <td>endothelial cell of artery</td>\n      <td>normal</td>\n      <td>All — Cells of the adult human heart</td>\n    </tr>\n    <tr>\n      <th>486133</th>\n      <td>apex of heart</td>\n      <td>UBERON:0002098</td>\n      <td>female</td>\n      <td>D11</td>\n      <td>seventh decade human stage</td>\n      <td>European</td>\n      <td>CL:0000115</td>\n      <td>endothelial cell</td>\n      <td>normal</td>\n      <td>All — Cells of the adult human heart</td>\n    </tr>\n  </tbody>\n</table>\n<p>486134 rows × 10 columns</p>\n</div>"
     },
     "execution_count": 6,
     "metadata": {},
     "output_type": "execute_result"
    }
   ],
   "source": [
    "columns = [\n",
    "                'tissue',\n",
    "                'tissue_ontology_term_id',\n",
    "                'sex',\n",
    "                'donor_id',\n",
    "                'development_stage',\n",
    "                'self_reported_ethnicity',\n",
    "                'cell_type_ontology_term_id',\n",
    "                'cell_type',\n",
    "                'disease'\n",
    "                ]\n",
    "new_data = pd.DataFrame(adata_origin.obs[columns])\n",
    "new_data = new_data.reset_index()\n",
    "new_data = new_data.drop(['index'],axis=1)\n",
    "new_data.rename(columns={'cell_type_ontology_term_id': 'cell_type_ontology_id', 'self_reported_ethnicity': 'race'}, inplace=True)\n",
    "new_data['dataset_name'] = dataset_name\n",
    "new_data = new_data.loc[new_data.disease == 'normal', :]\n",
    "new_data"
   ],
   "metadata": {
    "collapsed": false,
    "pycharm": {
     "name": "#%%\n"
    }
   }
  },
  {
   "cell_type": "code",
   "execution_count": 8,
   "outputs": [],
   "source": [
    "\n",
    "group_by_cols = [\n",
    "        'dataset_name',\n",
    "        'donor_id',\n",
    "        'tissue',\n",
    "        'tissue_ontology_term_id',\n",
    "        'cell_type',\n",
    "        'cell_type_ontology_id',\n",
    "        'sex',\n",
    "        'development_stage',\n",
    "        'race',\n",
    "    ]\n",
    "df_summary = new_data.groupby(group_by_cols).agg(count = ('disease', 'count'))\n",
    "df_summary = df_summary[df_summary['count'] > 0]"
   ],
   "metadata": {
    "collapsed": false,
    "pycharm": {
     "name": "#%%\n"
    }
   }
  },
  {
   "cell_type": "code",
   "execution_count": 9,
   "outputs": [
    {
     "data": {
      "text/plain": "                              dataset_name donor_id               tissue  \\\n0     All — Cells of the adult human heart       D1  left cardiac atrium   \n1     All — Cells of the adult human heart       D1  left cardiac atrium   \n2     All — Cells of the adult human heart       D1  left cardiac atrium   \n3     All — Cells of the adult human heart       D1  left cardiac atrium   \n4     All — Cells of the adult human heart       D1  left cardiac atrium   \n...                                    ...      ...                  ...   \n1897  All — Cells of the adult human heart       H7        apex of heart   \n1898  All — Cells of the adult human heart       H7        apex of heart   \n1899  All — Cells of the adult human heart       H7        apex of heart   \n1900  All — Cells of the adult human heart       H7        apex of heart   \n1901  All — Cells of the adult human heart       H7        apex of heart   \n\n     tissue_ontology_term_id                              cell_type  \\\n0             UBERON:0002079                            native cell   \n1             UBERON:0002079                             fibroblast   \n2             UBERON:0002079                       mesothelial cell   \n3             UBERON:0002079                       endothelial cell   \n4             UBERON:0002079                     smooth muscle cell   \n...                      ...                                    ...   \n1897          UBERON:0002098                            neural cell   \n1898          UBERON:0002098  CD14-positive, CD16-positive monocyte   \n1899          UBERON:0002098                  vein endothelial cell   \n1900          UBERON:0002098                   epicardial adipocyte   \n1901          UBERON:0002098             endothelial cell of artery   \n\n     cell_type_ontology_id     sex         development_stage      race  count  \n0               CL:0000003  female  sixth decade human stage  European     39  \n1               CL:0000057  female  sixth decade human stage  European    355  \n2               CL:0000077  female  sixth decade human stage  European      1  \n3               CL:0000115  female  sixth decade human stage  European     22  \n4               CL:0000192  female  sixth decade human stage  European     10  \n...                    ...     ...                       ...       ...    ...  \n1897            CL:0002319  female  fifth decade human stage  European     24  \n1898            CL:0002397  female  fifth decade human stage  European      2  \n1899            CL:0002543  female  fifth decade human stage  European     16  \n1900            CL:1000309  female  fifth decade human stage  European    111  \n1901            CL:1000413  female  fifth decade human stage  European     21  \n\n[1902 rows x 10 columns]",
      "text/html": "<div>\n<style scoped>\n    .dataframe tbody tr th:only-of-type {\n        vertical-align: middle;\n    }\n\n    .dataframe tbody tr th {\n        vertical-align: top;\n    }\n\n    .dataframe thead th {\n        text-align: right;\n    }\n</style>\n<table border=\"1\" class=\"dataframe\">\n  <thead>\n    <tr style=\"text-align: right;\">\n      <th></th>\n      <th>dataset_name</th>\n      <th>donor_id</th>\n      <th>tissue</th>\n      <th>tissue_ontology_term_id</th>\n      <th>cell_type</th>\n      <th>cell_type_ontology_id</th>\n      <th>sex</th>\n      <th>development_stage</th>\n      <th>race</th>\n      <th>count</th>\n    </tr>\n  </thead>\n  <tbody>\n    <tr>\n      <th>0</th>\n      <td>All — Cells of the adult human heart</td>\n      <td>D1</td>\n      <td>left cardiac atrium</td>\n      <td>UBERON:0002079</td>\n      <td>native cell</td>\n      <td>CL:0000003</td>\n      <td>female</td>\n      <td>sixth decade human stage</td>\n      <td>European</td>\n      <td>39</td>\n    </tr>\n    <tr>\n      <th>1</th>\n      <td>All — Cells of the adult human heart</td>\n      <td>D1</td>\n      <td>left cardiac atrium</td>\n      <td>UBERON:0002079</td>\n      <td>fibroblast</td>\n      <td>CL:0000057</td>\n      <td>female</td>\n      <td>sixth decade human stage</td>\n      <td>European</td>\n      <td>355</td>\n    </tr>\n    <tr>\n      <th>2</th>\n      <td>All — Cells of the adult human heart</td>\n      <td>D1</td>\n      <td>left cardiac atrium</td>\n      <td>UBERON:0002079</td>\n      <td>mesothelial cell</td>\n      <td>CL:0000077</td>\n      <td>female</td>\n      <td>sixth decade human stage</td>\n      <td>European</td>\n      <td>1</td>\n    </tr>\n    <tr>\n      <th>3</th>\n      <td>All — Cells of the adult human heart</td>\n      <td>D1</td>\n      <td>left cardiac atrium</td>\n      <td>UBERON:0002079</td>\n      <td>endothelial cell</td>\n      <td>CL:0000115</td>\n      <td>female</td>\n      <td>sixth decade human stage</td>\n      <td>European</td>\n      <td>22</td>\n    </tr>\n    <tr>\n      <th>4</th>\n      <td>All — Cells of the adult human heart</td>\n      <td>D1</td>\n      <td>left cardiac atrium</td>\n      <td>UBERON:0002079</td>\n      <td>smooth muscle cell</td>\n      <td>CL:0000192</td>\n      <td>female</td>\n      <td>sixth decade human stage</td>\n      <td>European</td>\n      <td>10</td>\n    </tr>\n    <tr>\n      <th>...</th>\n      <td>...</td>\n      <td>...</td>\n      <td>...</td>\n      <td>...</td>\n      <td>...</td>\n      <td>...</td>\n      <td>...</td>\n      <td>...</td>\n      <td>...</td>\n      <td>...</td>\n    </tr>\n    <tr>\n      <th>1897</th>\n      <td>All — Cells of the adult human heart</td>\n      <td>H7</td>\n      <td>apex of heart</td>\n      <td>UBERON:0002098</td>\n      <td>neural cell</td>\n      <td>CL:0002319</td>\n      <td>female</td>\n      <td>fifth decade human stage</td>\n      <td>European</td>\n      <td>24</td>\n    </tr>\n    <tr>\n      <th>1898</th>\n      <td>All — Cells of the adult human heart</td>\n      <td>H7</td>\n      <td>apex of heart</td>\n      <td>UBERON:0002098</td>\n      <td>CD14-positive, CD16-positive monocyte</td>\n      <td>CL:0002397</td>\n      <td>female</td>\n      <td>fifth decade human stage</td>\n      <td>European</td>\n      <td>2</td>\n    </tr>\n    <tr>\n      <th>1899</th>\n      <td>All — Cells of the adult human heart</td>\n      <td>H7</td>\n      <td>apex of heart</td>\n      <td>UBERON:0002098</td>\n      <td>vein endothelial cell</td>\n      <td>CL:0002543</td>\n      <td>female</td>\n      <td>fifth decade human stage</td>\n      <td>European</td>\n      <td>16</td>\n    </tr>\n    <tr>\n      <th>1900</th>\n      <td>All — Cells of the adult human heart</td>\n      <td>H7</td>\n      <td>apex of heart</td>\n      <td>UBERON:0002098</td>\n      <td>epicardial adipocyte</td>\n      <td>CL:1000309</td>\n      <td>female</td>\n      <td>fifth decade human stage</td>\n      <td>European</td>\n      <td>111</td>\n    </tr>\n    <tr>\n      <th>1901</th>\n      <td>All — Cells of the adult human heart</td>\n      <td>H7</td>\n      <td>apex of heart</td>\n      <td>UBERON:0002098</td>\n      <td>endothelial cell of artery</td>\n      <td>CL:1000413</td>\n      <td>female</td>\n      <td>fifth decade human stage</td>\n      <td>European</td>\n      <td>21</td>\n    </tr>\n  </tbody>\n</table>\n<p>1902 rows × 10 columns</p>\n</div>"
     },
     "execution_count": 9,
     "metadata": {},
     "output_type": "execute_result"
    }
   ],
   "source": [
    "df_final = df_summary.reset_index()\n",
    "df_final"
   ],
   "metadata": {
    "collapsed": false,
    "pycharm": {
     "name": "#%%\n"
    }
   }
  },
  {
   "cell_type": "code",
   "execution_count": 10,
   "outputs": [],
   "source": [
    "def split_csv(df, dataset_id, output_dir):\n",
    "\n",
    "    if not os.path.exists(output_dir):\n",
    "        os.makedirs(output_dir)\n",
    "\n",
    "    donor_ids = set(df['donor_id'])\n",
    "    tissues = set(df['tissue'])\n",
    "    for donor in donor_ids:\n",
    "        for tissue in tissues:\n",
    "            df_split = df_final[(df_final['donor_id'] == donor) & (df_final['tissue'] == tissue)]\n",
    "            if df_split.empty:\n",
    "                print(donor, tissue)\n",
    "                continue\n",
    "            df_split_file_name = \" \".join([dataset_id, donor, 'Heart', tissue]) + '.csv'\n",
    "            df_split_file_name = df_split_file_name.replace(' ', '_')\n",
    "            df_split.to_csv(os.path.join(output_dir, df_split_file_name), index=False)\n"
   ],
   "metadata": {
    "collapsed": false,
    "pycharm": {
     "name": "#%%\n"
    }
   }
  },
  {
   "cell_type": "code",
   "execution_count": 11,
   "outputs": [
    {
     "name": "stdout",
     "output_type": "stream",
     "text": [
      "D1 interventricular septum\n",
      "D1 right cardiac atrium\n"
     ]
    }
   ],
   "source": [
    "dataset_id = 'b4c3c03b-99cd-407a-a824-1875e00a04ad'\n",
    "output_dir = './tissue-bar-graph-portal-Lu/Heart_CxG_Portal'\n",
    "split_csv(df_final, dataset_id, output_dir)"
   ],
   "metadata": {
    "collapsed": false,
    "pycharm": {
     "name": "#%%\n"
    }
   }
  },
  {
   "cell_type": "code",
   "execution_count": null,
   "outputs": [],
   "source": [],
   "metadata": {
    "collapsed": false,
    "pycharm": {
     "name": "#%%\n"
    }
   }
  }
 ],
 "metadata": {
  "kernelspec": {
   "display_name": "Python 3",
   "language": "python",
   "name": "python3"
  },
  "language_info": {
   "codemirror_mode": {
    "name": "ipython",
    "version": 2
   },
   "file_extension": ".py",
   "mimetype": "text/x-python",
   "name": "python",
   "nbconvert_exporter": "python",
   "pygments_lexer": "ipython2",
   "version": "2.7.6"
  }
 },
 "nbformat": 4,
 "nbformat_minor": 0
}